{
 "cells": [
  {
   "cell_type": "code",
   "execution_count": 6,
   "id": "eec284b4",
   "metadata": {},
   "outputs": [
    {
     "name": "stdout",
     "output_type": "stream",
     "text": [
      "        left      right       top    bottom  name  \\\n",
      "0 -63.210069 -63.164075 -0.532219 -0.578213     0   \n",
      "1 -63.210069 -63.164075 -0.624207 -0.670200     1   \n",
      "2 -63.210069 -63.164075 -0.670200 -0.716194     2   \n",
      "3 -63.210069 -63.164075 -0.716194 -0.762188     3   \n",
      "4 -63.210069 -63.164075 -0.756439 -0.802432     4   \n",
      "\n",
      "                                            geometry  \n",
      "0  POLYGON ((-63.16408 -0.57821, -63.16408 -0.532...  \n",
      "1  POLYGON ((-63.16408 -0.6702, -63.16408 -0.6242...  \n",
      "2  POLYGON ((-63.16408 -0.71619, -63.16408 -0.670...  \n",
      "3  POLYGON ((-63.16408 -0.76219, -63.16408 -0.716...  \n",
      "4  POLYGON ((-63.16408 -0.80243, -63.16408 -0.756...  \n",
      "EPSG:4326\n",
      "[-68.94673277  -8.11069501 -47.44382241   1.29563027]\n"
     ]
    }
   ],
   "source": [
    "import pandas as pd\n",
    "import geopandas as gpd\n",
    "from shapely.geometry import box\n",
    "\n",
    "# Read the CSV\n",
    "df = pd.read_csv(\"Coordinates_GEE.csv\")\n",
    "\n",
    "# Create polygons from bounding box\n",
    "df['geometry'] = df.apply(lambda row: box(row['left'], row['bottom'], row['right'], row['top']), axis=1)\n",
    "\n",
    "# Convert to GeoDataFrame\n",
    "gdf = gpd.GeoDataFrame(df, geometry='geometry')\n",
    "\n",
    "# Set CRS to WGS84 (EPSG:4326)\n",
    "gdf.set_crs(epsg=4326, inplace=True)\n",
    "\n",
    "# Save as shapefile\n",
    "print(gdf.head())\n",
    "print(gdf.crs)\n",
    "print(gdf.total_bounds)\n",
    "gdf.to_file(\"bounding_boxes.shp\")\n"
   ]
  },
  {
   "cell_type": "code",
   "execution_count": 5,
   "id": "c68db7db",
   "metadata": {},
   "outputs": [],
   "source": [
    "import simplekml\n",
    "kml = simplekml.Kml()\n",
    "\n",
    "# Add polygons to KML\n",
    "for idx, row in df.iterrows():\n",
    "    coords = [\n",
    "        (row['left'], row['bottom']),\n",
    "        (row['left'], row['top']),\n",
    "        (row['right'], row['top']),\n",
    "        (row['right'], row['bottom']),\n",
    "        (row['left'], row['bottom'])  # close the polygon\n",
    "    ]\n",
    "    pol = kml.newpolygon(name=f\"Box {idx+1}\", outerboundaryis=coords)\n",
    "    # pol.style.polystyle.color = simplekml.Color.changealphaint(100, simplekml.Color.blue)\n",
    "    \n",
    "    pol.style.polystyle.color = simplekml.Color.changealphaint(0, simplekml.Color.red)  # fill color\n",
    "    pol.style.linestyle.color = simplekml.Color.black  # outline color\n",
    "    pol.style.linestyle.width = 2\n",
    "\n",
    "# Save KML file\n",
    "kml.save(\"bounding_boxes.kml\")"
   ]
  }
 ],
 "metadata": {
  "kernelspec": {
   "display_name": "tf_gpu",
   "language": "python",
   "name": "python3"
  },
  "language_info": {
   "codemirror_mode": {
    "name": "ipython",
    "version": 3
   },
   "file_extension": ".py",
   "mimetype": "text/x-python",
   "name": "python",
   "nbconvert_exporter": "python",
   "pygments_lexer": "ipython3",
   "version": "3.10.16"
  }
 },
 "nbformat": 4,
 "nbformat_minor": 5
}
