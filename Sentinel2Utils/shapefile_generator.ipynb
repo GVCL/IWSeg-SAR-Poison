{
 "cells": [
  {
   "cell_type": "code",
   "execution_count": null,
   "id": "eec284b4",
   "metadata": {},
   "outputs": [
    {
     "name": "stdout",
     "output_type": "stream",
     "text": [
      "        left      right       top    bottom  name  \\\n",
      "0 -63.210069 -63.164075 -0.532219 -0.578213     0   \n",
      "1 -63.210069 -63.164075 -0.624207 -0.670200     1   \n",
      "2 -63.210069 -63.164075 -0.670200 -0.716194     2   \n",
      "3 -63.210069 -63.164075 -0.716194 -0.762188     3   \n",
      "4 -63.210069 -63.164075 -0.756439 -0.802432     4   \n",
      "\n",
      "                                            geometry  \n",
      "0  POLYGON ((-63.16408 -0.57821, -63.16408 -0.532...  \n",
      "1  POLYGON ((-63.16408 -0.6702, -63.16408 -0.6242...  \n",
      "2  POLYGON ((-63.16408 -0.71619, -63.16408 -0.670...  \n",
      "3  POLYGON ((-63.16408 -0.76219, -63.16408 -0.716...  \n",
      "4  POLYGON ((-63.16408 -0.80243, -63.16408 -0.756...  \n",
      "EPSG:4326\n",
      "[-68.94673277  -8.11069501 -47.44382241   1.29563027]\n"
     ]
    }
   ],
   "source": [
    "# import pandas as pd\n",
    "# import geopandas as gpd\n",
    "# from shapely.geometry import box\n",
    "\n",
    "# # Read the CSV\n",
    "# df = pd.read_csv(\"Coordinates_GEE.csv\")\n",
    "\n",
    "# # Create polygons from bounding box\n",
    "# df['geometry'] = df.apply(lambda row: box(row['left'], row['bottom'], row['right'], row['top']), axis=1)\n",
    "\n",
    "# # Convert to GeoDataFrame\n",
    "# gdf = gpd.GeoDataFrame(df, geometry='geometry')\n",
    "\n",
    "# # Set CRS to WGS84 (EPSG:4326)\n",
    "# gdf.set_crs(epsg=4326, inplace=True)\n",
    "\n",
    "# # Save as shapefile\n",
    "# print(gdf.head())\n",
    "# print(gdf.crs)\n",
    "# print(gdf.total_bounds)\n",
    "# gdf.to_file(\"bounding_boxes.shp\")\n"
   ]
  },
  {
   "cell_type": "code",
   "execution_count": null,
   "id": "c68db7db",
   "metadata": {},
   "outputs": [],
   "source": [
    "# import simplekml\n",
    "# kml = simplekml.Kml()\n",
    "\n",
    "# # Add polygons to KML\n",
    "# for idx, row in df.iterrows():\n",
    "#     coords = [\n",
    "#         (row['left'], row['bottom']),\n",
    "#         (row['left'], row['top']),\n",
    "#         (row['right'], row['top']),\n",
    "#         (row['right'], row['bottom']),\n",
    "#         (row['left'], row['bottom'])  # close the polygon\n",
    "#     ]\n",
    "#     pol = kml.newpolygon(name=f\"Box {idx+1}\", outerboundaryis=coords)\n",
    "#     # pol.style.polystyle.color = simplekml.Color.changealphaint(100, simplekml.Color.blue)\n",
    "    \n",
    "#     pol.style.polystyle.color = simplekml.Color.changealphaint(0, simplekml.Color.red)  # fill color\n",
    "#     pol.style.linestyle.color = simplekml.Color.black  # outline color\n",
    "#     pol.style.linestyle.width = 2\n",
    "\n",
    "# # Save KML file\n",
    "# kml.save(\"bounding_boxes.kml\")"
   ]
  },
  {
   "cell_type": "code",
   "execution_count": 3,
   "id": "5f0573e3",
   "metadata": {},
   "outputs": [
    {
     "name": "stdout",
     "output_type": "stream",
     "text": [
      "Total unique area covered: 25194.73 square kilometers\n"
     ]
    },
    {
     "name": "stderr",
     "output_type": "stream",
     "text": [
      "C:\\Users\\ADMIN\\AppData\\Local\\Temp\\ipykernel_21344\\4242552110.py:10: DeprecationWarning: The 'unary_union' attribute is deprecated, use the 'union_all()' method instead.\n",
      "  merged_geom = gdf_equal_area.unary_union\n"
     ]
    }
   ],
   "source": [
    "import geopandas as gpd\n",
    "\n",
    "# Step 1: Read the shapefile\n",
    "gdf = gpd.read_file('bounding_boxes.shp')\n",
    "\n",
    "# Step 2: Reproject to equal-area projection\n",
    "gdf_equal_area = gdf.to_crs('EPSG:6933')  # or other equal-area CRS\n",
    "\n",
    "# Step 3: Union all geometries to handle overlaps\n",
    "merged_geom = gdf_equal_area.unary_union\n",
    "\n",
    "# Step 4: Calculate area (merged)\n",
    "total_area_m2 = merged_geom.area\n",
    "\n",
    "# Step 5: Convert to sq km\n",
    "total_area_km2 = total_area_m2 / 1e6\n",
    "\n",
    "print(f\"Total unique area covered: {total_area_km2:.2f} square kilometers\")"
   ]
  },
  {
   "cell_type": "code",
   "execution_count": 3,
   "id": "daef11df",
   "metadata": {},
   "outputs": [],
   "source": [
    "import pandas as pd\n",
    "import geopandas as gpd\n",
    "from shapely.geometry import box\n",
    "import simplekml\n",
    "\n",
    "df = pd.read_csv('Coordinates_GEE(in).csv')  # or use pd.read_excel, etc.\n",
    "\n",
    "# Step 2: Create bounding box geometries\n",
    "df['geometry'] = df.apply(lambda row: box(row['left'], row['bottom'], row['right'], row['top']), axis=1)\n",
    "\n",
    "# Step 3: Convert to GeoDataFrame\n",
    "gdf = gpd.GeoDataFrame(df, geometry='geometry')\n",
    "gdf.set_crs(\"EPSG:4326\", inplace=True)  # Set your CRS here if known\n",
    "\n",
    "# Step 4: Split into two GeoDataFrames\n",
    "gdf_yes = gdf[gdf['correct'].str.lower() == 'yes']\n",
    "gdf_no = gdf[gdf['correct'].str.lower() == 'no']\n",
    "\n",
    "# Step 5: Save as shapefiles\n",
    "gdf_yes.to_file('bounding_boxes_correct_yes.shp')\n",
    "gdf_no.to_file('bounding_boxes_correct_no.shp')"
   ]
  },
  {
   "cell_type": "code",
   "execution_count": 4,
   "id": "39d9929a",
   "metadata": {},
   "outputs": [],
   "source": [
    "def create_kml(df_subset, filename, color_hex):\n",
    "    kml = simplekml.Kml()\n",
    "    for _, row in df_subset.iterrows():\n",
    "        coords = [\n",
    "            (row['left'], row['bottom']),\n",
    "            (row['left'], row['top']),\n",
    "            (row['right'], row['top']),\n",
    "            (row['right'], row['bottom']),\n",
    "            (row['left'], row['bottom'])  # Close the polygon\n",
    "        ]\n",
    "        pol = kml.newpolygon(name=row['name'], outerboundaryis=coords)\n",
    "        pol.style.polystyle.color = color_hex  # AABBGGRR (alpha-blue-green-red)\n",
    "        pol.style.polystyle.outline = 1\n",
    "    kml.save(filename)\n",
    "\n",
    "# Step 3: Split by 'correct'\n",
    "df_yes = df[df['correct'].str.lower() == 'yes']\n",
    "df_no = df[df['correct'].str.lower() == 'no']\n",
    "\n",
    "# Step 4: Create KMLs with different colors\n",
    "# Red with 80% opacity → 'cc0000ff', Green with 80% opacity → 'cc00ff00'\n",
    "create_kml(df_yes, 'bounding_boxes_correct_yes.kml', 'cc00ff00')  # Green\n",
    "create_kml(df_no, 'bounding_boxes_correct_no.kml', 'cc0000ff')    # Red"
   ]
  }
 ],
 "metadata": {
  "kernelspec": {
   "display_name": "tf_gpu",
   "language": "python",
   "name": "python3"
  },
  "language_info": {
   "codemirror_mode": {
    "name": "ipython",
    "version": 3
   },
   "file_extension": ".py",
   "mimetype": "text/x-python",
   "name": "python",
   "nbconvert_exporter": "python",
   "pygments_lexer": "ipython3",
   "version": "3.10.16"
  }
 },
 "nbformat": 4,
 "nbformat_minor": 5
}
