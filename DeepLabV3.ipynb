{
 "cells": [
  {
   "cell_type": "code",
   "execution_count": 1,
   "metadata": {},
   "outputs": [
    {
     "name": "stdout",
     "output_type": "stream",
     "text": [
      "TensorFlow is using GPU\n"
     ]
    }
   ],
   "source": [
    "import os\n",
    "os.environ[\"TF_CPP_MIN_LOG_LEVEL\"] = \"2\"\n",
    "\n",
    "import tensorflow as tf\n",
    "\n",
    "if tf.config.list_physical_devices('GPU'):\n",
    "    print(\"TensorFlow is using GPU\")\n",
    "else:\n",
    "    print(\"TensorFlow is not using GPU\")\n",
    "\n",
    "import numpy as np\n",
    "from tensorflow.keras.models import Model\n",
    "from tensorflow.keras import layers\n",
    "from tensorflow.keras.layers import Input, Lambda, Activation, Concatenate, Add, Dropout\n",
    "from tensorflow.keras.layers import BatchNormalization, Conv2D, DepthwiseConv2D, ZeroPadding2D\n",
    "from tensorflow.keras.layers import GlobalAveragePooling2D\n",
    "from tensorflow.keras.utils import get_source_inputs\n",
    "from tensorflow.keras.utils import get_file\n",
    "from tensorflow.keras import backend as K\n",
    "from tensorflow.keras.activations import relu\n",
    "\n",
    "# from tensorflow.python.keras.applications.imagenet_utils import preprocess_input\n",
    "from sklearn.metrics import precision_score, recall_score, f1_score\n",
    "\n",
    "WEIGHTS_PATH_X = \"https://github.com/bonlime/keras-deeplab-v3-plus/releases/download/1.1/deeplabv3_xception_tf_dim_ordering_tf_kernels.h5\"\n",
    "WEIGHTS_PATH_MOBILE = \"https://github.com/bonlime/keras-deeplab-v3-plus/releases/download/1.1/deeplabv3_mobilenetv2_tf_dim_ordering_tf_kernels.h5\"\n",
    "WEIGHTS_PATH_X_CS = \"https://github.com/bonlime/keras-deeplab-v3-plus/releases/download/1.2/deeplabv3_xception_tf_dim_ordering_tf_kernels_cityscapes.h5\"\n",
    "WEIGHTS_PATH_MOBILE_CS = \"https://github.com/bonlime/keras-deeplab-v3-plus/releases/download/1.2/deeplabv3_mobilenetv2_tf_dim_ordering_tf_kernels_cityscapes.h5\"\n",
    "\n",
    "\n",
    "# from tensorflow.keras.preprocessing.image import ImageDataGenerator, array_to_img, img_to_array, load_img\n",
    "import matplotlib.pyplot as plt\n",
    "\n",
    "from tensorflow.keras.optimizers import Adam\n",
    "from tensorflow.keras.callbacks import ModelCheckpoint, EarlyStopping\n",
    "# import os\n",
    "import re\n",
    "import rasterio\n",
    "import glob\n",
    "import tifffile as tiff\n"
   ]
  },
  {
   "cell_type": "code",
   "execution_count": 2,
   "metadata": {},
   "outputs": [],
   "source": [
    "def SepConv_BN(x, filters, prefix, stride=1, kernel_size=3, rate=1, depth_activation=False, epsilon=1e-3):\n",
    "    \"\"\" SepConv with BN between depthwise & pointwise. Optionally add activation after BN\n",
    "        Implements right \"same\" padding for even kernel sizes\n",
    "        Args:\n",
    "            x: input tensor\n",
    "            filters: num of filters in pointwise convolution\n",
    "            prefix: prefix before name\n",
    "            stride: stride at depthwise conv\n",
    "            kernel_size: kernel size for depthwise convolution\n",
    "            rate: atrous rate for depthwise convolution\n",
    "            depth_activation: flag to use activation between depthwise & poinwise convs\n",
    "            epsilon: epsilon to use in BN layer\n",
    "    \"\"\"\n",
    "\n",
    "    if stride == 1:\n",
    "        depth_padding = 'same'\n",
    "    else:\n",
    "        kernel_size_effective = kernel_size + (kernel_size - 1) * (rate - 1)\n",
    "        pad_total = kernel_size_effective - 1\n",
    "        pad_beg = pad_total // 2\n",
    "        pad_end = pad_total - pad_beg\n",
    "        x = ZeroPadding2D((pad_beg, pad_end))(x)\n",
    "        depth_padding = 'valid'\n",
    "\n",
    "    if not depth_activation:\n",
    "        x = Activation('relu')(x)\n",
    "    x = DepthwiseConv2D((kernel_size, kernel_size), strides=(stride, stride), dilation_rate=(rate, rate),\n",
    "                        padding=depth_padding, use_bias=False, name=prefix + '_depthwise')(x)\n",
    "    x = BatchNormalization(name=prefix + '_depthwise_BN', epsilon=epsilon)(x)\n",
    "    if depth_activation:\n",
    "        x = Activation('relu')(x)\n",
    "    x = Conv2D(filters, (1, 1), padding='same',\n",
    "               use_bias=False, name=prefix + '_pointwise')(x)\n",
    "    x = BatchNormalization(name=prefix + '_pointwise_BN', epsilon=epsilon)(x)\n",
    "    if depth_activation:\n",
    "        x = Activation('relu')(x)\n",
    "\n",
    "    return x\n"
   ]
  },
  {
   "cell_type": "code",
   "execution_count": 3,
   "metadata": {},
   "outputs": [],
   "source": [
    "def _conv2d_same(x, filters, prefix, stride=1, kernel_size=3, rate=1):\n",
    "    \"\"\"Implements right 'same' padding for even kernel sizes\n",
    "        Without this there is a 1 pixel drift when stride = 2\n",
    "        Args:\n",
    "            x: input tensor\n",
    "            filters: num of filters in pointwise convolution\n",
    "            prefix: prefix before name\n",
    "            stride: stride at depthwise conv\n",
    "            kernel_size: kernel size for depthwise convolution\n",
    "            rate: atrous rate for depthwise convolution\n",
    "    \"\"\"\n",
    "    if stride == 1:\n",
    "        return Conv2D(filters,\n",
    "                      (kernel_size, kernel_size),\n",
    "                      strides=(stride, stride),\n",
    "                      padding='same', use_bias=False,\n",
    "                      dilation_rate=(rate, rate),\n",
    "                      name=prefix)(x)\n",
    "    else:\n",
    "        kernel_size_effective = kernel_size + (kernel_size - 1) * (rate - 1)\n",
    "        pad_total = kernel_size_effective - 1\n",
    "        pad_beg = pad_total // 2\n",
    "        pad_end = pad_total - pad_beg\n",
    "        x = ZeroPadding2D((pad_beg, pad_end))(x)\n",
    "        return Conv2D(filters,\n",
    "                      (kernel_size, kernel_size),\n",
    "                      strides=(stride, stride),\n",
    "                      padding='valid', use_bias=False,\n",
    "                      dilation_rate=(rate, rate),\n",
    "                      name=prefix)(x)"
   ]
  },
  {
   "cell_type": "code",
   "execution_count": 4,
   "metadata": {},
   "outputs": [],
   "source": [
    "def _xception_block(inputs, depth_list, prefix, skip_connection_type, stride,\n",
    "                    rate=1, depth_activation=False, return_skip=False):\n",
    "    \"\"\" Basic building block of modified Xception network\n",
    "        Args:\n",
    "            inputs: input tensor\n",
    "            depth_list: number of filters in each SepConv layer. len(depth_list) == 3\n",
    "            prefix: prefix before name\n",
    "            skip_connection_type: one of {'conv','sum','none'}\n",
    "            stride: stride at last depthwise conv\n",
    "            rate: atrous rate for depthwise convolution\n",
    "            depth_activation: flag to use activation between depthwise & pointwise convs\n",
    "            return_skip: flag to return additional tensor after 2 SepConvs for decoder\n",
    "            \"\"\"\n",
    "    residual = inputs\n",
    "    for i in range(3):\n",
    "        residual = SepConv_BN(residual,\n",
    "                              depth_list[i],\n",
    "                              prefix + '_separable_conv{}'.format(i + 1),\n",
    "                              stride=stride if i == 2 else 1,\n",
    "                              rate=rate,\n",
    "                              depth_activation=depth_activation)\n",
    "        if i == 1:\n",
    "            skip = residual\n",
    "    if skip_connection_type == 'conv':\n",
    "        shortcut = _conv2d_same(inputs, depth_list[-1], prefix + '_shortcut',\n",
    "                                kernel_size=1,\n",
    "                                stride=stride)\n",
    "        shortcut = BatchNormalization(name=prefix + '_shortcut_BN')(shortcut)\n",
    "        outputs = layers.add([residual, shortcut])\n",
    "    elif skip_connection_type == 'sum':\n",
    "        outputs = layers.add([residual, inputs])\n",
    "    elif skip_connection_type == 'none':\n",
    "        outputs = residual\n",
    "    if return_skip:\n",
    "        return outputs, skip\n",
    "    else:\n",
    "        return outputs\n"
   ]
  },
  {
   "cell_type": "code",
   "execution_count": 5,
   "metadata": {},
   "outputs": [],
   "source": [
    "def relu6(x):\n",
    "    return relu(x, max_value=6)\n",
    "\n",
    "\n",
    "def _make_divisible(v, divisor, min_value=None):\n",
    "    if min_value is None:\n",
    "        min_value = divisor\n",
    "    new_v = max(min_value, int(v + divisor / 2) // divisor * divisor)\n",
    "    # Make sure that round down does not go down by more than 10%.\n",
    "    if new_v < 0.9 * v:\n",
    "        new_v += divisor\n",
    "    return new_v\n",
    "\n",
    "\n",
    "def _inverted_res_block(inputs, expansion, stride, alpha, filters, block_id, skip_connection, rate=1):\n",
    "    in_channels = inputs.shape[-1]  # inputs._keras_shape[-1]\n",
    "    pointwise_conv_filters = int(filters * alpha)\n",
    "    pointwise_filters = _make_divisible(pointwise_conv_filters, 8)\n",
    "    x = inputs\n",
    "    prefix = 'expanded_conv_{}_'.format(block_id)\n",
    "    if block_id:\n",
    "        # Expand\n",
    "\n",
    "        x = Conv2D(expansion * in_channels, kernel_size=1, padding='same',\n",
    "                   use_bias=False, activation=None,\n",
    "                   name=prefix + 'expand')(x)\n",
    "        x = BatchNormalization(epsilon=1e-3, momentum=0.999,\n",
    "                               name=prefix + 'expand_BN')(x)\n",
    "        x = Activation(relu6, name=prefix + 'expand_relu')(x)\n",
    "    else:\n",
    "        prefix = 'expanded_conv_'\n",
    "    # Depthwise\n",
    "    x = DepthwiseConv2D(kernel_size=3, strides=stride, activation=None,\n",
    "                        use_bias=False, padding='same', dilation_rate=(rate, rate),\n",
    "                        name=prefix + 'depthwise')(x)\n",
    "    x = BatchNormalization(epsilon=1e-3, momentum=0.999,\n",
    "                           name=prefix + 'depthwise_BN')(x)\n",
    "\n",
    "    x = Activation(relu6, name=prefix + 'depthwise_relu')(x)\n",
    "\n",
    "    # Project\n",
    "    x = Conv2D(pointwise_filters,\n",
    "               kernel_size=1, padding='same', use_bias=False, activation=None,\n",
    "               name=prefix + 'project')(x)\n",
    "    x = BatchNormalization(epsilon=1e-3, momentum=0.999,\n",
    "                           name=prefix + 'project_BN')(x)\n",
    "\n",
    "    if skip_connection:\n",
    "        return Add(name=prefix + 'add')([inputs, x])\n",
    "\n",
    "    # if in_channels == pointwise_filters and stride == 1:\n",
    "    #    return Add(name='res_connect_' + str(block_id))([inputs, x])\n",
    "\n",
    "    return x"
   ]
  },
  {
   "cell_type": "code",
   "execution_count": 6,
   "metadata": {},
   "outputs": [],
   "source": [
    "def Deeplabv3(weights=None, input_tensor=None, input_shape=(512, 512, 1), classes=2, backbone='mobilenetv2',\n",
    "              OS=16, alpha=1.):\n",
    "    \"\"\" Instantiates the Deeplabv3+ architecture\n",
    "\n",
    "    Optionally loads weights pre-trained\n",
    "    on PASCAL VOC or Cityscapes. This model is available for TensorFlow only.\n",
    "    # Arguments\n",
    "        weights: one of 'pascal_voc' (pre-trained on pascal voc),\n",
    "            'cityscapes' (pre-trained on cityscape) or None (random initialization)\n",
    "        input_tensor: optional Keras tensor (i.e. output of `layers.Input()`)\n",
    "            to use as image input for the model.\n",
    "        input_shape: shape of input image. format HxWxC\n",
    "            PASCAL VOC model was trained on (512,512,3) images. None is allowed as shape/width\n",
    "        classes: number of desired classes. PASCAL VOC has 21 classes, Cityscapes has 19 classes.\n",
    "            If number of classes not aligned with the weights used, last layer is initialized randomly\n",
    "        backbone: backbone to use. one of {'xception','mobilenetv2'}\n",
    "        activation: optional activation to add to the top of the network.\n",
    "            One of 'softmax', 'sigmoid' or None\n",
    "        OS: determines input_shape/feature_extractor_output ratio. One of {8,16}.\n",
    "            Used only for xception backbone.\n",
    "        alpha: controls the width of the MobileNetV2 network. This is known as the\n",
    "            width multiplier in the MobileNetV2 paper.\n",
    "                - If `alpha` < 1.0, proportionally decreases the number\n",
    "                    of filters in each layer.\n",
    "                - If `alpha` > 1.0, proportionally increases the number\n",
    "                    of filters in each layer.\n",
    "                - If `alpha` = 1, default number of filters from the paper\n",
    "                    are used at each layer.\n",
    "            Used only for mobilenetv2 backbone. Pretrained is only available for alpha=1.\n",
    "\n",
    "    # Returns\n",
    "        A Keras model instance.\n",
    "\n",
    "    # Raises\n",
    "        RuntimeError: If attempting to run this model with a\n",
    "            backend that does not support separable convolutions.\n",
    "        ValueError: in case of invalid argument for `weights` or `backbone`\n",
    "\n",
    "    \"\"\"\n",
    "\n",
    "    if not (weights in {'pascal_voc', 'cityscapes', None}):\n",
    "        raise ValueError('The `weights` argument should be either '\n",
    "                         '`None` (random initialization), `pascal_voc`, or `cityscapes` '\n",
    "                         '(pre-trained on PASCAL VOC)')\n",
    "\n",
    "    if not (backbone in {'xception', 'mobilenetv2'}):\n",
    "        raise ValueError('The `backbone` argument should be either '\n",
    "                         '`xception`  or `mobilenetv2` ')\n",
    "\n",
    "    if input_tensor is None:\n",
    "        img_input = Input(shape=input_shape)\n",
    "    else:\n",
    "        img_input = input_tensor\n",
    "\n",
    "    if backbone == 'xception':\n",
    "        if OS == 8:\n",
    "            entry_block3_stride = 1\n",
    "            middle_block_rate = 2  # ! Not mentioned in paper, but required\n",
    "            exit_block_rates = (2, 4)\n",
    "            atrous_rates = (12, 24, 36)\n",
    "        else:\n",
    "            entry_block3_stride = 2\n",
    "            middle_block_rate = 1\n",
    "            exit_block_rates = (1, 2)\n",
    "            atrous_rates = (6, 12, 18)\n",
    "\n",
    "        x = Conv2D(32, (3, 3), strides=(2, 2),\n",
    "                   name='entry_flow_conv1_1', use_bias=False, padding='same')(img_input)\n",
    "        x = BatchNormalization(name='entry_flow_conv1_1_BN')(x)\n",
    "        x = Activation('relu')(x)\n",
    "\n",
    "        x = _conv2d_same(x, 64, 'entry_flow_conv1_2', kernel_size=3, stride=1)\n",
    "        x = BatchNormalization(name='entry_flow_conv1_2_BN')(x)\n",
    "        x = Activation('relu')(x)\n",
    "\n",
    "        x = _xception_block(x, [128, 128, 128], 'entry_flow_block1',\n",
    "                            skip_connection_type='conv', stride=2,\n",
    "                            depth_activation=False)\n",
    "        x, skip1 = _xception_block(x, [256, 256, 256], 'entry_flow_block2',\n",
    "                                   skip_connection_type='conv', stride=2,\n",
    "                                   depth_activation=False, return_skip=True)\n",
    "\n",
    "        x = _xception_block(x, [728, 728, 728], 'entry_flow_block3',\n",
    "                            skip_connection_type='conv', stride=entry_block3_stride,\n",
    "                            depth_activation=False)\n",
    "        for i in range(16):\n",
    "            x = _xception_block(x, [728, 728, 728], 'middle_flow_unit_{}'.format(i + 1),\n",
    "                                skip_connection_type='sum', stride=1, rate=middle_block_rate,\n",
    "                                depth_activation=False)\n",
    "\n",
    "        x = _xception_block(x, [728, 1024, 1024], 'exit_flow_block1',\n",
    "                            skip_connection_type='conv', stride=1, rate=exit_block_rates[0],\n",
    "                            depth_activation=False)\n",
    "        x = _xception_block(x, [1536, 1536, 2048], 'exit_flow_block2',\n",
    "                            skip_connection_type='none', stride=1, rate=exit_block_rates[1],\n",
    "                            depth_activation=True)\n",
    "\n",
    "    else:\n",
    "        OS = 1\n",
    "        first_block_filters = _make_divisible(32 * alpha, 8)\n",
    "        x = Conv2D(first_block_filters,\n",
    "                   kernel_size=3,\n",
    "                   strides=(2, 2), padding='same',\n",
    "                   use_bias=False, name='Conv')(img_input)\n",
    "        x = BatchNormalization(\n",
    "            epsilon=1e-3, momentum=0.999, name='Conv_BN')(x)\n",
    "        x = Activation(relu6, name='Conv_Relu6')(x)\n",
    "\n",
    "        x = _inverted_res_block(x, filters=16, alpha=alpha, stride=1,\n",
    "                                expansion=1, block_id=0, skip_connection=False)\n",
    "\n",
    "        x = _inverted_res_block(x, filters=24, alpha=alpha, stride=2,\n",
    "                                expansion=6, block_id=1, skip_connection=False)\n",
    "        x = _inverted_res_block(x, filters=24, alpha=alpha, stride=1,\n",
    "                                expansion=6, block_id=2, skip_connection=True)\n",
    "\n",
    "        x = _inverted_res_block(x, filters=32, alpha=alpha, stride=2,\n",
    "                                expansion=6, block_id=3, skip_connection=False)\n",
    "        x = _inverted_res_block(x, filters=32, alpha=alpha, stride=1,\n",
    "                                expansion=6, block_id=4, skip_connection=True)\n",
    "        x = _inverted_res_block(x, filters=32, alpha=alpha, stride=1,\n",
    "                                expansion=6, block_id=5, skip_connection=True)\n",
    "\n",
    "        # stride in block 6 changed from 2 -> 1, so we need to use rate = 2\n",
    "        x = _inverted_res_block(x, filters=64, alpha=alpha, stride=1,  # 1!\n",
    "                                expansion=6, block_id=6, skip_connection=False)\n",
    "        x = _inverted_res_block(x, filters=64, alpha=alpha, stride=1, rate=2,\n",
    "                                expansion=6, block_id=7, skip_connection=True)\n",
    "        x = _inverted_res_block(x, filters=64, alpha=alpha, stride=1, rate=2,\n",
    "                                expansion=6, block_id=8, skip_connection=True)\n",
    "        x = _inverted_res_block(x, filters=64, alpha=alpha, stride=1, rate=2,\n",
    "                                expansion=6, block_id=9, skip_connection=True)\n",
    "\n",
    "        x = _inverted_res_block(x, filters=96, alpha=alpha, stride=1, rate=2,\n",
    "                                expansion=6, block_id=10, skip_connection=False)\n",
    "        x = _inverted_res_block(x, filters=96, alpha=alpha, stride=1, rate=2,\n",
    "                                expansion=6, block_id=11, skip_connection=True)\n",
    "        x = _inverted_res_block(x, filters=96, alpha=alpha, stride=1, rate=2,\n",
    "                                expansion=6, block_id=12, skip_connection=True)\n",
    "\n",
    "        x = _inverted_res_block(x, filters=160, alpha=alpha, stride=1, rate=2,  # 1!\n",
    "                                expansion=6, block_id=13, skip_connection=False)\n",
    "        x = _inverted_res_block(x, filters=160, alpha=alpha, stride=1, rate=4,\n",
    "                                expansion=6, block_id=14, skip_connection=True)\n",
    "        x = _inverted_res_block(x, filters=160, alpha=alpha, stride=1, rate=4,\n",
    "                                expansion=6, block_id=15, skip_connection=True)\n",
    "\n",
    "        x = _inverted_res_block(x, filters=320, alpha=alpha, stride=1, rate=4,\n",
    "                                expansion=6, block_id=16, skip_connection=False)\n",
    "\n",
    "    # end of feature extractor\n",
    "\n",
    "    # branching for Atrous Spatial Pyramid Pooling\n",
    "\n",
    "    # Image Feature branch\n",
    "    shape_before = tf.shape(x)\n",
    "    b4 = GlobalAveragePooling2D()(x)\n",
    "    # from (b_size, channels)->(b_size, 1, 1, channels)\n",
    "    b4 = Lambda(lambda x: K.expand_dims(x, 1))(b4)\n",
    "    b4 = Lambda(lambda x: K.expand_dims(x, 1))(b4)\n",
    "    b4 = Conv2D(256, (1, 1), padding='same',\n",
    "                use_bias=False, name='image_pooling')(b4)\n",
    "    b4 = BatchNormalization(name='image_pooling_BN', epsilon=1e-5)(b4)\n",
    "    b4 = Activation('relu')(b4)\n",
    "    # upsample. have to use compat because of the option align_corners\n",
    "    size_before = tf.keras.backend.int_shape(x)\n",
    "    b4 = Lambda(lambda x: tf.compat.v1.image.resize(x, size_before[1:3],\n",
    "                                                    method='bilinear', align_corners=True))(b4)\n",
    "    # simple 1x1\n",
    "    b0 = Conv2D(256, (1, 1), padding='same', use_bias=False, name='aspp0')(x)\n",
    "    b0 = BatchNormalization(name='aspp0_BN', epsilon=1e-5)(b0)\n",
    "    b0 = Activation('relu', name='aspp0_activation')(b0)\n",
    "\n",
    "    # there are only 2 branches in mobilenetV2. not sure why\n",
    "    if backbone == 'xception':\n",
    "        # rate = 6 (12)\n",
    "        b1 = SepConv_BN(x, 256, 'aspp1',\n",
    "                        rate=atrous_rates[0], depth_activation=True, epsilon=1e-5)\n",
    "        # rate = 12 (24)\n",
    "        b2 = SepConv_BN(x, 256, 'aspp2',\n",
    "                        rate=atrous_rates[1], depth_activation=True, epsilon=1e-5)\n",
    "        # rate = 18 (36)\n",
    "        b3 = SepConv_BN(x, 256, 'aspp3',\n",
    "                        rate=atrous_rates[2], depth_activation=True, epsilon=1e-5)\n",
    "\n",
    "        # concatenate ASPP branches & project\n",
    "        x = Concatenate()([b4, b0, b1, b2, b3])\n",
    "    else:\n",
    "        x = Concatenate()([b4, b0])\n",
    "\n",
    "    x = Conv2D(256, (1, 1), padding='same',\n",
    "               use_bias=False, name='concat_projection')(x)\n",
    "    x = BatchNormalization(name='concat_projection_BN', epsilon=1e-5)(x)\n",
    "    x = Activation('relu')(x)\n",
    "    x = Dropout(0.1)(x)\n",
    "    # print(x.shape)\n",
    "    # DeepLab v.3+ decoder\n",
    "\n",
    "    if backbone == 'xception':\n",
    "        # Feature projection\n",
    "        # x4 (x2) block\n",
    "        size_before2 = tf.keras.backend.int_shape(x)\n",
    "        # print(size_before2)\n",
    "        x = Lambda(lambda xx: tf.compat.v1.image.resize(xx,\n",
    "                                                        size_before2[1:3] * tf.constant(OS // 4),\n",
    "                                                        method='bilinear', align_corners=True))(x)\n",
    "        \n",
    "        # print(x.shape)\n",
    "\n",
    "        dec_skip1 = Conv2D(48, (1, 1), padding='same',\n",
    "                           use_bias=False, name='feature_projection0')(skip1)\n",
    "        dec_skip1 = BatchNormalization(\n",
    "            name='feature_projection0_BN', epsilon=1e-5)(dec_skip1)\n",
    "        dec_skip1 = Activation('relu')(dec_skip1)\n",
    "        x = Concatenate()([x, dec_skip1])\n",
    "        x = SepConv_BN(x, 256, 'decoder_conv0',\n",
    "                       depth_activation=True, epsilon=1e-5)\n",
    "        x = SepConv_BN(x, 256, 'decoder_conv1',\n",
    "                       depth_activation=True, epsilon=1e-5)\n",
    "\n",
    "    # you can use it with arbitary number of classes\n",
    "    # print(weights)\n",
    "    # print(classes)\n",
    "    if (weights == 'pascal_voc' and classes == 21) or (weights == 'cityscapes' and classes == 19):\n",
    "        last_layer_name = 'logits_semantic'\n",
    "    else:\n",
    "        last_layer_name = 'custom_logits_semantic'\n",
    "\n",
    "    x = Conv2D(classes, (1, 1), padding='same', name=last_layer_name)(x)\n",
    "    size_before3 = tf.keras.backend.int_shape(img_input)\n",
    "    x = Lambda(lambda xx: tf.compat.v1.image.resize(xx,\n",
    "                                                    size_before3[1:3],\n",
    "                                                    method='bilinear', align_corners=True))(x)\n",
    "\n",
    "    # Ensure that the model takes into account\n",
    "    # any potential predecessors of `input_tensor`.\n",
    "    if input_tensor is not None:\n",
    "        inputs = get_source_inputs(input_tensor)\n",
    "    else:\n",
    "        inputs = img_input\n",
    "\n",
    "    # if activation in {'softmax', 'sigmoid'}:\n",
    "    #    x = tf.keras.layers.Activation(activation)(x)\n",
    "    \n",
    "    x = tf.keras.layers.Activation('softmax')(x)\n",
    "    \n",
    "    print(x.shape)\n",
    "    print(inputs.shape)\n",
    "    \n",
    "\n",
    "    # predictions = tf.keras.layers.Lambda(lambda x: tf.cast(tf.argmax(x, axis=-1), dtype='int64'))(x)\n",
    "    \n",
    "    # model = Model(inputs, predictions, name='deeplabv3plus')\n",
    "    # x = x[..., 1]\n",
    "    model = Model(inputs, x, name='deeplabv3plus')\n",
    "\n",
    "    # load weights\n",
    "\n",
    "    if weights == 'pascal_voc':\n",
    "        if backbone == 'xception':\n",
    "            weights_path = get_file('deeplabv3_xception_tf_dim_ordering_tf_kernels.h5',\n",
    "                                    WEIGHTS_PATH_X,\n",
    "                                    cache_subdir='models')\n",
    "        else:\n",
    "            weights_path = get_file('deeplabv3_mobilenetv2_tf_dim_ordering_tf_kernels.h5',\n",
    "                                    WEIGHTS_PATH_MOBILE,\n",
    "                                    cache_subdir='models')\n",
    "        model.load_weights(weights_path, by_name=True)\n",
    "    elif weights == 'cityscapes':\n",
    "        if backbone == 'xception':\n",
    "            weights_path = get_file('deeplabv3_xception_tf_dim_ordering_tf_kernels_cityscapes.h5',\n",
    "                                    WEIGHTS_PATH_X_CS,\n",
    "                                    cache_subdir='models')\n",
    "        else:\n",
    "            weights_path = get_file('deeplabv3_mobilenetv2_tf_dim_ordering_tf_kernels_cityscapes.h5',\n",
    "                                    WEIGHTS_PATH_MOBILE_CS,\n",
    "                                    cache_subdir='models')\n",
    "        model.load_weights(weights_path, by_name=True)\n",
    "    \n",
    "    return model\n"
   ]
  },
  {
   "cell_type": "code",
   "execution_count": 7,
   "metadata": {},
   "outputs": [],
   "source": [
    "def dice_coefficient(y_true, y_pred, smooth=1):\n",
    "    y_true_f = y_true.flatten()\n",
    "    y_pred_f = y_pred.flatten()\n",
    "    intersection = np.sum(y_true_f * y_pred_f)\n",
    "    return (2. * intersection + smooth) / (np.sum(y_true_f) + np.sum(y_pred_f) + smooth)\n",
    "\n",
    "def iou(y_true, y_pred, smooth=1):\n",
    "    y_true_f = y_true.flatten()\n",
    "    y_pred_f = y_pred.flatten()\n",
    "    intersection = np.sum(y_true_f * y_pred_f)\n",
    "    union = np.sum(y_true_f) + np.sum(y_pred_f) - intersection\n",
    "    return (intersection + smooth) / (union + smooth)\n",
    "\n",
    "def save_image(image, filepath):\n",
    "    image = (image * 255).astype(np.uint8)  # Scale image to 0-255\n",
    "    tiff.imwrite(filepath, image)\n",
    "\n",
    "def predict1(model, mask_dir, image_dir, output_dir, model_type, number=-1):\n",
    "    dice_scores = []\n",
    "    iou_scores = []\n",
    "    precisions = []\n",
    "    recalls = []\n",
    "    f1_scores = []\n",
    "\n",
    "    os.makedirs(output_dir, exist_ok=True)\n",
    "\n",
    "    mask_files = [f for f in os.listdir(mask_dir) if f.endswith('_resized.tif')]\n",
    "    i = 0\n",
    "    print(len(mask_files))\n",
    "    for mask_file in mask_files:\n",
    "        # try:\n",
    "        # Extract the number i from the mask file name\n",
    "        i_str = mask_file.split('_')[2]\n",
    "        print(i_str)\n",
    "        image_file = f\"{i_str}.tif\"\n",
    "\n",
    "        mask_path = os.path.join(mask_dir, mask_file)\n",
    "        image_path=os.path.join(image_dir, image_file)\n",
    "\n",
    "        # Load the image and mask\n",
    "        arbitrary_img = tiff.imread(image_path)\n",
    "        arbitrary_mask = tiff.imread(mask_path)\n",
    "\n",
    "        # Ensure the image is in the correct shape (512, 512, 1)\n",
    "        if len(arbitrary_img.shape) == 2:\n",
    "            arbitrary_img = np.expand_dims(arbitrary_img, axis=-1)\n",
    "        elif arbitrary_img.shape[0] == 2:\n",
    "            arbitrary_img = arbitrary_img[0]  # assuming you need the first channel\n",
    "        \n",
    "        predicted_mask = model.predict(np.expand_dims(arbitrary_img, axis=0))[0]\n",
    "        print(predicted_mask.shape)\n",
    "        # print(predicted_mask)\n",
    "\n",
    "        # Apply thresholding to predicted mask\n",
    "        predicted_mask_thresh = (predicted_mask > 0.5).astype(np.uint8)\n",
    "\n",
    "        # Save predicted mask images\n",
    "        # save_image(predicted_mask, f\"./{output_dir}/{model_type}_Predicted_Image_{i_str}.tif\")\n",
    "        # save_image(predicted_mask_thresh, f\"./{output_dir}/{model_type}_{i_str}.tif\")\n",
    "\n",
    "        # Plot and save the arbitrary image, actual mask, and predicted mask\n",
    "        plt.figure(figsize=(10, 5))\n",
    "\n",
    "        plt.subplot(2, 2, 1)\n",
    "        plt.imshow(arbitrary_img.squeeze(), cmap='gray')\n",
    "        plt.title('Arbitrary Image')\n",
    "        plt.axis('off')\n",
    "\n",
    "        plt.subplot(2, 2, 2)\n",
    "        plt.imshow(arbitrary_mask, cmap='gray')\n",
    "        plt.title('Actual Mask')\n",
    "        plt.axis('off')\n",
    "\n",
    "        plt.subplot(2, 2, 3)\n",
    "        merged_mask = np.argmax(predicted_mask, axis=-1)\n",
    "        plt.imshow(merged_mask, cmap='gray')\n",
    "        plt.title('Predicted Mask without thresholding')\n",
    "        plt.axis('off')\n",
    "\n",
    "        plt.subplot(2, 2, 4)\n",
    "        merged_mask_thresh = np.argmax(predicted_mask_thresh, axis=-1)\n",
    "        plt.imshow(merged_mask_thresh.squeeze(), cmap='gray')\n",
    "        plt.title('Predicted Mask')\n",
    "        plt.axis('off')\n",
    "\n",
    "        plt.savefig(f\"./{output_dir}/{model_type}_Visualization_{i_str}.jpg\")\n",
    "        plt.close()\n",
    "\n",
    "        save_image(merged_mask, f\"./{output_dir}/{model_type}_Predicted_Image_{i_str}.tif\")\n",
    "        save_image(merged_mask_thresh, f\"./{output_dir}/{model_type}_{i_str}.tif\")\n",
    "\n",
    "        # Calculate metrics\n",
    "        dice = dice_coefficient(arbitrary_mask, merged_mask_thresh)\n",
    "        iou_score = iou(arbitrary_mask, merged_mask_thresh)\n",
    "        precision = precision_score(arbitrary_mask.flatten(), merged_mask_thresh.flatten())\n",
    "        recall = recall_score(arbitrary_mask.flatten(), merged_mask_thresh.flatten())\n",
    "        f1 = f1_score(arbitrary_mask.flatten(), merged_mask_thresh.flatten())\n",
    "\n",
    "        dice_scores.append(dice)\n",
    "        iou_scores.append(iou_score)\n",
    "        precisions.append(precision)\n",
    "        recalls.append(recall)\n",
    "        f1_scores.append(f1)\n",
    "    \n",
    "        i += 1\n",
    "        if i == number:\n",
    "            break\n",
    "    # Print and return the average metrics\n",
    "    mean_dice = np.mean(dice_scores)\n",
    "    mean_iou = np.mean(iou_scores)\n",
    "    mean_precision = np.mean(precisions)\n",
    "    mean_recall = np.mean(recalls)\n",
    "    mean_f1 = np.mean(f1_scores)\n",
    "\n",
    "    print(f\"Mean Dice Coefficient: {mean_dice}\")\n",
    "    print(f\"Mean IoU: {mean_iou}\")\n",
    "    print(f\"Mean Precision: {mean_precision}\")\n",
    "    print(f\"Mean Recall: {mean_recall}\")\n",
    "    print(f\"Mean F1 Score: {mean_f1}\")\n",
    "\n",
    "    return mean_dice, mean_iou, mean_precision, mean_recall, mean_f1"
   ]
  },
  {
   "cell_type": "code",
   "execution_count": 8,
   "metadata": {},
   "outputs": [],
   "source": [
    "# Define paths to your dataset\n",
    "\n",
    "# Parameters\n",
    "NUM_CLASSES = 2  # Number of segmentation classes\n",
    "BACKBONE = 'mobilenetv2'  # Backbone network\n",
    "BATCH_SIZE = 8\n",
    "EPOCHS = 20\n",
    "LEARNING_RATE = 0.001\n",
    "OUTPUT_STRIDE = 8\n",
    "# ACTIVATION = 'sigmoid'  # Use 'sigmoid' for binary segmentation\n",
    "VALIDATION_SPLIT = 0.125\n"
   ]
  },
  {
   "cell_type": "code",
   "execution_count": 9,
   "metadata": {},
   "outputs": [],
   "source": [
    "import json\n",
    "\n",
    "def load_data_new(input_dir, mask_dir):\n",
    "    \n",
    "    def numerical_sort(value):\n",
    "        numbers = re.findall(r'\\d+', os.path.basename(value))\n",
    "        return int(numbers[-1]) if numbers else -1\n",
    "\n",
    "    # Ensure the directories exist\n",
    "    if not os.path.exists(input_dir):\n",
    "        print(f\"Input directory {input_dir} does not exist.\")\n",
    "        return None, None\n",
    "    \n",
    "    if not os.path.exists(mask_dir):\n",
    "        print(f\"Mask directory {mask_dir} does not exist.\")\n",
    "        return None, None\n",
    "\n",
    "    # Search for .tif files in the directories\n",
    "    input_files = glob.glob(os.path.join(input_dir, '*.tif'))\n",
    "    mask_files = glob.glob(os.path.join(mask_dir, '*.tif'))\n",
    "\n",
    "    # print(\"Found input files:\", input_files)\n",
    "    # print(\"Found mask files:\", mask_files)\n",
    "\n",
    "    if not input_files:\n",
    "        print(f\"No input files found in {input_dir}.\")\n",
    "        return None, None\n",
    "\n",
    "    if not mask_files:\n",
    "        print(f\"No mask files found in {mask_dir}.\")\n",
    "        return None, None\n",
    "\n",
    "    images = []\n",
    "    masks = []\n",
    "\n",
    "    for mask_file in mask_files:\n",
    "        # Extract the number i from the mask filename\n",
    "        match = re.search(r'NDWI_Mask_(\\d+)_resized_corrupt.tif', os.path.basename(mask_file))\n",
    "        print(match)\n",
    "        if match:\n",
    "            i = match.group(1)\n",
    "            input_file = os.path.join(input_dir, f'{i}.tif')\n",
    "            # print(\"Input File : \",input_file)\n",
    "            # Check if the corresponding input file exists\n",
    "            if os.path.exists(input_file):\n",
    "                # Read input file\n",
    "                with rasterio.open(input_file) as src:\n",
    "                    img = src.read(1)  # Read the first band assuming it's a single-band image\n",
    "                    images.append(img)\n",
    "\n",
    "                # Read mask file\n",
    "                with rasterio.open(mask_file) as src:\n",
    "                    msk = src.read(1)  # Read the first band assuming it's a single-band image\n",
    "                    masks.append(msk)\n",
    "            else:\n",
    "                print(f\"Corresponding input file {input_file} for mask {mask_file} not found.\")\n",
    "        # break\n",
    "    if not images or not masks:\n",
    "        print(\"No matching pairs of images and masks found.\")\n",
    "        return None, None\n",
    "\n",
    "    masks = tf.one_hot(masks, depth=2)\n",
    "    \n",
    "    # print(masks)\n",
    "    return np.array(images), np.array(masks)"
   ]
  },
  {
   "cell_type": "code",
   "execution_count": 10,
   "metadata": {},
   "outputs": [
    {
     "name": "stdout",
     "output_type": "stream",
     "text": [
      "./GEE_Masks/GEE_resized/train_gee/train_0_gee_with_diff_kernels\n",
      "./GEE_Output/Adversarial/New_20_Epoch_DeepLab_0_with_diff_kernels\n",
      "<re.Match object; span=(0, 31), match='NDWI_Mask_0_resized_corrupt.tif'>\n"
     ]
    },
    {
     "name": "stderr",
     "output_type": "stream",
     "text": [
      "c:\\Users\\ADMIN\\anaconda3\\envs\\tf_gpu\\lib\\site-packages\\rasterio\\__init__.py:368: NotGeoreferencedWarning: Dataset has no geotransform, gcps, or rpcs. The identity matrix will be returned.\n",
      "  dataset = DatasetReader(path, driver=driver, sharing=sharing, **kwargs)\n"
     ]
    },
    {
     "name": "stdout",
     "output_type": "stream",
     "text": [
      "<re.Match object; span=(0, 34), match='NDWI_Mask_1000_resized_corrupt.tif'>\n",
      "<re.Match object; span=(0, 34), match='NDWI_Mask_1001_resized_corrupt.tif'>\n",
      "<re.Match object; span=(0, 34), match='NDWI_Mask_1002_resized_corrupt.tif'>\n",
      "<re.Match object; span=(0, 34), match='NDWI_Mask_1003_resized_corrupt.tif'>\n",
      "<re.Match object; span=(0, 34), match='NDWI_Mask_1004_resized_corrupt.tif'>\n",
      "<re.Match object; span=(0, 34), match='NDWI_Mask_1005_resized_corrupt.tif'>\n",
      "<re.Match object; span=(0, 34), match='NDWI_Mask_1006_resized_corrupt.tif'>\n",
      "<re.Match object; span=(0, 34), match='NDWI_Mask_1007_resized_corrupt.tif'>\n",
      "<re.Match object; span=(0, 34), match='NDWI_Mask_1009_resized_corrupt.tif'>\n",
      "<re.Match object; span=(0, 33), match='NDWI_Mask_100_resized_corrupt.tif'>\n",
      "<re.Match object; span=(0, 34), match='NDWI_Mask_1011_resized_corrupt.tif'>\n",
      "<re.Match object; span=(0, 34), match='NDWI_Mask_1013_resized_corrupt.tif'>\n",
      "<re.Match object; span=(0, 34), match='NDWI_Mask_1014_resized_corrupt.tif'>\n",
      "<re.Match object; span=(0, 34), match='NDWI_Mask_1015_resized_corrupt.tif'>\n",
      "<re.Match object; span=(0, 34), match='NDWI_Mask_1016_resized_corrupt.tif'>\n",
      "<re.Match object; span=(0, 34), match='NDWI_Mask_1017_resized_corrupt.tif'>\n",
      "<re.Match object; span=(0, 34), match='NDWI_Mask_1018_resized_corrupt.tif'>\n",
      "<re.Match object; span=(0, 34), match='NDWI_Mask_1019_resized_corrupt.tif'>\n",
      "<re.Match object; span=(0, 33), match='NDWI_Mask_101_resized_corrupt.tif'>\n",
      "<re.Match object; span=(0, 34), match='NDWI_Mask_1021_resized_corrupt.tif'>\n",
      "<re.Match object; span=(0, 34), match='NDWI_Mask_1022_resized_corrupt.tif'>\n",
      "<re.Match object; span=(0, 34), match='NDWI_Mask_1023_resized_corrupt.tif'>\n",
      "<re.Match object; span=(0, 34), match='NDWI_Mask_1024_resized_corrupt.tif'>\n",
      "<re.Match object; span=(0, 34), match='NDWI_Mask_1026_resized_corrupt.tif'>\n",
      "<re.Match object; span=(0, 34), match='NDWI_Mask_1027_resized_corrupt.tif'>\n",
      "<re.Match object; span=(0, 34), match='NDWI_Mask_1029_resized_corrupt.tif'>\n",
      "<re.Match object; span=(0, 33), match='NDWI_Mask_102_resized_corrupt.tif'>\n",
      "<re.Match object; span=(0, 34), match='NDWI_Mask_1032_resized_corrupt.tif'>\n",
      "<re.Match object; span=(0, 34), match='NDWI_Mask_1033_resized_corrupt.tif'>\n",
      "<re.Match object; span=(0, 34), match='NDWI_Mask_1034_resized_corrupt.tif'>\n",
      "<re.Match object; span=(0, 34), match='NDWI_Mask_1036_resized_corrupt.tif'>\n",
      "<re.Match object; span=(0, 34), match='NDWI_Mask_1038_resized_corrupt.tif'>\n",
      "<re.Match object; span=(0, 34), match='NDWI_Mask_1039_resized_corrupt.tif'>\n",
      "<re.Match object; span=(0, 33), match='NDWI_Mask_103_resized_corrupt.tif'>\n",
      "<re.Match object; span=(0, 34), match='NDWI_Mask_1040_resized_corrupt.tif'>\n",
      "<re.Match object; span=(0, 34), match='NDWI_Mask_1042_resized_corrupt.tif'>\n",
      "<re.Match object; span=(0, 34), match='NDWI_Mask_1045_resized_corrupt.tif'>\n",
      "<re.Match object; span=(0, 34), match='NDWI_Mask_1046_resized_corrupt.tif'>\n",
      "<re.Match object; span=(0, 34), match='NDWI_Mask_1047_resized_corrupt.tif'>\n",
      "<re.Match object; span=(0, 34), match='NDWI_Mask_1049_resized_corrupt.tif'>\n",
      "<re.Match object; span=(0, 33), match='NDWI_Mask_104_resized_corrupt.tif'>\n",
      "<re.Match object; span=(0, 34), match='NDWI_Mask_1050_resized_corrupt.tif'>\n",
      "<re.Match object; span=(0, 34), match='NDWI_Mask_1051_resized_corrupt.tif'>\n",
      "<re.Match object; span=(0, 34), match='NDWI_Mask_1052_resized_corrupt.tif'>\n",
      "<re.Match object; span=(0, 34), match='NDWI_Mask_1053_resized_corrupt.tif'>\n",
      "<re.Match object; span=(0, 34), match='NDWI_Mask_1054_resized_corrupt.tif'>\n",
      "<re.Match object; span=(0, 34), match='NDWI_Mask_1055_resized_corrupt.tif'>\n",
      "<re.Match object; span=(0, 34), match='NDWI_Mask_1056_resized_corrupt.tif'>\n",
      "<re.Match object; span=(0, 34), match='NDWI_Mask_1057_resized_corrupt.tif'>\n",
      "<re.Match object; span=(0, 34), match='NDWI_Mask_1059_resized_corrupt.tif'>\n",
      "<re.Match object; span=(0, 33), match='NDWI_Mask_105_resized_corrupt.tif'>\n",
      "<re.Match object; span=(0, 34), match='NDWI_Mask_1062_resized_corrupt.tif'>\n",
      "<re.Match object; span=(0, 34), match='NDWI_Mask_1063_resized_corrupt.tif'>\n",
      "<re.Match object; span=(0, 34), match='NDWI_Mask_1064_resized_corrupt.tif'>\n",
      "<re.Match object; span=(0, 34), match='NDWI_Mask_1065_resized_corrupt.tif'>\n",
      "<re.Match object; span=(0, 34), match='NDWI_Mask_1066_resized_corrupt.tif'>\n",
      "<re.Match object; span=(0, 34), match='NDWI_Mask_1067_resized_corrupt.tif'>\n",
      "<re.Match object; span=(0, 34), match='NDWI_Mask_1068_resized_corrupt.tif'>\n",
      "<re.Match object; span=(0, 34), match='NDWI_Mask_1069_resized_corrupt.tif'>\n",
      "<re.Match object; span=(0, 34), match='NDWI_Mask_1070_resized_corrupt.tif'>\n",
      "<re.Match object; span=(0, 34), match='NDWI_Mask_1071_resized_corrupt.tif'>\n",
      "<re.Match object; span=(0, 34), match='NDWI_Mask_1072_resized_corrupt.tif'>\n",
      "<re.Match object; span=(0, 34), match='NDWI_Mask_1074_resized_corrupt.tif'>\n",
      "<re.Match object; span=(0, 34), match='NDWI_Mask_1076_resized_corrupt.tif'>\n",
      "<re.Match object; span=(0, 34), match='NDWI_Mask_1077_resized_corrupt.tif'>\n",
      "<re.Match object; span=(0, 34), match='NDWI_Mask_1078_resized_corrupt.tif'>\n",
      "<re.Match object; span=(0, 33), match='NDWI_Mask_107_resized_corrupt.tif'>\n",
      "<re.Match object; span=(0, 34), match='NDWI_Mask_1080_resized_corrupt.tif'>\n",
      "<re.Match object; span=(0, 34), match='NDWI_Mask_1081_resized_corrupt.tif'>\n",
      "<re.Match object; span=(0, 34), match='NDWI_Mask_1082_resized_corrupt.tif'>\n",
      "<re.Match object; span=(0, 34), match='NDWI_Mask_1083_resized_corrupt.tif'>\n",
      "<re.Match object; span=(0, 34), match='NDWI_Mask_1084_resized_corrupt.tif'>\n",
      "<re.Match object; span=(0, 34), match='NDWI_Mask_1085_resized_corrupt.tif'>\n",
      "<re.Match object; span=(0, 34), match='NDWI_Mask_1087_resized_corrupt.tif'>\n",
      "<re.Match object; span=(0, 34), match='NDWI_Mask_1088_resized_corrupt.tif'>\n",
      "<re.Match object; span=(0, 34), match='NDWI_Mask_1089_resized_corrupt.tif'>\n",
      "<re.Match object; span=(0, 33), match='NDWI_Mask_108_resized_corrupt.tif'>\n",
      "<re.Match object; span=(0, 34), match='NDWI_Mask_1090_resized_corrupt.tif'>\n",
      "<re.Match object; span=(0, 34), match='NDWI_Mask_1091_resized_corrupt.tif'>\n",
      "<re.Match object; span=(0, 34), match='NDWI_Mask_1092_resized_corrupt.tif'>\n",
      "<re.Match object; span=(0, 34), match='NDWI_Mask_1093_resized_corrupt.tif'>\n",
      "<re.Match object; span=(0, 34), match='NDWI_Mask_1095_resized_corrupt.tif'>\n",
      "<re.Match object; span=(0, 34), match='NDWI_Mask_1096_resized_corrupt.tif'>\n",
      "<re.Match object; span=(0, 34), match='NDWI_Mask_1097_resized_corrupt.tif'>\n",
      "<re.Match object; span=(0, 34), match='NDWI_Mask_1098_resized_corrupt.tif'>\n",
      "<re.Match object; span=(0, 34), match='NDWI_Mask_1099_resized_corrupt.tif'>\n",
      "<re.Match object; span=(0, 33), match='NDWI_Mask_109_resized_corrupt.tif'>\n",
      "<re.Match object; span=(0, 34), match='NDWI_Mask_1100_resized_corrupt.tif'>\n",
      "<re.Match object; span=(0, 34), match='NDWI_Mask_1101_resized_corrupt.tif'>\n",
      "<re.Match object; span=(0, 34), match='NDWI_Mask_1102_resized_corrupt.tif'>\n",
      "<re.Match object; span=(0, 34), match='NDWI_Mask_1104_resized_corrupt.tif'>\n",
      "<re.Match object; span=(0, 34), match='NDWI_Mask_1105_resized_corrupt.tif'>\n",
      "<re.Match object; span=(0, 34), match='NDWI_Mask_1106_resized_corrupt.tif'>\n",
      "<re.Match object; span=(0, 34), match='NDWI_Mask_1107_resized_corrupt.tif'>\n",
      "<re.Match object; span=(0, 34), match='NDWI_Mask_1108_resized_corrupt.tif'>\n",
      "<re.Match object; span=(0, 34), match='NDWI_Mask_1109_resized_corrupt.tif'>\n",
      "<re.Match object; span=(0, 33), match='NDWI_Mask_110_resized_corrupt.tif'>\n",
      "<re.Match object; span=(0, 34), match='NDWI_Mask_1110_resized_corrupt.tif'>\n",
      "<re.Match object; span=(0, 34), match='NDWI_Mask_1111_resized_corrupt.tif'>\n",
      "<re.Match object; span=(0, 34), match='NDWI_Mask_1112_resized_corrupt.tif'>\n",
      "<re.Match object; span=(0, 34), match='NDWI_Mask_1113_resized_corrupt.tif'>\n",
      "<re.Match object; span=(0, 34), match='NDWI_Mask_1115_resized_corrupt.tif'>\n",
      "<re.Match object; span=(0, 34), match='NDWI_Mask_1116_resized_corrupt.tif'>\n",
      "<re.Match object; span=(0, 34), match='NDWI_Mask_1117_resized_corrupt.tif'>\n",
      "<re.Match object; span=(0, 34), match='NDWI_Mask_1118_resized_corrupt.tif'>\n",
      "<re.Match object; span=(0, 33), match='NDWI_Mask_111_resized_corrupt.tif'>\n",
      "<re.Match object; span=(0, 34), match='NDWI_Mask_1120_resized_corrupt.tif'>\n",
      "<re.Match object; span=(0, 34), match='NDWI_Mask_1121_resized_corrupt.tif'>\n",
      "<re.Match object; span=(0, 34), match='NDWI_Mask_1122_resized_corrupt.tif'>\n",
      "<re.Match object; span=(0, 34), match='NDWI_Mask_1123_resized_corrupt.tif'>\n",
      "<re.Match object; span=(0, 34), match='NDWI_Mask_1125_resized_corrupt.tif'>\n",
      "<re.Match object; span=(0, 34), match='NDWI_Mask_1126_resized_corrupt.tif'>\n",
      "<re.Match object; span=(0, 34), match='NDWI_Mask_1127_resized_corrupt.tif'>\n",
      "<re.Match object; span=(0, 34), match='NDWI_Mask_1128_resized_corrupt.tif'>\n",
      "<re.Match object; span=(0, 34), match='NDWI_Mask_1129_resized_corrupt.tif'>\n",
      "<re.Match object; span=(0, 33), match='NDWI_Mask_112_resized_corrupt.tif'>\n",
      "<re.Match object; span=(0, 34), match='NDWI_Mask_1132_resized_corrupt.tif'>\n",
      "<re.Match object; span=(0, 34), match='NDWI_Mask_1133_resized_corrupt.tif'>\n",
      "<re.Match object; span=(0, 34), match='NDWI_Mask_1134_resized_corrupt.tif'>\n",
      "<re.Match object; span=(0, 34), match='NDWI_Mask_1135_resized_corrupt.tif'>\n",
      "<re.Match object; span=(0, 34), match='NDWI_Mask_1136_resized_corrupt.tif'>\n",
      "<re.Match object; span=(0, 34), match='NDWI_Mask_1137_resized_corrupt.tif'>\n",
      "<re.Match object; span=(0, 34), match='NDWI_Mask_1138_resized_corrupt.tif'>\n",
      "<re.Match object; span=(0, 33), match='NDWI_Mask_113_resized_corrupt.tif'>\n",
      "<re.Match object; span=(0, 34), match='NDWI_Mask_1140_resized_corrupt.tif'>\n",
      "<re.Match object; span=(0, 34), match='NDWI_Mask_1141_resized_corrupt.tif'>\n",
      "<re.Match object; span=(0, 34), match='NDWI_Mask_1143_resized_corrupt.tif'>\n",
      "<re.Match object; span=(0, 34), match='NDWI_Mask_1144_resized_corrupt.tif'>\n",
      "<re.Match object; span=(0, 34), match='NDWI_Mask_1145_resized_corrupt.tif'>\n",
      "<re.Match object; span=(0, 34), match='NDWI_Mask_1146_resized_corrupt.tif'>\n",
      "<re.Match object; span=(0, 34), match='NDWI_Mask_1147_resized_corrupt.tif'>\n",
      "<re.Match object; span=(0, 34), match='NDWI_Mask_1148_resized_corrupt.tif'>\n",
      "<re.Match object; span=(0, 33), match='NDWI_Mask_114_resized_corrupt.tif'>\n",
      "<re.Match object; span=(0, 34), match='NDWI_Mask_1150_resized_corrupt.tif'>\n",
      "<re.Match object; span=(0, 34), match='NDWI_Mask_1151_resized_corrupt.tif'>\n",
      "<re.Match object; span=(0, 34), match='NDWI_Mask_1152_resized_corrupt.tif'>\n",
      "<re.Match object; span=(0, 34), match='NDWI_Mask_1153_resized_corrupt.tif'>\n",
      "<re.Match object; span=(0, 34), match='NDWI_Mask_1154_resized_corrupt.tif'>\n",
      "<re.Match object; span=(0, 34), match='NDWI_Mask_1155_resized_corrupt.tif'>\n",
      "<re.Match object; span=(0, 34), match='NDWI_Mask_1156_resized_corrupt.tif'>\n",
      "<re.Match object; span=(0, 34), match='NDWI_Mask_1157_resized_corrupt.tif'>\n",
      "<re.Match object; span=(0, 34), match='NDWI_Mask_1158_resized_corrupt.tif'>\n",
      "<re.Match object; span=(0, 34), match='NDWI_Mask_1159_resized_corrupt.tif'>\n",
      "<re.Match object; span=(0, 33), match='NDWI_Mask_115_resized_corrupt.tif'>\n",
      "<re.Match object; span=(0, 34), match='NDWI_Mask_1162_resized_corrupt.tif'>\n",
      "<re.Match object; span=(0, 34), match='NDWI_Mask_1163_resized_corrupt.tif'>\n",
      "<re.Match object; span=(0, 34), match='NDWI_Mask_1166_resized_corrupt.tif'>\n",
      "<re.Match object; span=(0, 34), match='NDWI_Mask_1167_resized_corrupt.tif'>\n",
      "<re.Match object; span=(0, 34), match='NDWI_Mask_1169_resized_corrupt.tif'>\n",
      "<re.Match object; span=(0, 33), match='NDWI_Mask_116_resized_corrupt.tif'>\n",
      "<re.Match object; span=(0, 34), match='NDWI_Mask_1171_resized_corrupt.tif'>\n",
      "<re.Match object; span=(0, 34), match='NDWI_Mask_1172_resized_corrupt.tif'>\n",
      "<re.Match object; span=(0, 34), match='NDWI_Mask_1173_resized_corrupt.tif'>\n",
      "<re.Match object; span=(0, 34), match='NDWI_Mask_1174_resized_corrupt.tif'>\n",
      "<re.Match object; span=(0, 34), match='NDWI_Mask_1175_resized_corrupt.tif'>\n",
      "<re.Match object; span=(0, 34), match='NDWI_Mask_1176_resized_corrupt.tif'>\n",
      "<re.Match object; span=(0, 34), match='NDWI_Mask_1177_resized_corrupt.tif'>\n",
      "<re.Match object; span=(0, 34), match='NDWI_Mask_1179_resized_corrupt.tif'>\n",
      "<re.Match object; span=(0, 34), match='NDWI_Mask_1182_resized_corrupt.tif'>\n",
      "<re.Match object; span=(0, 34), match='NDWI_Mask_1183_resized_corrupt.tif'>\n",
      "<re.Match object; span=(0, 34), match='NDWI_Mask_1184_resized_corrupt.tif'>\n",
      "<re.Match object; span=(0, 34), match='NDWI_Mask_1185_resized_corrupt.tif'>\n",
      "<re.Match object; span=(0, 34), match='NDWI_Mask_1186_resized_corrupt.tif'>\n",
      "<re.Match object; span=(0, 34), match='NDWI_Mask_1189_resized_corrupt.tif'>\n",
      "<re.Match object; span=(0, 33), match='NDWI_Mask_118_resized_corrupt.tif'>\n",
      "<re.Match object; span=(0, 34), match='NDWI_Mask_1190_resized_corrupt.tif'>\n",
      "<re.Match object; span=(0, 34), match='NDWI_Mask_1191_resized_corrupt.tif'>\n",
      "<re.Match object; span=(0, 34), match='NDWI_Mask_1192_resized_corrupt.tif'>\n",
      "<re.Match object; span=(0, 34), match='NDWI_Mask_1193_resized_corrupt.tif'>\n",
      "<re.Match object; span=(0, 34), match='NDWI_Mask_1194_resized_corrupt.tif'>\n",
      "<re.Match object; span=(0, 34), match='NDWI_Mask_1195_resized_corrupt.tif'>\n",
      "<re.Match object; span=(0, 34), match='NDWI_Mask_1196_resized_corrupt.tif'>\n",
      "<re.Match object; span=(0, 34), match='NDWI_Mask_1197_resized_corrupt.tif'>\n",
      "<re.Match object; span=(0, 34), match='NDWI_Mask_1199_resized_corrupt.tif'>\n",
      "<re.Match object; span=(0, 32), match='NDWI_Mask_11_resized_corrupt.tif'>\n",
      "<re.Match object; span=(0, 34), match='NDWI_Mask_1200_resized_corrupt.tif'>\n",
      "<re.Match object; span=(0, 34), match='NDWI_Mask_1201_resized_corrupt.tif'>\n",
      "<re.Match object; span=(0, 34), match='NDWI_Mask_1202_resized_corrupt.tif'>\n",
      "<re.Match object; span=(0, 34), match='NDWI_Mask_1203_resized_corrupt.tif'>\n",
      "<re.Match object; span=(0, 34), match='NDWI_Mask_1204_resized_corrupt.tif'>\n",
      "<re.Match object; span=(0, 34), match='NDWI_Mask_1205_resized_corrupt.tif'>\n",
      "<re.Match object; span=(0, 34), match='NDWI_Mask_1206_resized_corrupt.tif'>\n",
      "<re.Match object; span=(0, 34), match='NDWI_Mask_1207_resized_corrupt.tif'>\n",
      "<re.Match object; span=(0, 34), match='NDWI_Mask_1208_resized_corrupt.tif'>\n",
      "<re.Match object; span=(0, 34), match='NDWI_Mask_1209_resized_corrupt.tif'>\n",
      "<re.Match object; span=(0, 34), match='NDWI_Mask_1210_resized_corrupt.tif'>\n",
      "<re.Match object; span=(0, 34), match='NDWI_Mask_1211_resized_corrupt.tif'>\n",
      "<re.Match object; span=(0, 34), match='NDWI_Mask_1212_resized_corrupt.tif'>\n",
      "<re.Match object; span=(0, 34), match='NDWI_Mask_1213_resized_corrupt.tif'>\n",
      "<re.Match object; span=(0, 34), match='NDWI_Mask_1214_resized_corrupt.tif'>\n",
      "<re.Match object; span=(0, 34), match='NDWI_Mask_1215_resized_corrupt.tif'>\n",
      "<re.Match object; span=(0, 34), match='NDWI_Mask_1216_resized_corrupt.tif'>\n",
      "<re.Match object; span=(0, 34), match='NDWI_Mask_1217_resized_corrupt.tif'>\n",
      "<re.Match object; span=(0, 34), match='NDWI_Mask_1218_resized_corrupt.tif'>\n",
      "<re.Match object; span=(0, 34), match='NDWI_Mask_1220_resized_corrupt.tif'>\n",
      "<re.Match object; span=(0, 34), match='NDWI_Mask_1221_resized_corrupt.tif'>\n",
      "<re.Match object; span=(0, 34), match='NDWI_Mask_1223_resized_corrupt.tif'>\n",
      "<re.Match object; span=(0, 34), match='NDWI_Mask_1224_resized_corrupt.tif'>\n",
      "<re.Match object; span=(0, 34), match='NDWI_Mask_1225_resized_corrupt.tif'>\n",
      "<re.Match object; span=(0, 34), match='NDWI_Mask_1226_resized_corrupt.tif'>\n",
      "<re.Match object; span=(0, 34), match='NDWI_Mask_1227_resized_corrupt.tif'>\n",
      "<re.Match object; span=(0, 34), match='NDWI_Mask_1228_resized_corrupt.tif'>\n",
      "<re.Match object; span=(0, 34), match='NDWI_Mask_1229_resized_corrupt.tif'>\n",
      "<re.Match object; span=(0, 33), match='NDWI_Mask_122_resized_corrupt.tif'>\n",
      "<re.Match object; span=(0, 34), match='NDWI_Mask_1230_resized_corrupt.tif'>\n",
      "<re.Match object; span=(0, 34), match='NDWI_Mask_1231_resized_corrupt.tif'>\n",
      "<re.Match object; span=(0, 34), match='NDWI_Mask_1233_resized_corrupt.tif'>\n",
      "<re.Match object; span=(0, 34), match='NDWI_Mask_1234_resized_corrupt.tif'>\n",
      "<re.Match object; span=(0, 34), match='NDWI_Mask_1235_resized_corrupt.tif'>\n",
      "<re.Match object; span=(0, 34), match='NDWI_Mask_1236_resized_corrupt.tif'>\n",
      "<re.Match object; span=(0, 34), match='NDWI_Mask_1238_resized_corrupt.tif'>\n",
      "<re.Match object; span=(0, 33), match='NDWI_Mask_123_resized_corrupt.tif'>\n",
      "<re.Match object; span=(0, 34), match='NDWI_Mask_1240_resized_corrupt.tif'>\n",
      "<re.Match object; span=(0, 34), match='NDWI_Mask_1241_resized_corrupt.tif'>\n",
      "<re.Match object; span=(0, 34), match='NDWI_Mask_1242_resized_corrupt.tif'>\n",
      "<re.Match object; span=(0, 34), match='NDWI_Mask_1243_resized_corrupt.tif'>\n",
      "<re.Match object; span=(0, 34), match='NDWI_Mask_1244_resized_corrupt.tif'>\n",
      "<re.Match object; span=(0, 34), match='NDWI_Mask_1245_resized_corrupt.tif'>\n",
      "<re.Match object; span=(0, 34), match='NDWI_Mask_1246_resized_corrupt.tif'>\n",
      "<re.Match object; span=(0, 34), match='NDWI_Mask_1247_resized_corrupt.tif'>\n",
      "<re.Match object; span=(0, 34), match='NDWI_Mask_1248_resized_corrupt.tif'>\n",
      "<re.Match object; span=(0, 34), match='NDWI_Mask_1249_resized_corrupt.tif'>\n",
      "<re.Match object; span=(0, 33), match='NDWI_Mask_124_resized_corrupt.tif'>\n",
      "<re.Match object; span=(0, 34), match='NDWI_Mask_1250_resized_corrupt.tif'>\n",
      "<re.Match object; span=(0, 34), match='NDWI_Mask_1251_resized_corrupt.tif'>\n",
      "<re.Match object; span=(0, 34), match='NDWI_Mask_1253_resized_corrupt.tif'>\n",
      "<re.Match object; span=(0, 34), match='NDWI_Mask_1254_resized_corrupt.tif'>\n",
      "<re.Match object; span=(0, 34), match='NDWI_Mask_1255_resized_corrupt.tif'>\n",
      "<re.Match object; span=(0, 34), match='NDWI_Mask_1256_resized_corrupt.tif'>\n",
      "<re.Match object; span=(0, 34), match='NDWI_Mask_1257_resized_corrupt.tif'>\n",
      "<re.Match object; span=(0, 34), match='NDWI_Mask_1258_resized_corrupt.tif'>\n",
      "<re.Match object; span=(0, 34), match='NDWI_Mask_1259_resized_corrupt.tif'>\n",
      "<re.Match object; span=(0, 34), match='NDWI_Mask_1260_resized_corrupt.tif'>\n",
      "<re.Match object; span=(0, 34), match='NDWI_Mask_1261_resized_corrupt.tif'>\n",
      "<re.Match object; span=(0, 33), match='NDWI_Mask_126_resized_corrupt.tif'>\n",
      "<re.Match object; span=(0, 33), match='NDWI_Mask_127_resized_corrupt.tif'>\n",
      "<re.Match object; span=(0, 33), match='NDWI_Mask_128_resized_corrupt.tif'>\n",
      "<re.Match object; span=(0, 32), match='NDWI_Mask_12_resized_corrupt.tif'>\n",
      "<re.Match object; span=(0, 33), match='NDWI_Mask_130_resized_corrupt.tif'>\n",
      "<re.Match object; span=(0, 33), match='NDWI_Mask_131_resized_corrupt.tif'>\n",
      "<re.Match object; span=(0, 33), match='NDWI_Mask_132_resized_corrupt.tif'>\n",
      "<re.Match object; span=(0, 33), match='NDWI_Mask_134_resized_corrupt.tif'>\n",
      "<re.Match object; span=(0, 33), match='NDWI_Mask_135_resized_corrupt.tif'>\n",
      "<re.Match object; span=(0, 33), match='NDWI_Mask_136_resized_corrupt.tif'>\n",
      "<re.Match object; span=(0, 33), match='NDWI_Mask_137_resized_corrupt.tif'>\n",
      "<re.Match object; span=(0, 33), match='NDWI_Mask_138_resized_corrupt.tif'>\n",
      "<re.Match object; span=(0, 32), match='NDWI_Mask_13_resized_corrupt.tif'>\n",
      "<re.Match object; span=(0, 33), match='NDWI_Mask_140_resized_corrupt.tif'>\n",
      "<re.Match object; span=(0, 33), match='NDWI_Mask_141_resized_corrupt.tif'>\n",
      "<re.Match object; span=(0, 33), match='NDWI_Mask_142_resized_corrupt.tif'>\n",
      "<re.Match object; span=(0, 33), match='NDWI_Mask_144_resized_corrupt.tif'>\n",
      "<re.Match object; span=(0, 33), match='NDWI_Mask_145_resized_corrupt.tif'>\n",
      "<re.Match object; span=(0, 33), match='NDWI_Mask_146_resized_corrupt.tif'>\n",
      "<re.Match object; span=(0, 33), match='NDWI_Mask_147_resized_corrupt.tif'>\n",
      "<re.Match object; span=(0, 33), match='NDWI_Mask_148_resized_corrupt.tif'>\n",
      "<re.Match object; span=(0, 33), match='NDWI_Mask_149_resized_corrupt.tif'>\n",
      "<re.Match object; span=(0, 32), match='NDWI_Mask_14_resized_corrupt.tif'>\n",
      "<re.Match object; span=(0, 33), match='NDWI_Mask_150_resized_corrupt.tif'>\n",
      "<re.Match object; span=(0, 33), match='NDWI_Mask_152_resized_corrupt.tif'>\n",
      "<re.Match object; span=(0, 33), match='NDWI_Mask_153_resized_corrupt.tif'>\n",
      "<re.Match object; span=(0, 33), match='NDWI_Mask_155_resized_corrupt.tif'>\n",
      "<re.Match object; span=(0, 33), match='NDWI_Mask_156_resized_corrupt.tif'>\n",
      "<re.Match object; span=(0, 33), match='NDWI_Mask_157_resized_corrupt.tif'>\n",
      "<re.Match object; span=(0, 33), match='NDWI_Mask_158_resized_corrupt.tif'>\n",
      "<re.Match object; span=(0, 33), match='NDWI_Mask_159_resized_corrupt.tif'>\n",
      "<re.Match object; span=(0, 33), match='NDWI_Mask_160_resized_corrupt.tif'>\n",
      "<re.Match object; span=(0, 33), match='NDWI_Mask_161_resized_corrupt.tif'>\n",
      "<re.Match object; span=(0, 33), match='NDWI_Mask_162_resized_corrupt.tif'>\n",
      "<re.Match object; span=(0, 33), match='NDWI_Mask_163_resized_corrupt.tif'>\n",
      "<re.Match object; span=(0, 33), match='NDWI_Mask_165_resized_corrupt.tif'>\n",
      "<re.Match object; span=(0, 33), match='NDWI_Mask_166_resized_corrupt.tif'>\n",
      "<re.Match object; span=(0, 33), match='NDWI_Mask_167_resized_corrupt.tif'>\n",
      "<re.Match object; span=(0, 33), match='NDWI_Mask_168_resized_corrupt.tif'>\n",
      "<re.Match object; span=(0, 33), match='NDWI_Mask_169_resized_corrupt.tif'>\n",
      "<re.Match object; span=(0, 32), match='NDWI_Mask_16_resized_corrupt.tif'>\n",
      "<re.Match object; span=(0, 33), match='NDWI_Mask_170_resized_corrupt.tif'>\n",
      "<re.Match object; span=(0, 33), match='NDWI_Mask_171_resized_corrupt.tif'>\n",
      "<re.Match object; span=(0, 33), match='NDWI_Mask_172_resized_corrupt.tif'>\n",
      "<re.Match object; span=(0, 33), match='NDWI_Mask_173_resized_corrupt.tif'>\n",
      "<re.Match object; span=(0, 33), match='NDWI_Mask_174_resized_corrupt.tif'>\n",
      "<re.Match object; span=(0, 33), match='NDWI_Mask_175_resized_corrupt.tif'>\n",
      "<re.Match object; span=(0, 33), match='NDWI_Mask_176_resized_corrupt.tif'>\n",
      "<re.Match object; span=(0, 33), match='NDWI_Mask_177_resized_corrupt.tif'>\n",
      "<re.Match object; span=(0, 33), match='NDWI_Mask_178_resized_corrupt.tif'>\n",
      "<re.Match object; span=(0, 33), match='NDWI_Mask_179_resized_corrupt.tif'>\n",
      "<re.Match object; span=(0, 32), match='NDWI_Mask_17_resized_corrupt.tif'>\n",
      "<re.Match object; span=(0, 33), match='NDWI_Mask_182_resized_corrupt.tif'>\n",
      "<re.Match object; span=(0, 33), match='NDWI_Mask_183_resized_corrupt.tif'>\n",
      "<re.Match object; span=(0, 33), match='NDWI_Mask_185_resized_corrupt.tif'>\n",
      "<re.Match object; span=(0, 33), match='NDWI_Mask_186_resized_corrupt.tif'>\n",
      "<re.Match object; span=(0, 32), match='NDWI_Mask_18_resized_corrupt.tif'>\n",
      "<re.Match object; span=(0, 33), match='NDWI_Mask_190_resized_corrupt.tif'>\n",
      "<re.Match object; span=(0, 33), match='NDWI_Mask_191_resized_corrupt.tif'>\n",
      "<re.Match object; span=(0, 33), match='NDWI_Mask_192_resized_corrupt.tif'>\n",
      "<re.Match object; span=(0, 33), match='NDWI_Mask_194_resized_corrupt.tif'>\n",
      "<re.Match object; span=(0, 33), match='NDWI_Mask_196_resized_corrupt.tif'>\n",
      "<re.Match object; span=(0, 33), match='NDWI_Mask_198_resized_corrupt.tif'>\n",
      "<re.Match object; span=(0, 33), match='NDWI_Mask_199_resized_corrupt.tif'>\n",
      "<re.Match object; span=(0, 32), match='NDWI_Mask_19_resized_corrupt.tif'>\n",
      "<re.Match object; span=(0, 31), match='NDWI_Mask_1_resized_corrupt.tif'>\n",
      "<re.Match object; span=(0, 33), match='NDWI_Mask_200_resized_corrupt.tif'>\n",
      "<re.Match object; span=(0, 33), match='NDWI_Mask_202_resized_corrupt.tif'>\n",
      "<re.Match object; span=(0, 33), match='NDWI_Mask_206_resized_corrupt.tif'>\n",
      "<re.Match object; span=(0, 33), match='NDWI_Mask_207_resized_corrupt.tif'>\n",
      "<re.Match object; span=(0, 33), match='NDWI_Mask_208_resized_corrupt.tif'>\n",
      "<re.Match object; span=(0, 33), match='NDWI_Mask_209_resized_corrupt.tif'>\n",
      "<re.Match object; span=(0, 33), match='NDWI_Mask_210_resized_corrupt.tif'>\n",
      "<re.Match object; span=(0, 33), match='NDWI_Mask_212_resized_corrupt.tif'>\n",
      "<re.Match object; span=(0, 33), match='NDWI_Mask_213_resized_corrupt.tif'>\n",
      "<re.Match object; span=(0, 33), match='NDWI_Mask_215_resized_corrupt.tif'>\n",
      "<re.Match object; span=(0, 33), match='NDWI_Mask_218_resized_corrupt.tif'>\n",
      "<re.Match object; span=(0, 33), match='NDWI_Mask_219_resized_corrupt.tif'>\n",
      "<re.Match object; span=(0, 33), match='NDWI_Mask_220_resized_corrupt.tif'>\n",
      "<re.Match object; span=(0, 33), match='NDWI_Mask_223_resized_corrupt.tif'>\n",
      "<re.Match object; span=(0, 33), match='NDWI_Mask_224_resized_corrupt.tif'>\n",
      "<re.Match object; span=(0, 33), match='NDWI_Mask_225_resized_corrupt.tif'>\n",
      "<re.Match object; span=(0, 33), match='NDWI_Mask_226_resized_corrupt.tif'>\n",
      "<re.Match object; span=(0, 33), match='NDWI_Mask_227_resized_corrupt.tif'>\n",
      "<re.Match object; span=(0, 33), match='NDWI_Mask_228_resized_corrupt.tif'>\n",
      "<re.Match object; span=(0, 33), match='NDWI_Mask_229_resized_corrupt.tif'>\n",
      "<re.Match object; span=(0, 32), match='NDWI_Mask_22_resized_corrupt.tif'>\n",
      "<re.Match object; span=(0, 33), match='NDWI_Mask_230_resized_corrupt.tif'>\n",
      "<re.Match object; span=(0, 33), match='NDWI_Mask_231_resized_corrupt.tif'>\n",
      "<re.Match object; span=(0, 33), match='NDWI_Mask_232_resized_corrupt.tif'>\n",
      "<re.Match object; span=(0, 33), match='NDWI_Mask_233_resized_corrupt.tif'>\n",
      "<re.Match object; span=(0, 33), match='NDWI_Mask_234_resized_corrupt.tif'>\n",
      "<re.Match object; span=(0, 33), match='NDWI_Mask_235_resized_corrupt.tif'>\n",
      "<re.Match object; span=(0, 33), match='NDWI_Mask_237_resized_corrupt.tif'>\n",
      "<re.Match object; span=(0, 33), match='NDWI_Mask_238_resized_corrupt.tif'>\n",
      "<re.Match object; span=(0, 33), match='NDWI_Mask_239_resized_corrupt.tif'>\n",
      "<re.Match object; span=(0, 32), match='NDWI_Mask_23_resized_corrupt.tif'>\n",
      "<re.Match object; span=(0, 33), match='NDWI_Mask_240_resized_corrupt.tif'>\n",
      "<re.Match object; span=(0, 33), match='NDWI_Mask_241_resized_corrupt.tif'>\n",
      "<re.Match object; span=(0, 33), match='NDWI_Mask_244_resized_corrupt.tif'>\n",
      "<re.Match object; span=(0, 33), match='NDWI_Mask_245_resized_corrupt.tif'>\n",
      "<re.Match object; span=(0, 33), match='NDWI_Mask_246_resized_corrupt.tif'>\n",
      "<re.Match object; span=(0, 33), match='NDWI_Mask_247_resized_corrupt.tif'>\n",
      "<re.Match object; span=(0, 33), match='NDWI_Mask_249_resized_corrupt.tif'>\n",
      "<re.Match object; span=(0, 32), match='NDWI_Mask_24_resized_corrupt.tif'>\n",
      "<re.Match object; span=(0, 33), match='NDWI_Mask_250_resized_corrupt.tif'>\n",
      "<re.Match object; span=(0, 33), match='NDWI_Mask_252_resized_corrupt.tif'>\n",
      "<re.Match object; span=(0, 33), match='NDWI_Mask_253_resized_corrupt.tif'>\n",
      "<re.Match object; span=(0, 33), match='NDWI_Mask_255_resized_corrupt.tif'>\n",
      "<re.Match object; span=(0, 33), match='NDWI_Mask_256_resized_corrupt.tif'>\n",
      "<re.Match object; span=(0, 33), match='NDWI_Mask_257_resized_corrupt.tif'>\n",
      "<re.Match object; span=(0, 33), match='NDWI_Mask_258_resized_corrupt.tif'>\n",
      "<re.Match object; span=(0, 32), match='NDWI_Mask_25_resized_corrupt.tif'>\n",
      "<re.Match object; span=(0, 33), match='NDWI_Mask_260_resized_corrupt.tif'>\n",
      "<re.Match object; span=(0, 33), match='NDWI_Mask_261_resized_corrupt.tif'>\n",
      "<re.Match object; span=(0, 33), match='NDWI_Mask_262_resized_corrupt.tif'>\n",
      "<re.Match object; span=(0, 33), match='NDWI_Mask_264_resized_corrupt.tif'>\n",
      "<re.Match object; span=(0, 33), match='NDWI_Mask_265_resized_corrupt.tif'>\n",
      "<re.Match object; span=(0, 33), match='NDWI_Mask_266_resized_corrupt.tif'>\n",
      "<re.Match object; span=(0, 33), match='NDWI_Mask_267_resized_corrupt.tif'>\n",
      "<re.Match object; span=(0, 33), match='NDWI_Mask_268_resized_corrupt.tif'>\n",
      "<re.Match object; span=(0, 33), match='NDWI_Mask_269_resized_corrupt.tif'>\n",
      "<re.Match object; span=(0, 32), match='NDWI_Mask_26_resized_corrupt.tif'>\n",
      "<re.Match object; span=(0, 33), match='NDWI_Mask_270_resized_corrupt.tif'>\n",
      "<re.Match object; span=(0, 33), match='NDWI_Mask_272_resized_corrupt.tif'>\n",
      "<re.Match object; span=(0, 33), match='NDWI_Mask_275_resized_corrupt.tif'>\n",
      "<re.Match object; span=(0, 33), match='NDWI_Mask_276_resized_corrupt.tif'>\n",
      "<re.Match object; span=(0, 33), match='NDWI_Mask_277_resized_corrupt.tif'>\n",
      "<re.Match object; span=(0, 32), match='NDWI_Mask_27_resized_corrupt.tif'>\n",
      "<re.Match object; span=(0, 33), match='NDWI_Mask_280_resized_corrupt.tif'>\n",
      "<re.Match object; span=(0, 33), match='NDWI_Mask_281_resized_corrupt.tif'>\n",
      "<re.Match object; span=(0, 33), match='NDWI_Mask_282_resized_corrupt.tif'>\n",
      "<re.Match object; span=(0, 33), match='NDWI_Mask_284_resized_corrupt.tif'>\n",
      "<re.Match object; span=(0, 33), match='NDWI_Mask_286_resized_corrupt.tif'>\n",
      "<re.Match object; span=(0, 33), match='NDWI_Mask_287_resized_corrupt.tif'>\n",
      "<re.Match object; span=(0, 33), match='NDWI_Mask_288_resized_corrupt.tif'>\n",
      "<re.Match object; span=(0, 33), match='NDWI_Mask_289_resized_corrupt.tif'>\n",
      "<re.Match object; span=(0, 32), match='NDWI_Mask_28_resized_corrupt.tif'>\n",
      "<re.Match object; span=(0, 33), match='NDWI_Mask_290_resized_corrupt.tif'>\n",
      "<re.Match object; span=(0, 33), match='NDWI_Mask_291_resized_corrupt.tif'>\n",
      "<re.Match object; span=(0, 33), match='NDWI_Mask_292_resized_corrupt.tif'>\n",
      "<re.Match object; span=(0, 33), match='NDWI_Mask_293_resized_corrupt.tif'>\n",
      "<re.Match object; span=(0, 33), match='NDWI_Mask_295_resized_corrupt.tif'>\n",
      "<re.Match object; span=(0, 33), match='NDWI_Mask_296_resized_corrupt.tif'>\n",
      "<re.Match object; span=(0, 33), match='NDWI_Mask_297_resized_corrupt.tif'>\n",
      "<re.Match object; span=(0, 33), match='NDWI_Mask_298_resized_corrupt.tif'>\n",
      "<re.Match object; span=(0, 33), match='NDWI_Mask_299_resized_corrupt.tif'>\n",
      "<re.Match object; span=(0, 31), match='NDWI_Mask_2_resized_corrupt.tif'>\n",
      "<re.Match object; span=(0, 33), match='NDWI_Mask_300_resized_corrupt.tif'>\n",
      "<re.Match object; span=(0, 33), match='NDWI_Mask_301_resized_corrupt.tif'>\n",
      "<re.Match object; span=(0, 33), match='NDWI_Mask_304_resized_corrupt.tif'>\n",
      "<re.Match object; span=(0, 33), match='NDWI_Mask_307_resized_corrupt.tif'>\n",
      "<re.Match object; span=(0, 33), match='NDWI_Mask_308_resized_corrupt.tif'>\n",
      "<re.Match object; span=(0, 32), match='NDWI_Mask_30_resized_corrupt.tif'>\n",
      "<re.Match object; span=(0, 33), match='NDWI_Mask_310_resized_corrupt.tif'>\n",
      "<re.Match object; span=(0, 33), match='NDWI_Mask_311_resized_corrupt.tif'>\n",
      "<re.Match object; span=(0, 33), match='NDWI_Mask_312_resized_corrupt.tif'>\n",
      "<re.Match object; span=(0, 33), match='NDWI_Mask_314_resized_corrupt.tif'>\n",
      "<re.Match object; span=(0, 33), match='NDWI_Mask_315_resized_corrupt.tif'>\n",
      "<re.Match object; span=(0, 33), match='NDWI_Mask_316_resized_corrupt.tif'>\n",
      "<re.Match object; span=(0, 33), match='NDWI_Mask_317_resized_corrupt.tif'>\n",
      "<re.Match object; span=(0, 33), match='NDWI_Mask_318_resized_corrupt.tif'>\n",
      "<re.Match object; span=(0, 33), match='NDWI_Mask_319_resized_corrupt.tif'>\n",
      "<re.Match object; span=(0, 32), match='NDWI_Mask_31_resized_corrupt.tif'>\n",
      "<re.Match object; span=(0, 33), match='NDWI_Mask_321_resized_corrupt.tif'>\n",
      "<re.Match object; span=(0, 33), match='NDWI_Mask_322_resized_corrupt.tif'>\n",
      "<re.Match object; span=(0, 33), match='NDWI_Mask_323_resized_corrupt.tif'>\n",
      "<re.Match object; span=(0, 33), match='NDWI_Mask_324_resized_corrupt.tif'>\n",
      "<re.Match object; span=(0, 33), match='NDWI_Mask_326_resized_corrupt.tif'>\n",
      "<re.Match object; span=(0, 33), match='NDWI_Mask_328_resized_corrupt.tif'>\n",
      "<re.Match object; span=(0, 32), match='NDWI_Mask_32_resized_corrupt.tif'>\n",
      "<re.Match object; span=(0, 33), match='NDWI_Mask_330_resized_corrupt.tif'>\n",
      "<re.Match object; span=(0, 33), match='NDWI_Mask_331_resized_corrupt.tif'>\n",
      "<re.Match object; span=(0, 33), match='NDWI_Mask_332_resized_corrupt.tif'>\n",
      "<re.Match object; span=(0, 33), match='NDWI_Mask_333_resized_corrupt.tif'>\n",
      "<re.Match object; span=(0, 33), match='NDWI_Mask_336_resized_corrupt.tif'>\n",
      "<re.Match object; span=(0, 33), match='NDWI_Mask_337_resized_corrupt.tif'>\n",
      "<re.Match object; span=(0, 33), match='NDWI_Mask_338_resized_corrupt.tif'>\n",
      "<re.Match object; span=(0, 33), match='NDWI_Mask_339_resized_corrupt.tif'>\n",
      "<re.Match object; span=(0, 32), match='NDWI_Mask_33_resized_corrupt.tif'>\n",
      "<re.Match object; span=(0, 33), match='NDWI_Mask_341_resized_corrupt.tif'>\n",
      "<re.Match object; span=(0, 33), match='NDWI_Mask_342_resized_corrupt.tif'>\n",
      "<re.Match object; span=(0, 33), match='NDWI_Mask_343_resized_corrupt.tif'>\n",
      "<re.Match object; span=(0, 33), match='NDWI_Mask_344_resized_corrupt.tif'>\n",
      "<re.Match object; span=(0, 33), match='NDWI_Mask_345_resized_corrupt.tif'>\n",
      "<re.Match object; span=(0, 33), match='NDWI_Mask_347_resized_corrupt.tif'>\n",
      "<re.Match object; span=(0, 33), match='NDWI_Mask_349_resized_corrupt.tif'>\n",
      "<re.Match object; span=(0, 32), match='NDWI_Mask_34_resized_corrupt.tif'>\n",
      "<re.Match object; span=(0, 33), match='NDWI_Mask_350_resized_corrupt.tif'>\n",
      "<re.Match object; span=(0, 33), match='NDWI_Mask_351_resized_corrupt.tif'>\n",
      "<re.Match object; span=(0, 33), match='NDWI_Mask_352_resized_corrupt.tif'>\n",
      "<re.Match object; span=(0, 33), match='NDWI_Mask_354_resized_corrupt.tif'>\n",
      "<re.Match object; span=(0, 33), match='NDWI_Mask_355_resized_corrupt.tif'>\n",
      "<re.Match object; span=(0, 33), match='NDWI_Mask_356_resized_corrupt.tif'>\n",
      "<re.Match object; span=(0, 33), match='NDWI_Mask_357_resized_corrupt.tif'>\n",
      "<re.Match object; span=(0, 33), match='NDWI_Mask_359_resized_corrupt.tif'>\n",
      "<re.Match object; span=(0, 32), match='NDWI_Mask_35_resized_corrupt.tif'>\n",
      "<re.Match object; span=(0, 33), match='NDWI_Mask_360_resized_corrupt.tif'>\n",
      "<re.Match object; span=(0, 33), match='NDWI_Mask_361_resized_corrupt.tif'>\n",
      "<re.Match object; span=(0, 33), match='NDWI_Mask_363_resized_corrupt.tif'>\n",
      "<re.Match object; span=(0, 33), match='NDWI_Mask_364_resized_corrupt.tif'>\n",
      "<re.Match object; span=(0, 33), match='NDWI_Mask_365_resized_corrupt.tif'>\n",
      "<re.Match object; span=(0, 33), match='NDWI_Mask_366_resized_corrupt.tif'>\n",
      "<re.Match object; span=(0, 33), match='NDWI_Mask_367_resized_corrupt.tif'>\n",
      "<re.Match object; span=(0, 33), match='NDWI_Mask_369_resized_corrupt.tif'>\n",
      "<re.Match object; span=(0, 32), match='NDWI_Mask_36_resized_corrupt.tif'>\n",
      "<re.Match object; span=(0, 33), match='NDWI_Mask_370_resized_corrupt.tif'>\n",
      "<re.Match object; span=(0, 33), match='NDWI_Mask_371_resized_corrupt.tif'>\n",
      "<re.Match object; span=(0, 33), match='NDWI_Mask_374_resized_corrupt.tif'>\n",
      "<re.Match object; span=(0, 33), match='NDWI_Mask_375_resized_corrupt.tif'>\n",
      "<re.Match object; span=(0, 33), match='NDWI_Mask_376_resized_corrupt.tif'>\n",
      "<re.Match object; span=(0, 33), match='NDWI_Mask_377_resized_corrupt.tif'>\n",
      "<re.Match object; span=(0, 33), match='NDWI_Mask_378_resized_corrupt.tif'>\n",
      "<re.Match object; span=(0, 33), match='NDWI_Mask_379_resized_corrupt.tif'>\n",
      "<re.Match object; span=(0, 33), match='NDWI_Mask_380_resized_corrupt.tif'>\n",
      "<re.Match object; span=(0, 33), match='NDWI_Mask_381_resized_corrupt.tif'>\n",
      "<re.Match object; span=(0, 33), match='NDWI_Mask_382_resized_corrupt.tif'>\n",
      "<re.Match object; span=(0, 33), match='NDWI_Mask_383_resized_corrupt.tif'>\n",
      "<re.Match object; span=(0, 33), match='NDWI_Mask_384_resized_corrupt.tif'>\n",
      "<re.Match object; span=(0, 33), match='NDWI_Mask_386_resized_corrupt.tif'>\n",
      "<re.Match object; span=(0, 33), match='NDWI_Mask_387_resized_corrupt.tif'>\n",
      "<re.Match object; span=(0, 33), match='NDWI_Mask_388_resized_corrupt.tif'>\n",
      "<re.Match object; span=(0, 33), match='NDWI_Mask_389_resized_corrupt.tif'>\n",
      "<re.Match object; span=(0, 33), match='NDWI_Mask_390_resized_corrupt.tif'>\n",
      "<re.Match object; span=(0, 33), match='NDWI_Mask_391_resized_corrupt.tif'>\n",
      "<re.Match object; span=(0, 33), match='NDWI_Mask_392_resized_corrupt.tif'>\n",
      "<re.Match object; span=(0, 33), match='NDWI_Mask_393_resized_corrupt.tif'>\n",
      "<re.Match object; span=(0, 33), match='NDWI_Mask_395_resized_corrupt.tif'>\n",
      "<re.Match object; span=(0, 33), match='NDWI_Mask_396_resized_corrupt.tif'>\n",
      "<re.Match object; span=(0, 33), match='NDWI_Mask_397_resized_corrupt.tif'>\n",
      "<re.Match object; span=(0, 33), match='NDWI_Mask_398_resized_corrupt.tif'>\n",
      "<re.Match object; span=(0, 33), match='NDWI_Mask_399_resized_corrupt.tif'>\n",
      "<re.Match object; span=(0, 32), match='NDWI_Mask_39_resized_corrupt.tif'>\n",
      "<re.Match object; span=(0, 31), match='NDWI_Mask_3_resized_corrupt.tif'>\n",
      "<re.Match object; span=(0, 33), match='NDWI_Mask_400_resized_corrupt.tif'>\n",
      "<re.Match object; span=(0, 33), match='NDWI_Mask_401_resized_corrupt.tif'>\n",
      "<re.Match object; span=(0, 33), match='NDWI_Mask_402_resized_corrupt.tif'>\n",
      "<re.Match object; span=(0, 33), match='NDWI_Mask_403_resized_corrupt.tif'>\n",
      "<re.Match object; span=(0, 33), match='NDWI_Mask_404_resized_corrupt.tif'>\n",
      "<re.Match object; span=(0, 33), match='NDWI_Mask_406_resized_corrupt.tif'>\n",
      "<re.Match object; span=(0, 33), match='NDWI_Mask_407_resized_corrupt.tif'>\n",
      "<re.Match object; span=(0, 33), match='NDWI_Mask_408_resized_corrupt.tif'>\n",
      "<re.Match object; span=(0, 33), match='NDWI_Mask_409_resized_corrupt.tif'>\n",
      "<re.Match object; span=(0, 32), match='NDWI_Mask_40_resized_corrupt.tif'>\n",
      "<re.Match object; span=(0, 33), match='NDWI_Mask_410_resized_corrupt.tif'>\n",
      "<re.Match object; span=(0, 33), match='NDWI_Mask_411_resized_corrupt.tif'>\n",
      "<re.Match object; span=(0, 33), match='NDWI_Mask_412_resized_corrupt.tif'>\n",
      "<re.Match object; span=(0, 33), match='NDWI_Mask_413_resized_corrupt.tif'>\n",
      "<re.Match object; span=(0, 33), match='NDWI_Mask_414_resized_corrupt.tif'>\n",
      "<re.Match object; span=(0, 33), match='NDWI_Mask_415_resized_corrupt.tif'>\n",
      "<re.Match object; span=(0, 33), match='NDWI_Mask_416_resized_corrupt.tif'>\n",
      "<re.Match object; span=(0, 33), match='NDWI_Mask_417_resized_corrupt.tif'>\n",
      "<re.Match object; span=(0, 33), match='NDWI_Mask_419_resized_corrupt.tif'>\n",
      "<re.Match object; span=(0, 33), match='NDWI_Mask_420_resized_corrupt.tif'>\n",
      "<re.Match object; span=(0, 33), match='NDWI_Mask_421_resized_corrupt.tif'>\n",
      "<re.Match object; span=(0, 33), match='NDWI_Mask_422_resized_corrupt.tif'>\n",
      "<re.Match object; span=(0, 33), match='NDWI_Mask_423_resized_corrupt.tif'>\n",
      "<re.Match object; span=(0, 33), match='NDWI_Mask_424_resized_corrupt.tif'>\n",
      "<re.Match object; span=(0, 33), match='NDWI_Mask_425_resized_corrupt.tif'>\n",
      "<re.Match object; span=(0, 33), match='NDWI_Mask_426_resized_corrupt.tif'>\n",
      "<re.Match object; span=(0, 33), match='NDWI_Mask_427_resized_corrupt.tif'>\n",
      "<re.Match object; span=(0, 33), match='NDWI_Mask_428_resized_corrupt.tif'>\n",
      "<re.Match object; span=(0, 32), match='NDWI_Mask_42_resized_corrupt.tif'>\n",
      "<re.Match object; span=(0, 33), match='NDWI_Mask_430_resized_corrupt.tif'>\n",
      "<re.Match object; span=(0, 33), match='NDWI_Mask_431_resized_corrupt.tif'>\n",
      "<re.Match object; span=(0, 33), match='NDWI_Mask_432_resized_corrupt.tif'>\n",
      "<re.Match object; span=(0, 33), match='NDWI_Mask_433_resized_corrupt.tif'>\n",
      "<re.Match object; span=(0, 33), match='NDWI_Mask_434_resized_corrupt.tif'>\n",
      "<re.Match object; span=(0, 33), match='NDWI_Mask_435_resized_corrupt.tif'>\n",
      "<re.Match object; span=(0, 33), match='NDWI_Mask_436_resized_corrupt.tif'>\n",
      "<re.Match object; span=(0, 33), match='NDWI_Mask_437_resized_corrupt.tif'>\n",
      "<re.Match object; span=(0, 33), match='NDWI_Mask_438_resized_corrupt.tif'>\n",
      "<re.Match object; span=(0, 33), match='NDWI_Mask_439_resized_corrupt.tif'>\n",
      "<re.Match object; span=(0, 33), match='NDWI_Mask_442_resized_corrupt.tif'>\n",
      "<re.Match object; span=(0, 33), match='NDWI_Mask_444_resized_corrupt.tif'>\n",
      "<re.Match object; span=(0, 33), match='NDWI_Mask_445_resized_corrupt.tif'>\n",
      "<re.Match object; span=(0, 33), match='NDWI_Mask_446_resized_corrupt.tif'>\n",
      "<re.Match object; span=(0, 33), match='NDWI_Mask_448_resized_corrupt.tif'>\n",
      "<re.Match object; span=(0, 33), match='NDWI_Mask_449_resized_corrupt.tif'>\n",
      "<re.Match object; span=(0, 33), match='NDWI_Mask_451_resized_corrupt.tif'>\n",
      "<re.Match object; span=(0, 33), match='NDWI_Mask_452_resized_corrupt.tif'>\n",
      "<re.Match object; span=(0, 33), match='NDWI_Mask_453_resized_corrupt.tif'>\n",
      "<re.Match object; span=(0, 33), match='NDWI_Mask_454_resized_corrupt.tif'>\n",
      "<re.Match object; span=(0, 33), match='NDWI_Mask_456_resized_corrupt.tif'>\n",
      "<re.Match object; span=(0, 33), match='NDWI_Mask_457_resized_corrupt.tif'>\n",
      "<re.Match object; span=(0, 33), match='NDWI_Mask_458_resized_corrupt.tif'>\n",
      "<re.Match object; span=(0, 33), match='NDWI_Mask_459_resized_corrupt.tif'>\n",
      "<re.Match object; span=(0, 32), match='NDWI_Mask_45_resized_corrupt.tif'>\n",
      "<re.Match object; span=(0, 33), match='NDWI_Mask_461_resized_corrupt.tif'>\n",
      "<re.Match object; span=(0, 33), match='NDWI_Mask_462_resized_corrupt.tif'>\n",
      "<re.Match object; span=(0, 33), match='NDWI_Mask_463_resized_corrupt.tif'>\n",
      "<re.Match object; span=(0, 33), match='NDWI_Mask_465_resized_corrupt.tif'>\n",
      "<re.Match object; span=(0, 33), match='NDWI_Mask_467_resized_corrupt.tif'>\n",
      "<re.Match object; span=(0, 33), match='NDWI_Mask_468_resized_corrupt.tif'>\n",
      "<re.Match object; span=(0, 33), match='NDWI_Mask_469_resized_corrupt.tif'>\n",
      "<re.Match object; span=(0, 32), match='NDWI_Mask_46_resized_corrupt.tif'>\n",
      "<re.Match object; span=(0, 33), match='NDWI_Mask_470_resized_corrupt.tif'>\n",
      "<re.Match object; span=(0, 33), match='NDWI_Mask_471_resized_corrupt.tif'>\n",
      "<re.Match object; span=(0, 33), match='NDWI_Mask_473_resized_corrupt.tif'>\n",
      "<re.Match object; span=(0, 33), match='NDWI_Mask_474_resized_corrupt.tif'>\n",
      "<re.Match object; span=(0, 33), match='NDWI_Mask_475_resized_corrupt.tif'>\n",
      "<re.Match object; span=(0, 33), match='NDWI_Mask_476_resized_corrupt.tif'>\n",
      "<re.Match object; span=(0, 33), match='NDWI_Mask_477_resized_corrupt.tif'>\n",
      "<re.Match object; span=(0, 33), match='NDWI_Mask_478_resized_corrupt.tif'>\n",
      "<re.Match object; span=(0, 33), match='NDWI_Mask_479_resized_corrupt.tif'>\n",
      "<re.Match object; span=(0, 32), match='NDWI_Mask_47_resized_corrupt.tif'>\n",
      "<re.Match object; span=(0, 33), match='NDWI_Mask_480_resized_corrupt.tif'>\n",
      "<re.Match object; span=(0, 33), match='NDWI_Mask_482_resized_corrupt.tif'>\n",
      "<re.Match object; span=(0, 33), match='NDWI_Mask_483_resized_corrupt.tif'>\n",
      "<re.Match object; span=(0, 33), match='NDWI_Mask_484_resized_corrupt.tif'>\n",
      "<re.Match object; span=(0, 33), match='NDWI_Mask_485_resized_corrupt.tif'>\n",
      "<re.Match object; span=(0, 33), match='NDWI_Mask_486_resized_corrupt.tif'>\n",
      "<re.Match object; span=(0, 33), match='NDWI_Mask_487_resized_corrupt.tif'>\n",
      "<re.Match object; span=(0, 33), match='NDWI_Mask_488_resized_corrupt.tif'>\n",
      "<re.Match object; span=(0, 33), match='NDWI_Mask_490_resized_corrupt.tif'>\n",
      "<re.Match object; span=(0, 33), match='NDWI_Mask_491_resized_corrupt.tif'>\n",
      "<re.Match object; span=(0, 33), match='NDWI_Mask_492_resized_corrupt.tif'>\n",
      "<re.Match object; span=(0, 33), match='NDWI_Mask_493_resized_corrupt.tif'>\n",
      "<re.Match object; span=(0, 33), match='NDWI_Mask_494_resized_corrupt.tif'>\n",
      "<re.Match object; span=(0, 33), match='NDWI_Mask_495_resized_corrupt.tif'>\n",
      "<re.Match object; span=(0, 33), match='NDWI_Mask_496_resized_corrupt.tif'>\n",
      "<re.Match object; span=(0, 33), match='NDWI_Mask_497_resized_corrupt.tif'>\n",
      "<re.Match object; span=(0, 33), match='NDWI_Mask_498_resized_corrupt.tif'>\n",
      "<re.Match object; span=(0, 33), match='NDWI_Mask_499_resized_corrupt.tif'>\n",
      "<re.Match object; span=(0, 32), match='NDWI_Mask_49_resized_corrupt.tif'>\n",
      "<re.Match object; span=(0, 31), match='NDWI_Mask_4_resized_corrupt.tif'>\n",
      "<re.Match object; span=(0, 33), match='NDWI_Mask_501_resized_corrupt.tif'>\n",
      "<re.Match object; span=(0, 33), match='NDWI_Mask_502_resized_corrupt.tif'>\n",
      "<re.Match object; span=(0, 33), match='NDWI_Mask_503_resized_corrupt.tif'>\n",
      "<re.Match object; span=(0, 33), match='NDWI_Mask_504_resized_corrupt.tif'>\n",
      "<re.Match object; span=(0, 33), match='NDWI_Mask_505_resized_corrupt.tif'>\n",
      "<re.Match object; span=(0, 33), match='NDWI_Mask_506_resized_corrupt.tif'>\n",
      "<re.Match object; span=(0, 33), match='NDWI_Mask_507_resized_corrupt.tif'>\n",
      "<re.Match object; span=(0, 33), match='NDWI_Mask_508_resized_corrupt.tif'>\n",
      "<re.Match object; span=(0, 33), match='NDWI_Mask_509_resized_corrupt.tif'>\n",
      "<re.Match object; span=(0, 32), match='NDWI_Mask_50_resized_corrupt.tif'>\n",
      "<re.Match object; span=(0, 33), match='NDWI_Mask_510_resized_corrupt.tif'>\n",
      "<re.Match object; span=(0, 33), match='NDWI_Mask_511_resized_corrupt.tif'>\n",
      "<re.Match object; span=(0, 33), match='NDWI_Mask_512_resized_corrupt.tif'>\n",
      "<re.Match object; span=(0, 33), match='NDWI_Mask_513_resized_corrupt.tif'>\n",
      "<re.Match object; span=(0, 33), match='NDWI_Mask_514_resized_corrupt.tif'>\n",
      "<re.Match object; span=(0, 33), match='NDWI_Mask_515_resized_corrupt.tif'>\n",
      "<re.Match object; span=(0, 33), match='NDWI_Mask_516_resized_corrupt.tif'>\n",
      "<re.Match object; span=(0, 33), match='NDWI_Mask_518_resized_corrupt.tif'>\n",
      "<re.Match object; span=(0, 33), match='NDWI_Mask_519_resized_corrupt.tif'>\n",
      "<re.Match object; span=(0, 32), match='NDWI_Mask_51_resized_corrupt.tif'>\n",
      "<re.Match object; span=(0, 33), match='NDWI_Mask_521_resized_corrupt.tif'>\n",
      "<re.Match object; span=(0, 33), match='NDWI_Mask_522_resized_corrupt.tif'>\n",
      "<re.Match object; span=(0, 33), match='NDWI_Mask_523_resized_corrupt.tif'>\n",
      "<re.Match object; span=(0, 33), match='NDWI_Mask_524_resized_corrupt.tif'>\n",
      "<re.Match object; span=(0, 33), match='NDWI_Mask_526_resized_corrupt.tif'>\n",
      "<re.Match object; span=(0, 33), match='NDWI_Mask_527_resized_corrupt.tif'>\n",
      "<re.Match object; span=(0, 33), match='NDWI_Mask_528_resized_corrupt.tif'>\n",
      "<re.Match object; span=(0, 33), match='NDWI_Mask_529_resized_corrupt.tif'>\n",
      "<re.Match object; span=(0, 32), match='NDWI_Mask_52_resized_corrupt.tif'>\n",
      "<re.Match object; span=(0, 33), match='NDWI_Mask_530_resized_corrupt.tif'>\n",
      "<re.Match object; span=(0, 33), match='NDWI_Mask_531_resized_corrupt.tif'>\n",
      "<re.Match object; span=(0, 33), match='NDWI_Mask_534_resized_corrupt.tif'>\n",
      "<re.Match object; span=(0, 33), match='NDWI_Mask_535_resized_corrupt.tif'>\n",
      "<re.Match object; span=(0, 33), match='NDWI_Mask_537_resized_corrupt.tif'>\n",
      "<re.Match object; span=(0, 33), match='NDWI_Mask_538_resized_corrupt.tif'>\n",
      "<re.Match object; span=(0, 33), match='NDWI_Mask_539_resized_corrupt.tif'>\n",
      "<re.Match object; span=(0, 32), match='NDWI_Mask_53_resized_corrupt.tif'>\n",
      "<re.Match object; span=(0, 33), match='NDWI_Mask_540_resized_corrupt.tif'>\n",
      "<re.Match object; span=(0, 33), match='NDWI_Mask_541_resized_corrupt.tif'>\n",
      "<re.Match object; span=(0, 33), match='NDWI_Mask_542_resized_corrupt.tif'>\n",
      "<re.Match object; span=(0, 33), match='NDWI_Mask_543_resized_corrupt.tif'>\n",
      "<re.Match object; span=(0, 33), match='NDWI_Mask_544_resized_corrupt.tif'>\n",
      "<re.Match object; span=(0, 33), match='NDWI_Mask_545_resized_corrupt.tif'>\n",
      "<re.Match object; span=(0, 33), match='NDWI_Mask_546_resized_corrupt.tif'>\n",
      "<re.Match object; span=(0, 33), match='NDWI_Mask_548_resized_corrupt.tif'>\n",
      "<re.Match object; span=(0, 33), match='NDWI_Mask_549_resized_corrupt.tif'>\n",
      "<re.Match object; span=(0, 32), match='NDWI_Mask_54_resized_corrupt.tif'>\n",
      "<re.Match object; span=(0, 33), match='NDWI_Mask_550_resized_corrupt.tif'>\n",
      "<re.Match object; span=(0, 33), match='NDWI_Mask_552_resized_corrupt.tif'>\n",
      "<re.Match object; span=(0, 33), match='NDWI_Mask_553_resized_corrupt.tif'>\n",
      "<re.Match object; span=(0, 33), match='NDWI_Mask_554_resized_corrupt.tif'>\n",
      "<re.Match object; span=(0, 33), match='NDWI_Mask_555_resized_corrupt.tif'>\n",
      "<re.Match object; span=(0, 33), match='NDWI_Mask_556_resized_corrupt.tif'>\n",
      "<re.Match object; span=(0, 33), match='NDWI_Mask_558_resized_corrupt.tif'>\n",
      "<re.Match object; span=(0, 33), match='NDWI_Mask_559_resized_corrupt.tif'>\n",
      "<re.Match object; span=(0, 32), match='NDWI_Mask_55_resized_corrupt.tif'>\n",
      "<re.Match object; span=(0, 33), match='NDWI_Mask_562_resized_corrupt.tif'>\n",
      "<re.Match object; span=(0, 33), match='NDWI_Mask_563_resized_corrupt.tif'>\n",
      "<re.Match object; span=(0, 33), match='NDWI_Mask_564_resized_corrupt.tif'>\n",
      "<re.Match object; span=(0, 33), match='NDWI_Mask_565_resized_corrupt.tif'>\n",
      "<re.Match object; span=(0, 33), match='NDWI_Mask_566_resized_corrupt.tif'>\n",
      "<re.Match object; span=(0, 33), match='NDWI_Mask_567_resized_corrupt.tif'>\n",
      "<re.Match object; span=(0, 33), match='NDWI_Mask_568_resized_corrupt.tif'>\n",
      "<re.Match object; span=(0, 33), match='NDWI_Mask_569_resized_corrupt.tif'>\n",
      "<re.Match object; span=(0, 32), match='NDWI_Mask_56_resized_corrupt.tif'>\n",
      "<re.Match object; span=(0, 33), match='NDWI_Mask_570_resized_corrupt.tif'>\n",
      "<re.Match object; span=(0, 33), match='NDWI_Mask_571_resized_corrupt.tif'>\n",
      "<re.Match object; span=(0, 33), match='NDWI_Mask_572_resized_corrupt.tif'>\n",
      "<re.Match object; span=(0, 33), match='NDWI_Mask_573_resized_corrupt.tif'>\n",
      "<re.Match object; span=(0, 33), match='NDWI_Mask_574_resized_corrupt.tif'>\n",
      "<re.Match object; span=(0, 33), match='NDWI_Mask_575_resized_corrupt.tif'>\n",
      "<re.Match object; span=(0, 33), match='NDWI_Mask_576_resized_corrupt.tif'>\n",
      "<re.Match object; span=(0, 33), match='NDWI_Mask_577_resized_corrupt.tif'>\n",
      "<re.Match object; span=(0, 33), match='NDWI_Mask_578_resized_corrupt.tif'>\n",
      "<re.Match object; span=(0, 33), match='NDWI_Mask_579_resized_corrupt.tif'>\n",
      "<re.Match object; span=(0, 32), match='NDWI_Mask_57_resized_corrupt.tif'>\n",
      "<re.Match object; span=(0, 33), match='NDWI_Mask_580_resized_corrupt.tif'>\n",
      "<re.Match object; span=(0, 33), match='NDWI_Mask_581_resized_corrupt.tif'>\n",
      "<re.Match object; span=(0, 33), match='NDWI_Mask_582_resized_corrupt.tif'>\n",
      "<re.Match object; span=(0, 33), match='NDWI_Mask_585_resized_corrupt.tif'>\n",
      "<re.Match object; span=(0, 33), match='NDWI_Mask_586_resized_corrupt.tif'>\n",
      "<re.Match object; span=(0, 33), match='NDWI_Mask_587_resized_corrupt.tif'>\n",
      "<re.Match object; span=(0, 33), match='NDWI_Mask_588_resized_corrupt.tif'>\n",
      "<re.Match object; span=(0, 33), match='NDWI_Mask_589_resized_corrupt.tif'>\n",
      "<re.Match object; span=(0, 32), match='NDWI_Mask_58_resized_corrupt.tif'>\n",
      "<re.Match object; span=(0, 33), match='NDWI_Mask_590_resized_corrupt.tif'>\n",
      "<re.Match object; span=(0, 33), match='NDWI_Mask_592_resized_corrupt.tif'>\n",
      "<re.Match object; span=(0, 33), match='NDWI_Mask_593_resized_corrupt.tif'>\n",
      "<re.Match object; span=(0, 33), match='NDWI_Mask_594_resized_corrupt.tif'>\n",
      "<re.Match object; span=(0, 33), match='NDWI_Mask_597_resized_corrupt.tif'>\n",
      "<re.Match object; span=(0, 33), match='NDWI_Mask_598_resized_corrupt.tif'>\n",
      "<re.Match object; span=(0, 32), match='NDWI_Mask_59_resized_corrupt.tif'>\n",
      "<re.Match object; span=(0, 31), match='NDWI_Mask_5_resized_corrupt.tif'>\n",
      "<re.Match object; span=(0, 33), match='NDWI_Mask_600_resized_corrupt.tif'>\n",
      "<re.Match object; span=(0, 33), match='NDWI_Mask_601_resized_corrupt.tif'>\n",
      "<re.Match object; span=(0, 33), match='NDWI_Mask_602_resized_corrupt.tif'>\n",
      "<re.Match object; span=(0, 33), match='NDWI_Mask_605_resized_corrupt.tif'>\n",
      "<re.Match object; span=(0, 33), match='NDWI_Mask_606_resized_corrupt.tif'>\n",
      "<re.Match object; span=(0, 33), match='NDWI_Mask_607_resized_corrupt.tif'>\n",
      "<re.Match object; span=(0, 33), match='NDWI_Mask_608_resized_corrupt.tif'>\n",
      "<re.Match object; span=(0, 33), match='NDWI_Mask_609_resized_corrupt.tif'>\n",
      "<re.Match object; span=(0, 32), match='NDWI_Mask_60_resized_corrupt.tif'>\n",
      "<re.Match object; span=(0, 33), match='NDWI_Mask_610_resized_corrupt.tif'>\n",
      "<re.Match object; span=(0, 33), match='NDWI_Mask_611_resized_corrupt.tif'>\n",
      "<re.Match object; span=(0, 33), match='NDWI_Mask_613_resized_corrupt.tif'>\n",
      "<re.Match object; span=(0, 33), match='NDWI_Mask_615_resized_corrupt.tif'>\n",
      "<re.Match object; span=(0, 33), match='NDWI_Mask_618_resized_corrupt.tif'>\n",
      "<re.Match object; span=(0, 33), match='NDWI_Mask_619_resized_corrupt.tif'>\n",
      "<re.Match object; span=(0, 33), match='NDWI_Mask_620_resized_corrupt.tif'>\n",
      "<re.Match object; span=(0, 33), match='NDWI_Mask_621_resized_corrupt.tif'>\n",
      "<re.Match object; span=(0, 33), match='NDWI_Mask_622_resized_corrupt.tif'>\n",
      "<re.Match object; span=(0, 33), match='NDWI_Mask_623_resized_corrupt.tif'>\n",
      "<re.Match object; span=(0, 33), match='NDWI_Mask_624_resized_corrupt.tif'>\n",
      "<re.Match object; span=(0, 33), match='NDWI_Mask_625_resized_corrupt.tif'>\n",
      "<re.Match object; span=(0, 33), match='NDWI_Mask_626_resized_corrupt.tif'>\n",
      "<re.Match object; span=(0, 33), match='NDWI_Mask_627_resized_corrupt.tif'>\n",
      "<re.Match object; span=(0, 33), match='NDWI_Mask_628_resized_corrupt.tif'>\n",
      "<re.Match object; span=(0, 32), match='NDWI_Mask_62_resized_corrupt.tif'>\n",
      "<re.Match object; span=(0, 33), match='NDWI_Mask_630_resized_corrupt.tif'>\n",
      "<re.Match object; span=(0, 33), match='NDWI_Mask_631_resized_corrupt.tif'>\n",
      "<re.Match object; span=(0, 33), match='NDWI_Mask_632_resized_corrupt.tif'>\n",
      "<re.Match object; span=(0, 33), match='NDWI_Mask_633_resized_corrupt.tif'>\n",
      "<re.Match object; span=(0, 33), match='NDWI_Mask_634_resized_corrupt.tif'>\n",
      "<re.Match object; span=(0, 33), match='NDWI_Mask_635_resized_corrupt.tif'>\n",
      "<re.Match object; span=(0, 33), match='NDWI_Mask_636_resized_corrupt.tif'>\n",
      "<re.Match object; span=(0, 33), match='NDWI_Mask_637_resized_corrupt.tif'>\n",
      "<re.Match object; span=(0, 33), match='NDWI_Mask_638_resized_corrupt.tif'>\n",
      "<re.Match object; span=(0, 33), match='NDWI_Mask_639_resized_corrupt.tif'>\n",
      "<re.Match object; span=(0, 32), match='NDWI_Mask_63_resized_corrupt.tif'>\n",
      "<re.Match object; span=(0, 33), match='NDWI_Mask_640_resized_corrupt.tif'>\n",
      "<re.Match object; span=(0, 33), match='NDWI_Mask_641_resized_corrupt.tif'>\n",
      "<re.Match object; span=(0, 33), match='NDWI_Mask_642_resized_corrupt.tif'>\n",
      "<re.Match object; span=(0, 33), match='NDWI_Mask_643_resized_corrupt.tif'>\n",
      "<re.Match object; span=(0, 33), match='NDWI_Mask_645_resized_corrupt.tif'>\n",
      "<re.Match object; span=(0, 33), match='NDWI_Mask_647_resized_corrupt.tif'>\n",
      "<re.Match object; span=(0, 33), match='NDWI_Mask_649_resized_corrupt.tif'>\n",
      "<re.Match object; span=(0, 33), match='NDWI_Mask_650_resized_corrupt.tif'>\n",
      "<re.Match object; span=(0, 33), match='NDWI_Mask_651_resized_corrupt.tif'>\n",
      "<re.Match object; span=(0, 33), match='NDWI_Mask_652_resized_corrupt.tif'>\n",
      "<re.Match object; span=(0, 33), match='NDWI_Mask_654_resized_corrupt.tif'>\n",
      "<re.Match object; span=(0, 33), match='NDWI_Mask_656_resized_corrupt.tif'>\n",
      "<re.Match object; span=(0, 33), match='NDWI_Mask_658_resized_corrupt.tif'>\n",
      "<re.Match object; span=(0, 33), match='NDWI_Mask_659_resized_corrupt.tif'>\n",
      "<re.Match object; span=(0, 32), match='NDWI_Mask_65_resized_corrupt.tif'>\n",
      "<re.Match object; span=(0, 33), match='NDWI_Mask_660_resized_corrupt.tif'>\n",
      "<re.Match object; span=(0, 33), match='NDWI_Mask_661_resized_corrupt.tif'>\n",
      "<re.Match object; span=(0, 33), match='NDWI_Mask_662_resized_corrupt.tif'>\n",
      "<re.Match object; span=(0, 33), match='NDWI_Mask_663_resized_corrupt.tif'>\n",
      "<re.Match object; span=(0, 33), match='NDWI_Mask_664_resized_corrupt.tif'>\n",
      "<re.Match object; span=(0, 33), match='NDWI_Mask_665_resized_corrupt.tif'>\n",
      "<re.Match object; span=(0, 33), match='NDWI_Mask_667_resized_corrupt.tif'>\n",
      "<re.Match object; span=(0, 33), match='NDWI_Mask_668_resized_corrupt.tif'>\n",
      "<re.Match object; span=(0, 33), match='NDWI_Mask_669_resized_corrupt.tif'>\n",
      "<re.Match object; span=(0, 33), match='NDWI_Mask_670_resized_corrupt.tif'>\n",
      "<re.Match object; span=(0, 33), match='NDWI_Mask_673_resized_corrupt.tif'>\n",
      "<re.Match object; span=(0, 33), match='NDWI_Mask_674_resized_corrupt.tif'>\n",
      "<re.Match object; span=(0, 33), match='NDWI_Mask_676_resized_corrupt.tif'>\n",
      "<re.Match object; span=(0, 33), match='NDWI_Mask_677_resized_corrupt.tif'>\n",
      "<re.Match object; span=(0, 33), match='NDWI_Mask_678_resized_corrupt.tif'>\n",
      "<re.Match object; span=(0, 32), match='NDWI_Mask_67_resized_corrupt.tif'>\n",
      "<re.Match object; span=(0, 33), match='NDWI_Mask_680_resized_corrupt.tif'>\n",
      "<re.Match object; span=(0, 33), match='NDWI_Mask_681_resized_corrupt.tif'>\n",
      "<re.Match object; span=(0, 33), match='NDWI_Mask_682_resized_corrupt.tif'>\n",
      "<re.Match object; span=(0, 33), match='NDWI_Mask_683_resized_corrupt.tif'>\n",
      "<re.Match object; span=(0, 33), match='NDWI_Mask_684_resized_corrupt.tif'>\n",
      "<re.Match object; span=(0, 33), match='NDWI_Mask_685_resized_corrupt.tif'>\n",
      "<re.Match object; span=(0, 33), match='NDWI_Mask_686_resized_corrupt.tif'>\n",
      "<re.Match object; span=(0, 33), match='NDWI_Mask_687_resized_corrupt.tif'>\n",
      "<re.Match object; span=(0, 33), match='NDWI_Mask_689_resized_corrupt.tif'>\n",
      "<re.Match object; span=(0, 32), match='NDWI_Mask_68_resized_corrupt.tif'>\n",
      "<re.Match object; span=(0, 33), match='NDWI_Mask_690_resized_corrupt.tif'>\n",
      "<re.Match object; span=(0, 33), match='NDWI_Mask_691_resized_corrupt.tif'>\n",
      "<re.Match object; span=(0, 33), match='NDWI_Mask_692_resized_corrupt.tif'>\n",
      "<re.Match object; span=(0, 33), match='NDWI_Mask_696_resized_corrupt.tif'>\n",
      "<re.Match object; span=(0, 33), match='NDWI_Mask_698_resized_corrupt.tif'>\n",
      "<re.Match object; span=(0, 33), match='NDWI_Mask_699_resized_corrupt.tif'>\n",
      "<re.Match object; span=(0, 32), match='NDWI_Mask_69_resized_corrupt.tif'>\n",
      "<re.Match object; span=(0, 31), match='NDWI_Mask_6_resized_corrupt.tif'>\n",
      "<re.Match object; span=(0, 33), match='NDWI_Mask_700_resized_corrupt.tif'>\n",
      "<re.Match object; span=(0, 33), match='NDWI_Mask_701_resized_corrupt.tif'>\n",
      "<re.Match object; span=(0, 33), match='NDWI_Mask_702_resized_corrupt.tif'>\n",
      "<re.Match object; span=(0, 33), match='NDWI_Mask_703_resized_corrupt.tif'>\n",
      "<re.Match object; span=(0, 33), match='NDWI_Mask_704_resized_corrupt.tif'>\n",
      "<re.Match object; span=(0, 33), match='NDWI_Mask_705_resized_corrupt.tif'>\n",
      "<re.Match object; span=(0, 33), match='NDWI_Mask_706_resized_corrupt.tif'>\n",
      "<re.Match object; span=(0, 33), match='NDWI_Mask_707_resized_corrupt.tif'>\n",
      "<re.Match object; span=(0, 33), match='NDWI_Mask_708_resized_corrupt.tif'>\n",
      "<re.Match object; span=(0, 33), match='NDWI_Mask_709_resized_corrupt.tif'>\n",
      "<re.Match object; span=(0, 32), match='NDWI_Mask_70_resized_corrupt.tif'>\n",
      "<re.Match object; span=(0, 33), match='NDWI_Mask_710_resized_corrupt.tif'>\n",
      "<re.Match object; span=(0, 33), match='NDWI_Mask_711_resized_corrupt.tif'>\n",
      "<re.Match object; span=(0, 33), match='NDWI_Mask_713_resized_corrupt.tif'>\n",
      "<re.Match object; span=(0, 33), match='NDWI_Mask_714_resized_corrupt.tif'>\n",
      "<re.Match object; span=(0, 33), match='NDWI_Mask_715_resized_corrupt.tif'>\n",
      "<re.Match object; span=(0, 33), match='NDWI_Mask_716_resized_corrupt.tif'>\n",
      "<re.Match object; span=(0, 33), match='NDWI_Mask_717_resized_corrupt.tif'>\n",
      "<re.Match object; span=(0, 33), match='NDWI_Mask_718_resized_corrupt.tif'>\n",
      "<re.Match object; span=(0, 33), match='NDWI_Mask_719_resized_corrupt.tif'>\n",
      "<re.Match object; span=(0, 33), match='NDWI_Mask_722_resized_corrupt.tif'>\n",
      "<re.Match object; span=(0, 33), match='NDWI_Mask_723_resized_corrupt.tif'>\n",
      "<re.Match object; span=(0, 33), match='NDWI_Mask_724_resized_corrupt.tif'>\n",
      "<re.Match object; span=(0, 33), match='NDWI_Mask_725_resized_corrupt.tif'>\n",
      "<re.Match object; span=(0, 33), match='NDWI_Mask_726_resized_corrupt.tif'>\n",
      "<re.Match object; span=(0, 33), match='NDWI_Mask_727_resized_corrupt.tif'>\n",
      "<re.Match object; span=(0, 33), match='NDWI_Mask_728_resized_corrupt.tif'>\n",
      "<re.Match object; span=(0, 33), match='NDWI_Mask_729_resized_corrupt.tif'>\n",
      "<re.Match object; span=(0, 33), match='NDWI_Mask_730_resized_corrupt.tif'>\n",
      "<re.Match object; span=(0, 33), match='NDWI_Mask_731_resized_corrupt.tif'>\n",
      "<re.Match object; span=(0, 33), match='NDWI_Mask_732_resized_corrupt.tif'>\n",
      "<re.Match object; span=(0, 33), match='NDWI_Mask_734_resized_corrupt.tif'>\n",
      "<re.Match object; span=(0, 33), match='NDWI_Mask_735_resized_corrupt.tif'>\n",
      "<re.Match object; span=(0, 33), match='NDWI_Mask_736_resized_corrupt.tif'>\n",
      "<re.Match object; span=(0, 33), match='NDWI_Mask_737_resized_corrupt.tif'>\n",
      "<re.Match object; span=(0, 33), match='NDWI_Mask_738_resized_corrupt.tif'>\n",
      "<re.Match object; span=(0, 33), match='NDWI_Mask_739_resized_corrupt.tif'>\n",
      "<re.Match object; span=(0, 33), match='NDWI_Mask_741_resized_corrupt.tif'>\n",
      "<re.Match object; span=(0, 33), match='NDWI_Mask_742_resized_corrupt.tif'>\n",
      "<re.Match object; span=(0, 33), match='NDWI_Mask_743_resized_corrupt.tif'>\n",
      "<re.Match object; span=(0, 33), match='NDWI_Mask_744_resized_corrupt.tif'>\n",
      "<re.Match object; span=(0, 33), match='NDWI_Mask_745_resized_corrupt.tif'>\n",
      "<re.Match object; span=(0, 33), match='NDWI_Mask_747_resized_corrupt.tif'>\n",
      "<re.Match object; span=(0, 33), match='NDWI_Mask_748_resized_corrupt.tif'>\n",
      "<re.Match object; span=(0, 33), match='NDWI_Mask_749_resized_corrupt.tif'>\n",
      "<re.Match object; span=(0, 32), match='NDWI_Mask_74_resized_corrupt.tif'>\n",
      "<re.Match object; span=(0, 33), match='NDWI_Mask_750_resized_corrupt.tif'>\n",
      "<re.Match object; span=(0, 33), match='NDWI_Mask_751_resized_corrupt.tif'>\n",
      "<re.Match object; span=(0, 33), match='NDWI_Mask_752_resized_corrupt.tif'>\n",
      "<re.Match object; span=(0, 33), match='NDWI_Mask_753_resized_corrupt.tif'>\n",
      "<re.Match object; span=(0, 33), match='NDWI_Mask_755_resized_corrupt.tif'>\n",
      "<re.Match object; span=(0, 33), match='NDWI_Mask_756_resized_corrupt.tif'>\n",
      "<re.Match object; span=(0, 33), match='NDWI_Mask_757_resized_corrupt.tif'>\n",
      "<re.Match object; span=(0, 33), match='NDWI_Mask_758_resized_corrupt.tif'>\n",
      "<re.Match object; span=(0, 33), match='NDWI_Mask_759_resized_corrupt.tif'>\n",
      "<re.Match object; span=(0, 32), match='NDWI_Mask_75_resized_corrupt.tif'>\n",
      "<re.Match object; span=(0, 33), match='NDWI_Mask_760_resized_corrupt.tif'>\n",
      "<re.Match object; span=(0, 33), match='NDWI_Mask_761_resized_corrupt.tif'>\n",
      "<re.Match object; span=(0, 33), match='NDWI_Mask_762_resized_corrupt.tif'>\n",
      "<re.Match object; span=(0, 33), match='NDWI_Mask_764_resized_corrupt.tif'>\n",
      "<re.Match object; span=(0, 33), match='NDWI_Mask_765_resized_corrupt.tif'>\n",
      "<re.Match object; span=(0, 33), match='NDWI_Mask_766_resized_corrupt.tif'>\n",
      "<re.Match object; span=(0, 33), match='NDWI_Mask_768_resized_corrupt.tif'>\n",
      "<re.Match object; span=(0, 33), match='NDWI_Mask_769_resized_corrupt.tif'>\n",
      "<re.Match object; span=(0, 32), match='NDWI_Mask_76_resized_corrupt.tif'>\n",
      "<re.Match object; span=(0, 33), match='NDWI_Mask_772_resized_corrupt.tif'>\n",
      "<re.Match object; span=(0, 33), match='NDWI_Mask_773_resized_corrupt.tif'>\n",
      "<re.Match object; span=(0, 33), match='NDWI_Mask_774_resized_corrupt.tif'>\n",
      "<re.Match object; span=(0, 33), match='NDWI_Mask_775_resized_corrupt.tif'>\n",
      "<re.Match object; span=(0, 33), match='NDWI_Mask_776_resized_corrupt.tif'>\n",
      "<re.Match object; span=(0, 33), match='NDWI_Mask_777_resized_corrupt.tif'>\n",
      "<re.Match object; span=(0, 33), match='NDWI_Mask_778_resized_corrupt.tif'>\n",
      "<re.Match object; span=(0, 33), match='NDWI_Mask_779_resized_corrupt.tif'>\n",
      "<re.Match object; span=(0, 32), match='NDWI_Mask_77_resized_corrupt.tif'>\n",
      "<re.Match object; span=(0, 33), match='NDWI_Mask_780_resized_corrupt.tif'>\n",
      "<re.Match object; span=(0, 33), match='NDWI_Mask_781_resized_corrupt.tif'>\n",
      "<re.Match object; span=(0, 33), match='NDWI_Mask_782_resized_corrupt.tif'>\n",
      "<re.Match object; span=(0, 33), match='NDWI_Mask_784_resized_corrupt.tif'>\n",
      "<re.Match object; span=(0, 33), match='NDWI_Mask_785_resized_corrupt.tif'>\n",
      "<re.Match object; span=(0, 33), match='NDWI_Mask_786_resized_corrupt.tif'>\n",
      "<re.Match object; span=(0, 33), match='NDWI_Mask_787_resized_corrupt.tif'>\n",
      "<re.Match object; span=(0, 33), match='NDWI_Mask_788_resized_corrupt.tif'>\n",
      "<re.Match object; span=(0, 33), match='NDWI_Mask_789_resized_corrupt.tif'>\n",
      "<re.Match object; span=(0, 33), match='NDWI_Mask_791_resized_corrupt.tif'>\n",
      "<re.Match object; span=(0, 33), match='NDWI_Mask_792_resized_corrupt.tif'>\n",
      "<re.Match object; span=(0, 33), match='NDWI_Mask_794_resized_corrupt.tif'>\n",
      "<re.Match object; span=(0, 33), match='NDWI_Mask_795_resized_corrupt.tif'>\n",
      "<re.Match object; span=(0, 33), match='NDWI_Mask_796_resized_corrupt.tif'>\n",
      "<re.Match object; span=(0, 33), match='NDWI_Mask_797_resized_corrupt.tif'>\n",
      "<re.Match object; span=(0, 33), match='NDWI_Mask_799_resized_corrupt.tif'>\n",
      "<re.Match object; span=(0, 32), match='NDWI_Mask_79_resized_corrupt.tif'>\n",
      "<re.Match object; span=(0, 31), match='NDWI_Mask_7_resized_corrupt.tif'>\n",
      "<re.Match object; span=(0, 33), match='NDWI_Mask_800_resized_corrupt.tif'>\n",
      "<re.Match object; span=(0, 33), match='NDWI_Mask_801_resized_corrupt.tif'>\n",
      "<re.Match object; span=(0, 33), match='NDWI_Mask_802_resized_corrupt.tif'>\n",
      "<re.Match object; span=(0, 33), match='NDWI_Mask_803_resized_corrupt.tif'>\n",
      "<re.Match object; span=(0, 33), match='NDWI_Mask_804_resized_corrupt.tif'>\n",
      "<re.Match object; span=(0, 33), match='NDWI_Mask_805_resized_corrupt.tif'>\n",
      "<re.Match object; span=(0, 33), match='NDWI_Mask_806_resized_corrupt.tif'>\n",
      "<re.Match object; span=(0, 33), match='NDWI_Mask_809_resized_corrupt.tif'>\n",
      "<re.Match object; span=(0, 33), match='NDWI_Mask_811_resized_corrupt.tif'>\n",
      "<re.Match object; span=(0, 33), match='NDWI_Mask_812_resized_corrupt.tif'>\n",
      "<re.Match object; span=(0, 33), match='NDWI_Mask_813_resized_corrupt.tif'>\n",
      "<re.Match object; span=(0, 33), match='NDWI_Mask_815_resized_corrupt.tif'>\n",
      "<re.Match object; span=(0, 33), match='NDWI_Mask_816_resized_corrupt.tif'>\n",
      "<re.Match object; span=(0, 33), match='NDWI_Mask_817_resized_corrupt.tif'>\n",
      "<re.Match object; span=(0, 33), match='NDWI_Mask_818_resized_corrupt.tif'>\n",
      "<re.Match object; span=(0, 33), match='NDWI_Mask_819_resized_corrupt.tif'>\n",
      "<re.Match object; span=(0, 32), match='NDWI_Mask_81_resized_corrupt.tif'>\n",
      "<re.Match object; span=(0, 33), match='NDWI_Mask_820_resized_corrupt.tif'>\n",
      "<re.Match object; span=(0, 33), match='NDWI_Mask_821_resized_corrupt.tif'>\n",
      "<re.Match object; span=(0, 33), match='NDWI_Mask_822_resized_corrupt.tif'>\n",
      "<re.Match object; span=(0, 33), match='NDWI_Mask_823_resized_corrupt.tif'>\n",
      "<re.Match object; span=(0, 33), match='NDWI_Mask_824_resized_corrupt.tif'>\n",
      "<re.Match object; span=(0, 33), match='NDWI_Mask_825_resized_corrupt.tif'>\n",
      "<re.Match object; span=(0, 33), match='NDWI_Mask_826_resized_corrupt.tif'>\n",
      "<re.Match object; span=(0, 33), match='NDWI_Mask_827_resized_corrupt.tif'>\n",
      "<re.Match object; span=(0, 33), match='NDWI_Mask_828_resized_corrupt.tif'>\n",
      "<re.Match object; span=(0, 33), match='NDWI_Mask_829_resized_corrupt.tif'>\n",
      "<re.Match object; span=(0, 32), match='NDWI_Mask_82_resized_corrupt.tif'>\n",
      "<re.Match object; span=(0, 33), match='NDWI_Mask_830_resized_corrupt.tif'>\n",
      "<re.Match object; span=(0, 33), match='NDWI_Mask_831_resized_corrupt.tif'>\n",
      "<re.Match object; span=(0, 33), match='NDWI_Mask_832_resized_corrupt.tif'>\n",
      "<re.Match object; span=(0, 33), match='NDWI_Mask_833_resized_corrupt.tif'>\n",
      "<re.Match object; span=(0, 33), match='NDWI_Mask_834_resized_corrupt.tif'>\n",
      "<re.Match object; span=(0, 33), match='NDWI_Mask_835_resized_corrupt.tif'>\n",
      "<re.Match object; span=(0, 33), match='NDWI_Mask_836_resized_corrupt.tif'>\n",
      "<re.Match object; span=(0, 33), match='NDWI_Mask_839_resized_corrupt.tif'>\n",
      "<re.Match object; span=(0, 32), match='NDWI_Mask_83_resized_corrupt.tif'>\n",
      "<re.Match object; span=(0, 33), match='NDWI_Mask_840_resized_corrupt.tif'>\n",
      "<re.Match object; span=(0, 33), match='NDWI_Mask_841_resized_corrupt.tif'>\n",
      "<re.Match object; span=(0, 33), match='NDWI_Mask_842_resized_corrupt.tif'>\n",
      "<re.Match object; span=(0, 33), match='NDWI_Mask_843_resized_corrupt.tif'>\n",
      "<re.Match object; span=(0, 33), match='NDWI_Mask_844_resized_corrupt.tif'>\n",
      "<re.Match object; span=(0, 33), match='NDWI_Mask_845_resized_corrupt.tif'>\n",
      "<re.Match object; span=(0, 33), match='NDWI_Mask_849_resized_corrupt.tif'>\n",
      "<re.Match object; span=(0, 32), match='NDWI_Mask_84_resized_corrupt.tif'>\n",
      "<re.Match object; span=(0, 33), match='NDWI_Mask_850_resized_corrupt.tif'>\n",
      "<re.Match object; span=(0, 33), match='NDWI_Mask_852_resized_corrupt.tif'>\n",
      "<re.Match object; span=(0, 33), match='NDWI_Mask_853_resized_corrupt.tif'>\n",
      "<re.Match object; span=(0, 33), match='NDWI_Mask_854_resized_corrupt.tif'>\n",
      "<re.Match object; span=(0, 33), match='NDWI_Mask_855_resized_corrupt.tif'>\n",
      "<re.Match object; span=(0, 33), match='NDWI_Mask_856_resized_corrupt.tif'>\n",
      "<re.Match object; span=(0, 33), match='NDWI_Mask_857_resized_corrupt.tif'>\n",
      "<re.Match object; span=(0, 33), match='NDWI_Mask_858_resized_corrupt.tif'>\n",
      "<re.Match object; span=(0, 33), match='NDWI_Mask_859_resized_corrupt.tif'>\n",
      "<re.Match object; span=(0, 32), match='NDWI_Mask_85_resized_corrupt.tif'>\n",
      "<re.Match object; span=(0, 33), match='NDWI_Mask_861_resized_corrupt.tif'>\n",
      "<re.Match object; span=(0, 33), match='NDWI_Mask_862_resized_corrupt.tif'>\n",
      "<re.Match object; span=(0, 33), match='NDWI_Mask_863_resized_corrupt.tif'>\n",
      "<re.Match object; span=(0, 33), match='NDWI_Mask_866_resized_corrupt.tif'>\n",
      "<re.Match object; span=(0, 33), match='NDWI_Mask_867_resized_corrupt.tif'>\n",
      "<re.Match object; span=(0, 33), match='NDWI_Mask_868_resized_corrupt.tif'>\n",
      "<re.Match object; span=(0, 33), match='NDWI_Mask_869_resized_corrupt.tif'>\n",
      "<re.Match object; span=(0, 32), match='NDWI_Mask_86_resized_corrupt.tif'>\n",
      "<re.Match object; span=(0, 33), match='NDWI_Mask_870_resized_corrupt.tif'>\n",
      "<re.Match object; span=(0, 33), match='NDWI_Mask_871_resized_corrupt.tif'>\n",
      "<re.Match object; span=(0, 33), match='NDWI_Mask_872_resized_corrupt.tif'>\n",
      "<re.Match object; span=(0, 33), match='NDWI_Mask_873_resized_corrupt.tif'>\n",
      "<re.Match object; span=(0, 33), match='NDWI_Mask_874_resized_corrupt.tif'>\n",
      "<re.Match object; span=(0, 33), match='NDWI_Mask_876_resized_corrupt.tif'>\n",
      "<re.Match object; span=(0, 33), match='NDWI_Mask_877_resized_corrupt.tif'>\n",
      "<re.Match object; span=(0, 33), match='NDWI_Mask_878_resized_corrupt.tif'>\n",
      "<re.Match object; span=(0, 32), match='NDWI_Mask_87_resized_corrupt.tif'>\n",
      "<re.Match object; span=(0, 33), match='NDWI_Mask_880_resized_corrupt.tif'>\n",
      "<re.Match object; span=(0, 33), match='NDWI_Mask_881_resized_corrupt.tif'>\n",
      "<re.Match object; span=(0, 33), match='NDWI_Mask_882_resized_corrupt.tif'>\n",
      "<re.Match object; span=(0, 33), match='NDWI_Mask_884_resized_corrupt.tif'>\n",
      "<re.Match object; span=(0, 33), match='NDWI_Mask_885_resized_corrupt.tif'>\n",
      "<re.Match object; span=(0, 33), match='NDWI_Mask_886_resized_corrupt.tif'>\n",
      "<re.Match object; span=(0, 33), match='NDWI_Mask_887_resized_corrupt.tif'>\n",
      "<re.Match object; span=(0, 33), match='NDWI_Mask_888_resized_corrupt.tif'>\n",
      "<re.Match object; span=(0, 33), match='NDWI_Mask_889_resized_corrupt.tif'>\n",
      "<re.Match object; span=(0, 33), match='NDWI_Mask_891_resized_corrupt.tif'>\n",
      "<re.Match object; span=(0, 33), match='NDWI_Mask_892_resized_corrupt.tif'>\n",
      "<re.Match object; span=(0, 33), match='NDWI_Mask_894_resized_corrupt.tif'>\n",
      "<re.Match object; span=(0, 33), match='NDWI_Mask_895_resized_corrupt.tif'>\n",
      "<re.Match object; span=(0, 33), match='NDWI_Mask_896_resized_corrupt.tif'>\n",
      "<re.Match object; span=(0, 33), match='NDWI_Mask_897_resized_corrupt.tif'>\n",
      "<re.Match object; span=(0, 33), match='NDWI_Mask_898_resized_corrupt.tif'>\n",
      "<re.Match object; span=(0, 33), match='NDWI_Mask_899_resized_corrupt.tif'>\n",
      "<re.Match object; span=(0, 32), match='NDWI_Mask_89_resized_corrupt.tif'>\n",
      "<re.Match object; span=(0, 33), match='NDWI_Mask_901_resized_corrupt.tif'>\n",
      "<re.Match object; span=(0, 33), match='NDWI_Mask_902_resized_corrupt.tif'>\n",
      "<re.Match object; span=(0, 33), match='NDWI_Mask_903_resized_corrupt.tif'>\n",
      "<re.Match object; span=(0, 33), match='NDWI_Mask_904_resized_corrupt.tif'>\n",
      "<re.Match object; span=(0, 33), match='NDWI_Mask_905_resized_corrupt.tif'>\n",
      "<re.Match object; span=(0, 33), match='NDWI_Mask_906_resized_corrupt.tif'>\n",
      "<re.Match object; span=(0, 33), match='NDWI_Mask_907_resized_corrupt.tif'>\n",
      "<re.Match object; span=(0, 33), match='NDWI_Mask_908_resized_corrupt.tif'>\n",
      "<re.Match object; span=(0, 33), match='NDWI_Mask_909_resized_corrupt.tif'>\n",
      "<re.Match object; span=(0, 32), match='NDWI_Mask_90_resized_corrupt.tif'>\n",
      "<re.Match object; span=(0, 33), match='NDWI_Mask_910_resized_corrupt.tif'>\n",
      "<re.Match object; span=(0, 33), match='NDWI_Mask_912_resized_corrupt.tif'>\n",
      "<re.Match object; span=(0, 33), match='NDWI_Mask_913_resized_corrupt.tif'>\n",
      "<re.Match object; span=(0, 33), match='NDWI_Mask_915_resized_corrupt.tif'>\n",
      "<re.Match object; span=(0, 33), match='NDWI_Mask_916_resized_corrupt.tif'>\n",
      "<re.Match object; span=(0, 33), match='NDWI_Mask_917_resized_corrupt.tif'>\n",
      "<re.Match object; span=(0, 33), match='NDWI_Mask_919_resized_corrupt.tif'>\n",
      "<re.Match object; span=(0, 33), match='NDWI_Mask_920_resized_corrupt.tif'>\n",
      "<re.Match object; span=(0, 33), match='NDWI_Mask_921_resized_corrupt.tif'>\n",
      "<re.Match object; span=(0, 33), match='NDWI_Mask_922_resized_corrupt.tif'>\n",
      "<re.Match object; span=(0, 33), match='NDWI_Mask_923_resized_corrupt.tif'>\n",
      "<re.Match object; span=(0, 33), match='NDWI_Mask_924_resized_corrupt.tif'>\n",
      "<re.Match object; span=(0, 33), match='NDWI_Mask_926_resized_corrupt.tif'>\n",
      "<re.Match object; span=(0, 33), match='NDWI_Mask_927_resized_corrupt.tif'>\n",
      "<re.Match object; span=(0, 33), match='NDWI_Mask_929_resized_corrupt.tif'>\n",
      "<re.Match object; span=(0, 32), match='NDWI_Mask_92_resized_corrupt.tif'>\n",
      "<re.Match object; span=(0, 33), match='NDWI_Mask_932_resized_corrupt.tif'>\n",
      "<re.Match object; span=(0, 33), match='NDWI_Mask_933_resized_corrupt.tif'>\n",
      "<re.Match object; span=(0, 33), match='NDWI_Mask_934_resized_corrupt.tif'>\n",
      "<re.Match object; span=(0, 33), match='NDWI_Mask_935_resized_corrupt.tif'>\n",
      "<re.Match object; span=(0, 33), match='NDWI_Mask_936_resized_corrupt.tif'>\n",
      "<re.Match object; span=(0, 33), match='NDWI_Mask_937_resized_corrupt.tif'>\n",
      "<re.Match object; span=(0, 33), match='NDWI_Mask_939_resized_corrupt.tif'>\n",
      "<re.Match object; span=(0, 33), match='NDWI_Mask_940_resized_corrupt.tif'>\n",
      "<re.Match object; span=(0, 33), match='NDWI_Mask_942_resized_corrupt.tif'>\n",
      "<re.Match object; span=(0, 33), match='NDWI_Mask_943_resized_corrupt.tif'>\n",
      "<re.Match object; span=(0, 33), match='NDWI_Mask_944_resized_corrupt.tif'>\n",
      "<re.Match object; span=(0, 33), match='NDWI_Mask_945_resized_corrupt.tif'>\n",
      "<re.Match object; span=(0, 33), match='NDWI_Mask_946_resized_corrupt.tif'>\n",
      "<re.Match object; span=(0, 33), match='NDWI_Mask_947_resized_corrupt.tif'>\n",
      "<re.Match object; span=(0, 33), match='NDWI_Mask_949_resized_corrupt.tif'>\n",
      "<re.Match object; span=(0, 32), match='NDWI_Mask_94_resized_corrupt.tif'>\n",
      "<re.Match object; span=(0, 33), match='NDWI_Mask_951_resized_corrupt.tif'>\n",
      "<re.Match object; span=(0, 33), match='NDWI_Mask_952_resized_corrupt.tif'>\n",
      "<re.Match object; span=(0, 33), match='NDWI_Mask_953_resized_corrupt.tif'>\n",
      "<re.Match object; span=(0, 33), match='NDWI_Mask_954_resized_corrupt.tif'>\n",
      "<re.Match object; span=(0, 33), match='NDWI_Mask_956_resized_corrupt.tif'>\n",
      "<re.Match object; span=(0, 33), match='NDWI_Mask_958_resized_corrupt.tif'>\n",
      "<re.Match object; span=(0, 33), match='NDWI_Mask_959_resized_corrupt.tif'>\n",
      "<re.Match object; span=(0, 33), match='NDWI_Mask_961_resized_corrupt.tif'>\n",
      "<re.Match object; span=(0, 33), match='NDWI_Mask_962_resized_corrupt.tif'>\n",
      "<re.Match object; span=(0, 33), match='NDWI_Mask_963_resized_corrupt.tif'>\n",
      "<re.Match object; span=(0, 33), match='NDWI_Mask_964_resized_corrupt.tif'>\n",
      "<re.Match object; span=(0, 33), match='NDWI_Mask_965_resized_corrupt.tif'>\n",
      "<re.Match object; span=(0, 33), match='NDWI_Mask_966_resized_corrupt.tif'>\n",
      "<re.Match object; span=(0, 33), match='NDWI_Mask_967_resized_corrupt.tif'>\n",
      "<re.Match object; span=(0, 33), match='NDWI_Mask_968_resized_corrupt.tif'>\n",
      "<re.Match object; span=(0, 33), match='NDWI_Mask_969_resized_corrupt.tif'>\n",
      "<re.Match object; span=(0, 32), match='NDWI_Mask_96_resized_corrupt.tif'>\n",
      "<re.Match object; span=(0, 33), match='NDWI_Mask_970_resized_corrupt.tif'>\n",
      "<re.Match object; span=(0, 33), match='NDWI_Mask_971_resized_corrupt.tif'>\n",
      "<re.Match object; span=(0, 33), match='NDWI_Mask_972_resized_corrupt.tif'>\n",
      "<re.Match object; span=(0, 33), match='NDWI_Mask_973_resized_corrupt.tif'>\n",
      "<re.Match object; span=(0, 33), match='NDWI_Mask_975_resized_corrupt.tif'>\n",
      "<re.Match object; span=(0, 33), match='NDWI_Mask_976_resized_corrupt.tif'>\n",
      "<re.Match object; span=(0, 33), match='NDWI_Mask_977_resized_corrupt.tif'>\n",
      "<re.Match object; span=(0, 33), match='NDWI_Mask_978_resized_corrupt.tif'>\n",
      "<re.Match object; span=(0, 33), match='NDWI_Mask_979_resized_corrupt.tif'>\n",
      "<re.Match object; span=(0, 32), match='NDWI_Mask_97_resized_corrupt.tif'>\n",
      "<re.Match object; span=(0, 33), match='NDWI_Mask_980_resized_corrupt.tif'>\n",
      "<re.Match object; span=(0, 33), match='NDWI_Mask_981_resized_corrupt.tif'>\n",
      "<re.Match object; span=(0, 33), match='NDWI_Mask_982_resized_corrupt.tif'>\n",
      "<re.Match object; span=(0, 33), match='NDWI_Mask_984_resized_corrupt.tif'>\n",
      "<re.Match object; span=(0, 33), match='NDWI_Mask_985_resized_corrupt.tif'>\n",
      "<re.Match object; span=(0, 33), match='NDWI_Mask_987_resized_corrupt.tif'>\n",
      "<re.Match object; span=(0, 33), match='NDWI_Mask_988_resized_corrupt.tif'>\n",
      "<re.Match object; span=(0, 33), match='NDWI_Mask_989_resized_corrupt.tif'>\n",
      "<re.Match object; span=(0, 32), match='NDWI_Mask_98_resized_corrupt.tif'>\n",
      "<re.Match object; span=(0, 33), match='NDWI_Mask_990_resized_corrupt.tif'>\n",
      "<re.Match object; span=(0, 33), match='NDWI_Mask_991_resized_corrupt.tif'>\n",
      "<re.Match object; span=(0, 33), match='NDWI_Mask_992_resized_corrupt.tif'>\n",
      "<re.Match object; span=(0, 33), match='NDWI_Mask_993_resized_corrupt.tif'>\n",
      "<re.Match object; span=(0, 33), match='NDWI_Mask_994_resized_corrupt.tif'>\n",
      "<re.Match object; span=(0, 33), match='NDWI_Mask_995_resized_corrupt.tif'>\n",
      "<re.Match object; span=(0, 33), match='NDWI_Mask_996_resized_corrupt.tif'>\n",
      "<re.Match object; span=(0, 33), match='NDWI_Mask_997_resized_corrupt.tif'>\n",
      "<re.Match object; span=(0, 33), match='NDWI_Mask_998_resized_corrupt.tif'>\n",
      "<re.Match object; span=(0, 33), match='NDWI_Mask_999_resized_corrupt.tif'>\n",
      "<re.Match object; span=(0, 32), match='NDWI_Mask_99_resized_corrupt.tif'>\n"
     ]
    }
   ],
   "source": [
    "corruption = 0\n",
    "input_dir = './data_new/'\n",
    "mask_dir = f'./GEE_Masks/GEE_resized/train_gee/train_{corruption}_gee_with_diff_kernels'\n",
    "output_dir = f'./GEE_Output/Adversarial/New_20_Epoch_DeepLab_{corruption}_with_diff_kernels'\n",
    "\n",
    "print(mask_dir)\n",
    "print(output_dir)\n",
    "\n",
    "os.makedirs(output_dir,exist_ok=True)\n",
    "# Load data\n",
    "images, masks = load_data_new(input_dir, mask_dir)\n",
    "\n",
    "# Define input shape and number of classes\n",
    "images = np.expand_dims(images, axis=-1)\n",
    "input_shape = images.shape[1:]"
   ]
  },
  {
   "cell_type": "code",
   "execution_count": 11,
   "metadata": {},
   "outputs": [
    {
     "name": "stdout",
     "output_type": "stream",
     "text": [
      "(None, 512, 512, 2)\n",
      "(None, 512, 512, 1)\n",
      "Downloading data from https://github.com/bonlime/keras-deeplab-v3-plus/releases/download/1.2/deeplabv3_mobilenetv2_tf_dim_ordering_tf_kernels_cityscapes.h5\n",
      "8984520/8984520 [==============================] - 1s 0us/step\n"
     ]
    },
    {
     "ename": "ValueError",
     "evalue": "Shape mismatch in layer #1 (named Conv) for weight Conv/kernel:0. Weight expects shape (3, 3, 1, 32). Received saved weight with shape (32, 3, 3, 3)",
     "output_type": "error",
     "traceback": [
      "\u001b[1;31m---------------------------------------------------------------------------\u001b[0m",
      "\u001b[1;31mValueError\u001b[0m                                Traceback (most recent call last)",
      "Cell \u001b[1;32mIn[11], line 4\u001b[0m\n\u001b[0;32m      1\u001b[0m \u001b[38;5;66;03m# Model setup\u001b[39;00m\n\u001b[0;32m      2\u001b[0m INPUT_SHAPE \u001b[38;5;241m=\u001b[39m input_shape\n\u001b[1;32m----> 4\u001b[0m model \u001b[38;5;241m=\u001b[39m \u001b[43mDeeplabv3\u001b[49m\u001b[43m(\u001b[49m\n\u001b[0;32m      5\u001b[0m \u001b[43m    \u001b[49m\u001b[43minput_shape\u001b[49m\u001b[38;5;241;43m=\u001b[39;49m\u001b[43mINPUT_SHAPE\u001b[49m\u001b[43m,\u001b[49m\n\u001b[0;32m      6\u001b[0m \u001b[43m    \u001b[49m\u001b[43mclasses\u001b[49m\u001b[38;5;241;43m=\u001b[39;49m\u001b[43mNUM_CLASSES\u001b[49m\u001b[43m,\u001b[49m\n\u001b[0;32m      7\u001b[0m \u001b[43m    \u001b[49m\u001b[43mbackbone\u001b[49m\u001b[38;5;241;43m=\u001b[39;49m\u001b[43mBACKBONE\u001b[49m\u001b[43m,\u001b[49m\n\u001b[0;32m      8\u001b[0m \u001b[43m    \u001b[49m\u001b[43mweights\u001b[49m\u001b[38;5;241;43m=\u001b[39;49m\u001b[38;5;124;43m\"\u001b[39;49m\u001b[38;5;124;43mcityscapes\u001b[39;49m\u001b[38;5;124;43m\"\u001b[39;49m\n\u001b[0;32m      9\u001b[0m \u001b[43m)\u001b[49m\n\u001b[0;32m     11\u001b[0m \u001b[38;5;28mprint\u001b[39m(images\u001b[38;5;241m.\u001b[39mshape)\n\u001b[0;32m     12\u001b[0m \u001b[38;5;28mprint\u001b[39m(masks\u001b[38;5;241m.\u001b[39mshape)\n",
      "Cell \u001b[1;32mIn[6], line 278\u001b[0m, in \u001b[0;36mDeeplabv3\u001b[1;34m(weights, input_tensor, input_shape, classes, backbone, OS, alpha)\u001b[0m\n\u001b[0;32m    274\u001b[0m     \u001b[38;5;28;01melse\u001b[39;00m:\n\u001b[0;32m    275\u001b[0m         weights_path \u001b[38;5;241m=\u001b[39m get_file(\u001b[38;5;124m'\u001b[39m\u001b[38;5;124mdeeplabv3_mobilenetv2_tf_dim_ordering_tf_kernels_cityscapes.h5\u001b[39m\u001b[38;5;124m'\u001b[39m,\n\u001b[0;32m    276\u001b[0m                                 WEIGHTS_PATH_MOBILE_CS,\n\u001b[0;32m    277\u001b[0m                                 cache_subdir\u001b[38;5;241m=\u001b[39m\u001b[38;5;124m'\u001b[39m\u001b[38;5;124mmodels\u001b[39m\u001b[38;5;124m'\u001b[39m)\n\u001b[1;32m--> 278\u001b[0m     \u001b[43mmodel\u001b[49m\u001b[38;5;241;43m.\u001b[39;49m\u001b[43mload_weights\u001b[49m\u001b[43m(\u001b[49m\u001b[43mweights_path\u001b[49m\u001b[43m,\u001b[49m\u001b[43m \u001b[49m\u001b[43mby_name\u001b[49m\u001b[38;5;241;43m=\u001b[39;49m\u001b[38;5;28;43;01mTrue\u001b[39;49;00m\u001b[43m)\u001b[49m\n\u001b[0;32m    280\u001b[0m \u001b[38;5;28;01mreturn\u001b[39;00m model\n",
      "File \u001b[1;32mc:\\Users\\ADMIN\\anaconda3\\envs\\tf_gpu\\lib\\site-packages\\keras\\utils\\traceback_utils.py:70\u001b[0m, in \u001b[0;36mfilter_traceback.<locals>.error_handler\u001b[1;34m(*args, **kwargs)\u001b[0m\n\u001b[0;32m     67\u001b[0m     filtered_tb \u001b[38;5;241m=\u001b[39m _process_traceback_frames(e\u001b[38;5;241m.\u001b[39m__traceback__)\n\u001b[0;32m     68\u001b[0m     \u001b[38;5;66;03m# To get the full stack trace, call:\u001b[39;00m\n\u001b[0;32m     69\u001b[0m     \u001b[38;5;66;03m# `tf.debugging.disable_traceback_filtering()`\u001b[39;00m\n\u001b[1;32m---> 70\u001b[0m     \u001b[38;5;28;01mraise\u001b[39;00m e\u001b[38;5;241m.\u001b[39mwith_traceback(filtered_tb) \u001b[38;5;28;01mfrom\u001b[39;00m\u001b[38;5;250m \u001b[39m\u001b[38;5;28;01mNone\u001b[39;00m\n\u001b[0;32m     71\u001b[0m \u001b[38;5;28;01mfinally\u001b[39;00m:\n\u001b[0;32m     72\u001b[0m     \u001b[38;5;28;01mdel\u001b[39;00m filtered_tb\n",
      "File \u001b[1;32mc:\\Users\\ADMIN\\anaconda3\\envs\\tf_gpu\\lib\\site-packages\\keras\\saving\\hdf5_format.py:944\u001b[0m, in \u001b[0;36mload_weights_from_hdf5_group_by_name\u001b[1;34m(f, model, skip_mismatch)\u001b[0m\n\u001b[0;32m    935\u001b[0m         logging\u001b[38;5;241m.\u001b[39mwarning(\n\u001b[0;32m    936\u001b[0m             \u001b[38;5;124mf\u001b[39m\u001b[38;5;124m\"\u001b[39m\u001b[38;5;124mSkipping loading weights for layer #\u001b[39m\u001b[38;5;132;01m{\u001b[39;00mk\u001b[38;5;132;01m}\u001b[39;00m\u001b[38;5;124m (named \u001b[39m\u001b[38;5;124m\"\u001b[39m\n\u001b[0;32m    937\u001b[0m             \u001b[38;5;124mf\u001b[39m\u001b[38;5;124m\"\u001b[39m\u001b[38;5;132;01m{\u001b[39;00mlayer\u001b[38;5;241m.\u001b[39mname\u001b[38;5;132;01m}\u001b[39;00m\u001b[38;5;124m) due to mismatch in shape for \u001b[39m\u001b[38;5;124m\"\u001b[39m\n\u001b[1;32m   (...)\u001b[0m\n\u001b[0;32m    941\u001b[0m             \u001b[38;5;124mf\u001b[39m\u001b[38;5;124m\"\u001b[39m\u001b[38;5;124mwith shape \u001b[39m\u001b[38;5;132;01m{\u001b[39;00mreceived_shape\u001b[38;5;132;01m}\u001b[39;00m\u001b[38;5;124m\"\u001b[39m\n\u001b[0;32m    942\u001b[0m         )\n\u001b[0;32m    943\u001b[0m         \u001b[38;5;28;01mcontinue\u001b[39;00m\n\u001b[1;32m--> 944\u001b[0m     \u001b[38;5;28;01mraise\u001b[39;00m \u001b[38;5;167;01mValueError\u001b[39;00m(\n\u001b[0;32m    945\u001b[0m         \u001b[38;5;124mf\u001b[39m\u001b[38;5;124m\"\u001b[39m\u001b[38;5;124mShape mismatch in layer #\u001b[39m\u001b[38;5;132;01m{\u001b[39;00mk\u001b[38;5;132;01m}\u001b[39;00m\u001b[38;5;124m (named \u001b[39m\u001b[38;5;132;01m{\u001b[39;00mlayer\u001b[38;5;241m.\u001b[39mname\u001b[38;5;132;01m}\u001b[39;00m\u001b[38;5;124m) \u001b[39m\u001b[38;5;124m\"\u001b[39m\n\u001b[0;32m    946\u001b[0m         \u001b[38;5;124mf\u001b[39m\u001b[38;5;124m\"\u001b[39m\u001b[38;5;124mfor weight \u001b[39m\u001b[38;5;132;01m{\u001b[39;00msymbolic_weights[i]\u001b[38;5;241m.\u001b[39mname\u001b[38;5;132;01m}\u001b[39;00m\u001b[38;5;124m. \u001b[39m\u001b[38;5;124m\"\u001b[39m\n\u001b[0;32m    947\u001b[0m         \u001b[38;5;124mf\u001b[39m\u001b[38;5;124m\"\u001b[39m\u001b[38;5;124mWeight expects shape \u001b[39m\u001b[38;5;132;01m{\u001b[39;00mexpected_shape\u001b[38;5;132;01m}\u001b[39;00m\u001b[38;5;124m. \u001b[39m\u001b[38;5;124m\"\u001b[39m\n\u001b[0;32m    948\u001b[0m         \u001b[38;5;124mf\u001b[39m\u001b[38;5;124m\"\u001b[39m\u001b[38;5;124mReceived saved weight \u001b[39m\u001b[38;5;124m\"\u001b[39m\n\u001b[0;32m    949\u001b[0m         \u001b[38;5;124mf\u001b[39m\u001b[38;5;124m\"\u001b[39m\u001b[38;5;124mwith shape \u001b[39m\u001b[38;5;132;01m{\u001b[39;00mreceived_shape\u001b[38;5;132;01m}\u001b[39;00m\u001b[38;5;124m\"\u001b[39m\n\u001b[0;32m    950\u001b[0m     )\n\u001b[0;32m    951\u001b[0m \u001b[38;5;28;01melse\u001b[39;00m:\n\u001b[0;32m    952\u001b[0m     weight_value_tuples\u001b[38;5;241m.\u001b[39mappend(\n\u001b[0;32m    953\u001b[0m         (symbolic_weights[i], weight_values[i])\n\u001b[0;32m    954\u001b[0m     )\n",
      "\u001b[1;31mValueError\u001b[0m: Shape mismatch in layer #1 (named Conv) for weight Conv/kernel:0. Weight expects shape (3, 3, 1, 32). Received saved weight with shape (32, 3, 3, 3)"
     ]
    }
   ],
   "source": [
    "# Model setup\n",
    "INPUT_SHAPE = input_shape\n",
    "\n",
    "model = Deeplabv3(\n",
    "    input_shape=INPUT_SHAPE,\n",
    "    classes=NUM_CLASSES,\n",
    "    backbone=BACKBONE,\n",
    "    weights=\"cityscapes\"\n",
    ")\n",
    "\n",
    "print(images.shape)\n",
    "print(masks.shape)\n"
   ]
  },
  {
   "cell_type": "code",
   "execution_count": null,
   "metadata": {},
   "outputs": [
    {
     "name": "stdout",
     "output_type": "stream",
     "text": [
      "Epoch 1/20\n",
      "111/111 [==============================] - 67s 489ms/step - loss: 0.2672 - accuracy: 0.9010 - val_loss: 0.5144 - val_accuracy: 0.8172\n",
      "Epoch 2/20\n",
      "111/111 [==============================] - 55s 494ms/step - loss: 0.1964 - accuracy: 0.9342 - val_loss: 0.5731 - val_accuracy: 0.8172\n",
      "Epoch 3/20\n",
      "111/111 [==============================] - 56s 503ms/step - loss: 0.1853 - accuracy: 0.9380 - val_loss: 0.5960 - val_accuracy: 0.8172\n",
      "Epoch 4/20\n",
      "111/111 [==============================] - 56s 507ms/step - loss: 0.1743 - accuracy: 0.9418 - val_loss: 0.6468 - val_accuracy: 0.8172\n",
      "Epoch 5/20\n",
      "111/111 [==============================] - 55s 500ms/step - loss: 0.1680 - accuracy: 0.9441 - val_loss: 0.6422 - val_accuracy: 0.8172\n",
      "Epoch 6/20\n",
      "111/111 [==============================] - 56s 504ms/step - loss: 0.1679 - accuracy: 0.9452 - val_loss: 0.7417 - val_accuracy: 0.8172\n",
      "Epoch 7/20\n",
      "111/111 [==============================] - 56s 502ms/step - loss: 0.1641 - accuracy: 0.9457 - val_loss: 0.5993 - val_accuracy: 0.8172\n",
      "Epoch 8/20\n",
      "111/111 [==============================] - 56s 500ms/step - loss: 0.1612 - accuracy: 0.9458 - val_loss: 0.7418 - val_accuracy: 0.8172\n",
      "Epoch 9/20\n",
      "111/111 [==============================] - 56s 503ms/step - loss: 0.1727 - accuracy: 0.9435 - val_loss: 0.6742 - val_accuracy: 0.8172\n",
      "Epoch 10/20\n",
      "111/111 [==============================] - 56s 502ms/step - loss: 0.1687 - accuracy: 0.9447 - val_loss: 0.6038 - val_accuracy: 0.8172\n",
      "Epoch 11/20\n",
      "111/111 [==============================] - 56s 503ms/step - loss: 0.1702 - accuracy: 0.9437 - val_loss: 0.5606 - val_accuracy: 0.8172\n",
      "Epoch 12/20\n",
      "111/111 [==============================] - 56s 508ms/step - loss: 0.1916 - accuracy: 0.9357 - val_loss: 0.5006 - val_accuracy: 0.8172\n",
      "Epoch 13/20\n",
      "111/111 [==============================] - 55s 499ms/step - loss: 0.1675 - accuracy: 0.9439 - val_loss: 0.6530 - val_accuracy: 0.8172\n",
      "Epoch 14/20\n",
      "111/111 [==============================] - 56s 501ms/step - loss: 0.1605 - accuracy: 0.9466 - val_loss: 0.6133 - val_accuracy: 0.8172\n",
      "Epoch 15/20\n",
      "111/111 [==============================] - 56s 505ms/step - loss: 0.1617 - accuracy: 0.9466 - val_loss: 0.7049 - val_accuracy: 0.8172\n",
      "Epoch 16/20\n",
      "111/111 [==============================] - 56s 505ms/step - loss: 0.1583 - accuracy: 0.9468 - val_loss: 0.6967 - val_accuracy: 0.8172\n",
      "Epoch 17/20\n",
      "111/111 [==============================] - 56s 503ms/step - loss: 0.1565 - accuracy: 0.9470 - val_loss: 0.5715 - val_accuracy: 0.8172\n",
      "Epoch 18/20\n",
      "111/111 [==============================] - 56s 506ms/step - loss: 0.1684 - accuracy: 0.9458 - val_loss: 0.6633 - val_accuracy: 0.8172\n",
      "Epoch 19/20\n",
      "111/111 [==============================] - 56s 507ms/step - loss: 0.1662 - accuracy: 0.9450 - val_loss: 0.7122 - val_accuracy: 0.8172\n",
      "Epoch 20/20\n",
      "111/111 [==============================] - 56s 506ms/step - loss: 0.1581 - accuracy: 0.9471 - val_loss: 0.6521 - val_accuracy: 0.8172\n",
      "DeepLab_GEE_20_epoch_0_with_diff_kernels\n"
     ]
    },
    {
     "name": "stderr",
     "output_type": "stream",
     "text": [
      "WARNING:absl:Found untraced functions such as _jit_compiled_convolution_op, _jit_compiled_convolution_op, _jit_compiled_convolution_op, _jit_compiled_convolution_op, _jit_compiled_convolution_op while saving (showing 5 of 55). These functions will not be directly callable after loading.\n"
     ]
    },
    {
     "name": "stdout",
     "output_type": "stream",
     "text": [
      "INFO:tensorflow:Assets written to: DeepLab_GEE_20_epoch_0_with_diff_kernels\\assets\n"
     ]
    },
    {
     "name": "stderr",
     "output_type": "stream",
     "text": [
      "INFO:tensorflow:Assets written to: DeepLab_GEE_20_epoch_0_with_diff_kernels\\assets\n"
     ]
    }
   ],
   "source": [
    "# Compile the model\n",
    "model.compile(\n",
    "    optimizer=Adam(learning_rate=LEARNING_RATE),\n",
    "    loss=\"categorical_crossentropy\",\n",
    "    metrics=['accuracy']\n",
    ")\n",
    "\n",
    "# Callbacks\n",
    "checkpoint = ModelCheckpoint(\"deeplabv3_best_model.h5\", save_best_only=True, monitor=\"val_loss\", mode=\"min\")\n",
    "# early_stopping = EarlyStopping(patience=5, monitor=\"val_loss\", mode=\"min\", restore_best_weights=True)\n",
    "\n",
    "model.fit(images, masks, validation_split=VALIDATION_SPLIT, epochs=EPOCHS, batch_size=BATCH_SIZE, callbacks=[checkpoint])\n",
    "model.save(f\"deeplabv3_20_epoch_{corruption}_trained_model.h5\")\n",
    "\n",
    "model_name = f'DeepLab_GEE_20_epoch_{corruption}_with_diff_kernels'\n",
    "print(model_name)\n",
    "model.save(model_name)"
   ]
  },
  {
   "cell_type": "code",
   "execution_count": null,
   "metadata": {},
   "outputs": [],
   "source": [
    "mask_dir = './GEE_Masks/GEE_resized/test_gee/'"
   ]
  },
  {
   "cell_type": "code",
   "execution_count": null,
   "metadata": {},
   "outputs": [
    {
     "name": "stdout",
     "output_type": "stream",
     "text": [
      "253\n",
      "1008\n",
      "1/1 [==============================] - 1s 640ms/step\n",
      "(512, 512, 2)\n"
     ]
    },
    {
     "name": "stderr",
     "output_type": "stream",
     "text": [
      "c:\\Users\\ADMIN\\anaconda3\\envs\\tf_gpu\\lib\\site-packages\\sklearn\\metrics\\_classification.py:1565: UndefinedMetricWarning: Precision is ill-defined and being set to 0.0 due to no predicted samples. Use `zero_division` parameter to control this behavior.\n",
      "  _warn_prf(average, modifier, f\"{metric.capitalize()} is\", len(result))\n"
     ]
    },
    {
     "name": "stdout",
     "output_type": "stream",
     "text": [
      "1010\n",
      "1/1 [==============================] - 0s 20ms/step\n",
      "(512, 512, 2)\n"
     ]
    },
    {
     "name": "stderr",
     "output_type": "stream",
     "text": [
      "c:\\Users\\ADMIN\\anaconda3\\envs\\tf_gpu\\lib\\site-packages\\sklearn\\metrics\\_classification.py:1565: UndefinedMetricWarning: Precision is ill-defined and being set to 0.0 due to no predicted samples. Use `zero_division` parameter to control this behavior.\n",
      "  _warn_prf(average, modifier, f\"{metric.capitalize()} is\", len(result))\n"
     ]
    },
    {
     "name": "stdout",
     "output_type": "stream",
     "text": [
      "1012\n",
      "1/1 [==============================] - 0s 20ms/step\n",
      "(512, 512, 2)\n"
     ]
    },
    {
     "name": "stderr",
     "output_type": "stream",
     "text": [
      "c:\\Users\\ADMIN\\anaconda3\\envs\\tf_gpu\\lib\\site-packages\\sklearn\\metrics\\_classification.py:1565: UndefinedMetricWarning: Precision is ill-defined and being set to 0.0 due to no predicted samples. Use `zero_division` parameter to control this behavior.\n",
      "  _warn_prf(average, modifier, f\"{metric.capitalize()} is\", len(result))\n"
     ]
    },
    {
     "name": "stdout",
     "output_type": "stream",
     "text": [
      "1020\n",
      "1/1 [==============================] - 0s 20ms/step\n",
      "(512, 512, 2)\n"
     ]
    },
    {
     "name": "stderr",
     "output_type": "stream",
     "text": [
      "c:\\Users\\ADMIN\\anaconda3\\envs\\tf_gpu\\lib\\site-packages\\sklearn\\metrics\\_classification.py:1565: UndefinedMetricWarning: Precision is ill-defined and being set to 0.0 due to no predicted samples. Use `zero_division` parameter to control this behavior.\n",
      "  _warn_prf(average, modifier, f\"{metric.capitalize()} is\", len(result))\n"
     ]
    },
    {
     "name": "stdout",
     "output_type": "stream",
     "text": [
      "1025\n",
      "1/1 [==============================] - 0s 20ms/step\n",
      "(512, 512, 2)\n"
     ]
    },
    {
     "name": "stderr",
     "output_type": "stream",
     "text": [
      "c:\\Users\\ADMIN\\anaconda3\\envs\\tf_gpu\\lib\\site-packages\\sklearn\\metrics\\_classification.py:1565: UndefinedMetricWarning: Precision is ill-defined and being set to 0.0 due to no predicted samples. Use `zero_division` parameter to control this behavior.\n",
      "  _warn_prf(average, modifier, f\"{metric.capitalize()} is\", len(result))\n"
     ]
    },
    {
     "name": "stdout",
     "output_type": "stream",
     "text": [
      "1028\n",
      "1/1 [==============================] - 0s 23ms/step\n",
      "(512, 512, 2)\n"
     ]
    },
    {
     "name": "stderr",
     "output_type": "stream",
     "text": [
      "c:\\Users\\ADMIN\\anaconda3\\envs\\tf_gpu\\lib\\site-packages\\sklearn\\metrics\\_classification.py:1565: UndefinedMetricWarning: Precision is ill-defined and being set to 0.0 due to no predicted samples. Use `zero_division` parameter to control this behavior.\n",
      "  _warn_prf(average, modifier, f\"{metric.capitalize()} is\", len(result))\n"
     ]
    },
    {
     "name": "stdout",
     "output_type": "stream",
     "text": [
      "1030\n",
      "1/1 [==============================] - 0s 20ms/step\n",
      "(512, 512, 2)\n"
     ]
    },
    {
     "name": "stderr",
     "output_type": "stream",
     "text": [
      "c:\\Users\\ADMIN\\anaconda3\\envs\\tf_gpu\\lib\\site-packages\\sklearn\\metrics\\_classification.py:1565: UndefinedMetricWarning: Precision is ill-defined and being set to 0.0 due to no predicted samples. Use `zero_division` parameter to control this behavior.\n",
      "  _warn_prf(average, modifier, f\"{metric.capitalize()} is\", len(result))\n"
     ]
    },
    {
     "name": "stdout",
     "output_type": "stream",
     "text": [
      "1031\n",
      "1/1 [==============================] - 0s 20ms/step\n",
      "(512, 512, 2)\n"
     ]
    },
    {
     "name": "stderr",
     "output_type": "stream",
     "text": [
      "c:\\Users\\ADMIN\\anaconda3\\envs\\tf_gpu\\lib\\site-packages\\sklearn\\metrics\\_classification.py:1565: UndefinedMetricWarning: Precision is ill-defined and being set to 0.0 due to no predicted samples. Use `zero_division` parameter to control this behavior.\n",
      "  _warn_prf(average, modifier, f\"{metric.capitalize()} is\", len(result))\n"
     ]
    },
    {
     "name": "stdout",
     "output_type": "stream",
     "text": [
      "1035\n",
      "1/1 [==============================] - 0s 20ms/step\n",
      "(512, 512, 2)\n"
     ]
    },
    {
     "name": "stderr",
     "output_type": "stream",
     "text": [
      "c:\\Users\\ADMIN\\anaconda3\\envs\\tf_gpu\\lib\\site-packages\\sklearn\\metrics\\_classification.py:1565: UndefinedMetricWarning: Precision is ill-defined and being set to 0.0 due to no predicted samples. Use `zero_division` parameter to control this behavior.\n",
      "  _warn_prf(average, modifier, f\"{metric.capitalize()} is\", len(result))\n"
     ]
    },
    {
     "name": "stdout",
     "output_type": "stream",
     "text": [
      "1037\n",
      "1/1 [==============================] - 0s 20ms/step\n",
      "(512, 512, 2)\n"
     ]
    },
    {
     "name": "stderr",
     "output_type": "stream",
     "text": [
      "c:\\Users\\ADMIN\\anaconda3\\envs\\tf_gpu\\lib\\site-packages\\sklearn\\metrics\\_classification.py:1565: UndefinedMetricWarning: Precision is ill-defined and being set to 0.0 due to no predicted samples. Use `zero_division` parameter to control this behavior.\n",
      "  _warn_prf(average, modifier, f\"{metric.capitalize()} is\", len(result))\n"
     ]
    },
    {
     "name": "stdout",
     "output_type": "stream",
     "text": [
      "1041\n",
      "1/1 [==============================] - 0s 30ms/step\n",
      "(512, 512, 2)\n"
     ]
    },
    {
     "name": "stderr",
     "output_type": "stream",
     "text": [
      "c:\\Users\\ADMIN\\anaconda3\\envs\\tf_gpu\\lib\\site-packages\\sklearn\\metrics\\_classification.py:1565: UndefinedMetricWarning: Precision is ill-defined and being set to 0.0 due to no predicted samples. Use `zero_division` parameter to control this behavior.\n",
      "  _warn_prf(average, modifier, f\"{metric.capitalize()} is\", len(result))\n"
     ]
    },
    {
     "name": "stdout",
     "output_type": "stream",
     "text": [
      "1043\n",
      "1/1 [==============================] - 0s 20ms/step\n",
      "(512, 512, 2)\n"
     ]
    },
    {
     "name": "stderr",
     "output_type": "stream",
     "text": [
      "c:\\Users\\ADMIN\\anaconda3\\envs\\tf_gpu\\lib\\site-packages\\sklearn\\metrics\\_classification.py:1565: UndefinedMetricWarning: Precision is ill-defined and being set to 0.0 due to no predicted samples. Use `zero_division` parameter to control this behavior.\n",
      "  _warn_prf(average, modifier, f\"{metric.capitalize()} is\", len(result))\n"
     ]
    },
    {
     "name": "stdout",
     "output_type": "stream",
     "text": [
      "1044\n",
      "1/1 [==============================] - 0s 20ms/step\n",
      "(512, 512, 2)\n"
     ]
    },
    {
     "name": "stderr",
     "output_type": "stream",
     "text": [
      "c:\\Users\\ADMIN\\anaconda3\\envs\\tf_gpu\\lib\\site-packages\\sklearn\\metrics\\_classification.py:1565: UndefinedMetricWarning: Precision is ill-defined and being set to 0.0 due to no predicted samples. Use `zero_division` parameter to control this behavior.\n",
      "  _warn_prf(average, modifier, f\"{metric.capitalize()} is\", len(result))\n"
     ]
    },
    {
     "name": "stdout",
     "output_type": "stream",
     "text": [
      "1048\n",
      "1/1 [==============================] - 0s 20ms/step\n",
      "(512, 512, 2)\n"
     ]
    },
    {
     "name": "stderr",
     "output_type": "stream",
     "text": [
      "c:\\Users\\ADMIN\\anaconda3\\envs\\tf_gpu\\lib\\site-packages\\sklearn\\metrics\\_classification.py:1565: UndefinedMetricWarning: Precision is ill-defined and being set to 0.0 due to no predicted samples. Use `zero_division` parameter to control this behavior.\n",
      "  _warn_prf(average, modifier, f\"{metric.capitalize()} is\", len(result))\n"
     ]
    },
    {
     "name": "stdout",
     "output_type": "stream",
     "text": [
      "1058\n",
      "1/1 [==============================] - 0s 20ms/step\n",
      "(512, 512, 2)\n"
     ]
    },
    {
     "name": "stderr",
     "output_type": "stream",
     "text": [
      "c:\\Users\\ADMIN\\anaconda3\\envs\\tf_gpu\\lib\\site-packages\\sklearn\\metrics\\_classification.py:1565: UndefinedMetricWarning: Precision is ill-defined and being set to 0.0 due to no predicted samples. Use `zero_division` parameter to control this behavior.\n",
      "  _warn_prf(average, modifier, f\"{metric.capitalize()} is\", len(result))\n"
     ]
    },
    {
     "name": "stdout",
     "output_type": "stream",
     "text": [
      "1060\n",
      "1/1 [==============================] - 0s 20ms/step\n",
      "(512, 512, 2)\n"
     ]
    },
    {
     "name": "stderr",
     "output_type": "stream",
     "text": [
      "c:\\Users\\ADMIN\\anaconda3\\envs\\tf_gpu\\lib\\site-packages\\sklearn\\metrics\\_classification.py:1565: UndefinedMetricWarning: Precision is ill-defined and being set to 0.0 due to no predicted samples. Use `zero_division` parameter to control this behavior.\n",
      "  _warn_prf(average, modifier, f\"{metric.capitalize()} is\", len(result))\n"
     ]
    },
    {
     "name": "stdout",
     "output_type": "stream",
     "text": [
      "1061\n",
      "1/1 [==============================] - 0s 20ms/step\n",
      "(512, 512, 2)\n"
     ]
    },
    {
     "name": "stderr",
     "output_type": "stream",
     "text": [
      "c:\\Users\\ADMIN\\anaconda3\\envs\\tf_gpu\\lib\\site-packages\\sklearn\\metrics\\_classification.py:1565: UndefinedMetricWarning: Precision is ill-defined and being set to 0.0 due to no predicted samples. Use `zero_division` parameter to control this behavior.\n",
      "  _warn_prf(average, modifier, f\"{metric.capitalize()} is\", len(result))\n"
     ]
    },
    {
     "name": "stdout",
     "output_type": "stream",
     "text": [
      "106\n",
      "1/1 [==============================] - 0s 20ms/step\n",
      "(512, 512, 2)\n"
     ]
    },
    {
     "name": "stderr",
     "output_type": "stream",
     "text": [
      "c:\\Users\\ADMIN\\anaconda3\\envs\\tf_gpu\\lib\\site-packages\\sklearn\\metrics\\_classification.py:1565: UndefinedMetricWarning: Precision is ill-defined and being set to 0.0 due to no predicted samples. Use `zero_division` parameter to control this behavior.\n",
      "  _warn_prf(average, modifier, f\"{metric.capitalize()} is\", len(result))\n"
     ]
    },
    {
     "name": "stdout",
     "output_type": "stream",
     "text": [
      "1073\n",
      "1/1 [==============================] - 0s 20ms/step\n",
      "(512, 512, 2)\n"
     ]
    },
    {
     "name": "stderr",
     "output_type": "stream",
     "text": [
      "c:\\Users\\ADMIN\\anaconda3\\envs\\tf_gpu\\lib\\site-packages\\sklearn\\metrics\\_classification.py:1565: UndefinedMetricWarning: Precision is ill-defined and being set to 0.0 due to no predicted samples. Use `zero_division` parameter to control this behavior.\n",
      "  _warn_prf(average, modifier, f\"{metric.capitalize()} is\", len(result))\n"
     ]
    },
    {
     "name": "stdout",
     "output_type": "stream",
     "text": [
      "1075\n",
      "1/1 [==============================] - 0s 20ms/step\n",
      "(512, 512, 2)\n"
     ]
    },
    {
     "name": "stderr",
     "output_type": "stream",
     "text": [
      "c:\\Users\\ADMIN\\anaconda3\\envs\\tf_gpu\\lib\\site-packages\\sklearn\\metrics\\_classification.py:1565: UndefinedMetricWarning: Precision is ill-defined and being set to 0.0 due to no predicted samples. Use `zero_division` parameter to control this behavior.\n",
      "  _warn_prf(average, modifier, f\"{metric.capitalize()} is\", len(result))\n"
     ]
    },
    {
     "name": "stdout",
     "output_type": "stream",
     "text": [
      "1079\n",
      "1/1 [==============================] - 0s 10ms/step\n",
      "(512, 512, 2)\n"
     ]
    },
    {
     "name": "stderr",
     "output_type": "stream",
     "text": [
      "c:\\Users\\ADMIN\\anaconda3\\envs\\tf_gpu\\lib\\site-packages\\sklearn\\metrics\\_classification.py:1565: UndefinedMetricWarning: Precision is ill-defined and being set to 0.0 due to no predicted samples. Use `zero_division` parameter to control this behavior.\n",
      "  _warn_prf(average, modifier, f\"{metric.capitalize()} is\", len(result))\n",
      "c:\\Users\\ADMIN\\anaconda3\\envs\\tf_gpu\\lib\\site-packages\\sklearn\\metrics\\_classification.py:1565: UndefinedMetricWarning: Recall is ill-defined and being set to 0.0 due to no true samples. Use `zero_division` parameter to control this behavior.\n",
      "  _warn_prf(average, modifier, f\"{metric.capitalize()} is\", len(result))\n",
      "c:\\Users\\ADMIN\\anaconda3\\envs\\tf_gpu\\lib\\site-packages\\sklearn\\metrics\\_classification.py:1565: UndefinedMetricWarning: F-score is ill-defined and being set to 0.0 due to no true nor predicted samples. Use `zero_division` parameter to control this behavior.\n",
      "  _warn_prf(average, modifier, f\"{metric.capitalize()} is\", len(result))\n"
     ]
    },
    {
     "name": "stdout",
     "output_type": "stream",
     "text": [
      "1086\n",
      "1/1 [==============================] - 0s 20ms/step\n",
      "(512, 512, 2)\n"
     ]
    },
    {
     "name": "stderr",
     "output_type": "stream",
     "text": [
      "c:\\Users\\ADMIN\\anaconda3\\envs\\tf_gpu\\lib\\site-packages\\sklearn\\metrics\\_classification.py:1565: UndefinedMetricWarning: Precision is ill-defined and being set to 0.0 due to no predicted samples. Use `zero_division` parameter to control this behavior.\n",
      "  _warn_prf(average, modifier, f\"{metric.capitalize()} is\", len(result))\n"
     ]
    },
    {
     "name": "stdout",
     "output_type": "stream",
     "text": [
      "1094\n",
      "1/1 [==============================] - 0s 20ms/step\n",
      "(512, 512, 2)\n"
     ]
    },
    {
     "name": "stderr",
     "output_type": "stream",
     "text": [
      "c:\\Users\\ADMIN\\anaconda3\\envs\\tf_gpu\\lib\\site-packages\\sklearn\\metrics\\_classification.py:1565: UndefinedMetricWarning: Precision is ill-defined and being set to 0.0 due to no predicted samples. Use `zero_division` parameter to control this behavior.\n",
      "  _warn_prf(average, modifier, f\"{metric.capitalize()} is\", len(result))\n"
     ]
    },
    {
     "name": "stdout",
     "output_type": "stream",
     "text": [
      "10\n",
      "1/1 [==============================] - 0s 20ms/step\n",
      "(512, 512, 2)\n"
     ]
    },
    {
     "name": "stderr",
     "output_type": "stream",
     "text": [
      "c:\\Users\\ADMIN\\anaconda3\\envs\\tf_gpu\\lib\\site-packages\\sklearn\\metrics\\_classification.py:1565: UndefinedMetricWarning: Precision is ill-defined and being set to 0.0 due to no predicted samples. Use `zero_division` parameter to control this behavior.\n",
      "  _warn_prf(average, modifier, f\"{metric.capitalize()} is\", len(result))\n"
     ]
    },
    {
     "name": "stdout",
     "output_type": "stream",
     "text": [
      "1103\n",
      "1/1 [==============================] - 0s 19ms/step\n",
      "(512, 512, 2)\n"
     ]
    },
    {
     "name": "stderr",
     "output_type": "stream",
     "text": [
      "c:\\Users\\ADMIN\\anaconda3\\envs\\tf_gpu\\lib\\site-packages\\sklearn\\metrics\\_classification.py:1565: UndefinedMetricWarning: Precision is ill-defined and being set to 0.0 due to no predicted samples. Use `zero_division` parameter to control this behavior.\n",
      "  _warn_prf(average, modifier, f\"{metric.capitalize()} is\", len(result))\n"
     ]
    },
    {
     "name": "stdout",
     "output_type": "stream",
     "text": [
      "1114\n",
      "1/1 [==============================] - 0s 30ms/step\n",
      "(512, 512, 2)\n"
     ]
    },
    {
     "name": "stderr",
     "output_type": "stream",
     "text": [
      "c:\\Users\\ADMIN\\anaconda3\\envs\\tf_gpu\\lib\\site-packages\\sklearn\\metrics\\_classification.py:1565: UndefinedMetricWarning: Precision is ill-defined and being set to 0.0 due to no predicted samples. Use `zero_division` parameter to control this behavior.\n",
      "  _warn_prf(average, modifier, f\"{metric.capitalize()} is\", len(result))\n"
     ]
    },
    {
     "name": "stdout",
     "output_type": "stream",
     "text": [
      "1119\n",
      "1/1 [==============================] - 0s 20ms/step\n",
      "(512, 512, 2)\n"
     ]
    },
    {
     "name": "stderr",
     "output_type": "stream",
     "text": [
      "c:\\Users\\ADMIN\\anaconda3\\envs\\tf_gpu\\lib\\site-packages\\sklearn\\metrics\\_classification.py:1565: UndefinedMetricWarning: Precision is ill-defined and being set to 0.0 due to no predicted samples. Use `zero_division` parameter to control this behavior.\n",
      "  _warn_prf(average, modifier, f\"{metric.capitalize()} is\", len(result))\n"
     ]
    },
    {
     "name": "stdout",
     "output_type": "stream",
     "text": [
      "1124\n",
      "1/1 [==============================] - 0s 20ms/step\n",
      "(512, 512, 2)\n"
     ]
    },
    {
     "name": "stderr",
     "output_type": "stream",
     "text": [
      "c:\\Users\\ADMIN\\anaconda3\\envs\\tf_gpu\\lib\\site-packages\\sklearn\\metrics\\_classification.py:1565: UndefinedMetricWarning: Precision is ill-defined and being set to 0.0 due to no predicted samples. Use `zero_division` parameter to control this behavior.\n",
      "  _warn_prf(average, modifier, f\"{metric.capitalize()} is\", len(result))\n"
     ]
    },
    {
     "name": "stdout",
     "output_type": "stream",
     "text": [
      "1130\n",
      "1/1 [==============================] - 0s 29ms/step\n",
      "(512, 512, 2)\n"
     ]
    },
    {
     "name": "stderr",
     "output_type": "stream",
     "text": [
      "c:\\Users\\ADMIN\\anaconda3\\envs\\tf_gpu\\lib\\site-packages\\sklearn\\metrics\\_classification.py:1565: UndefinedMetricWarning: Precision is ill-defined and being set to 0.0 due to no predicted samples. Use `zero_division` parameter to control this behavior.\n",
      "  _warn_prf(average, modifier, f\"{metric.capitalize()} is\", len(result))\n"
     ]
    },
    {
     "name": "stdout",
     "output_type": "stream",
     "text": [
      "1131\n",
      "1/1 [==============================] - 0s 21ms/step\n",
      "(512, 512, 2)\n"
     ]
    },
    {
     "name": "stderr",
     "output_type": "stream",
     "text": [
      "c:\\Users\\ADMIN\\anaconda3\\envs\\tf_gpu\\lib\\site-packages\\sklearn\\metrics\\_classification.py:1565: UndefinedMetricWarning: Precision is ill-defined and being set to 0.0 due to no predicted samples. Use `zero_division` parameter to control this behavior.\n",
      "  _warn_prf(average, modifier, f\"{metric.capitalize()} is\", len(result))\n"
     ]
    },
    {
     "name": "stdout",
     "output_type": "stream",
     "text": [
      "1139\n",
      "1/1 [==============================] - 0s 20ms/step\n",
      "(512, 512, 2)\n"
     ]
    },
    {
     "name": "stderr",
     "output_type": "stream",
     "text": [
      "c:\\Users\\ADMIN\\anaconda3\\envs\\tf_gpu\\lib\\site-packages\\sklearn\\metrics\\_classification.py:1565: UndefinedMetricWarning: Precision is ill-defined and being set to 0.0 due to no predicted samples. Use `zero_division` parameter to control this behavior.\n",
      "  _warn_prf(average, modifier, f\"{metric.capitalize()} is\", len(result))\n"
     ]
    },
    {
     "name": "stdout",
     "output_type": "stream",
     "text": [
      "1142\n",
      "1/1 [==============================] - 0s 22ms/step\n",
      "(512, 512, 2)\n"
     ]
    },
    {
     "name": "stderr",
     "output_type": "stream",
     "text": [
      "c:\\Users\\ADMIN\\anaconda3\\envs\\tf_gpu\\lib\\site-packages\\sklearn\\metrics\\_classification.py:1565: UndefinedMetricWarning: Precision is ill-defined and being set to 0.0 due to no predicted samples. Use `zero_division` parameter to control this behavior.\n",
      "  _warn_prf(average, modifier, f\"{metric.capitalize()} is\", len(result))\n"
     ]
    },
    {
     "name": "stdout",
     "output_type": "stream",
     "text": [
      "1149\n",
      "1/1 [==============================] - 0s 20ms/step\n",
      "(512, 512, 2)\n"
     ]
    },
    {
     "name": "stderr",
     "output_type": "stream",
     "text": [
      "c:\\Users\\ADMIN\\anaconda3\\envs\\tf_gpu\\lib\\site-packages\\sklearn\\metrics\\_classification.py:1565: UndefinedMetricWarning: Precision is ill-defined and being set to 0.0 due to no predicted samples. Use `zero_division` parameter to control this behavior.\n",
      "  _warn_prf(average, modifier, f\"{metric.capitalize()} is\", len(result))\n",
      "c:\\Users\\ADMIN\\anaconda3\\envs\\tf_gpu\\lib\\site-packages\\sklearn\\metrics\\_classification.py:1565: UndefinedMetricWarning: Recall is ill-defined and being set to 0.0 due to no true samples. Use `zero_division` parameter to control this behavior.\n",
      "  _warn_prf(average, modifier, f\"{metric.capitalize()} is\", len(result))\n",
      "c:\\Users\\ADMIN\\anaconda3\\envs\\tf_gpu\\lib\\site-packages\\sklearn\\metrics\\_classification.py:1565: UndefinedMetricWarning: F-score is ill-defined and being set to 0.0 due to no true nor predicted samples. Use `zero_division` parameter to control this behavior.\n",
      "  _warn_prf(average, modifier, f\"{metric.capitalize()} is\", len(result))\n"
     ]
    },
    {
     "name": "stdout",
     "output_type": "stream",
     "text": [
      "1160\n",
      "1/1 [==============================] - 0s 20ms/step\n",
      "(512, 512, 2)\n"
     ]
    },
    {
     "name": "stderr",
     "output_type": "stream",
     "text": [
      "c:\\Users\\ADMIN\\anaconda3\\envs\\tf_gpu\\lib\\site-packages\\sklearn\\metrics\\_classification.py:1565: UndefinedMetricWarning: Precision is ill-defined and being set to 0.0 due to no predicted samples. Use `zero_division` parameter to control this behavior.\n",
      "  _warn_prf(average, modifier, f\"{metric.capitalize()} is\", len(result))\n"
     ]
    },
    {
     "name": "stdout",
     "output_type": "stream",
     "text": [
      "1161\n",
      "1/1 [==============================] - 0s 21ms/step\n",
      "(512, 512, 2)\n"
     ]
    },
    {
     "name": "stderr",
     "output_type": "stream",
     "text": [
      "c:\\Users\\ADMIN\\anaconda3\\envs\\tf_gpu\\lib\\site-packages\\sklearn\\metrics\\_classification.py:1565: UndefinedMetricWarning: Precision is ill-defined and being set to 0.0 due to no predicted samples. Use `zero_division` parameter to control this behavior.\n",
      "  _warn_prf(average, modifier, f\"{metric.capitalize()} is\", len(result))\n"
     ]
    },
    {
     "name": "stdout",
     "output_type": "stream",
     "text": [
      "1164\n",
      "1/1 [==============================] - 0s 21ms/step\n",
      "(512, 512, 2)\n"
     ]
    },
    {
     "name": "stderr",
     "output_type": "stream",
     "text": [
      "c:\\Users\\ADMIN\\anaconda3\\envs\\tf_gpu\\lib\\site-packages\\sklearn\\metrics\\_classification.py:1565: UndefinedMetricWarning: Precision is ill-defined and being set to 0.0 due to no predicted samples. Use `zero_division` parameter to control this behavior.\n",
      "  _warn_prf(average, modifier, f\"{metric.capitalize()} is\", len(result))\n"
     ]
    },
    {
     "name": "stdout",
     "output_type": "stream",
     "text": [
      "1165\n",
      "1/1 [==============================] - 0s 21ms/step\n",
      "(512, 512, 2)\n"
     ]
    },
    {
     "name": "stderr",
     "output_type": "stream",
     "text": [
      "c:\\Users\\ADMIN\\anaconda3\\envs\\tf_gpu\\lib\\site-packages\\sklearn\\metrics\\_classification.py:1565: UndefinedMetricWarning: Precision is ill-defined and being set to 0.0 due to no predicted samples. Use `zero_division` parameter to control this behavior.\n",
      "  _warn_prf(average, modifier, f\"{metric.capitalize()} is\", len(result))\n"
     ]
    },
    {
     "name": "stdout",
     "output_type": "stream",
     "text": [
      "1168\n",
      "1/1 [==============================] - 0s 22ms/step\n",
      "(512, 512, 2)\n"
     ]
    },
    {
     "name": "stderr",
     "output_type": "stream",
     "text": [
      "c:\\Users\\ADMIN\\anaconda3\\envs\\tf_gpu\\lib\\site-packages\\sklearn\\metrics\\_classification.py:1565: UndefinedMetricWarning: Precision is ill-defined and being set to 0.0 due to no predicted samples. Use `zero_division` parameter to control this behavior.\n",
      "  _warn_prf(average, modifier, f\"{metric.capitalize()} is\", len(result))\n"
     ]
    },
    {
     "name": "stdout",
     "output_type": "stream",
     "text": [
      "1170\n",
      "1/1 [==============================] - 0s 21ms/step\n",
      "(512, 512, 2)\n"
     ]
    },
    {
     "name": "stderr",
     "output_type": "stream",
     "text": [
      "c:\\Users\\ADMIN\\anaconda3\\envs\\tf_gpu\\lib\\site-packages\\sklearn\\metrics\\_classification.py:1565: UndefinedMetricWarning: Precision is ill-defined and being set to 0.0 due to no predicted samples. Use `zero_division` parameter to control this behavior.\n",
      "  _warn_prf(average, modifier, f\"{metric.capitalize()} is\", len(result))\n"
     ]
    },
    {
     "name": "stdout",
     "output_type": "stream",
     "text": [
      "1178\n",
      "1/1 [==============================] - 0s 21ms/step\n",
      "(512, 512, 2)\n"
     ]
    },
    {
     "name": "stderr",
     "output_type": "stream",
     "text": [
      "c:\\Users\\ADMIN\\anaconda3\\envs\\tf_gpu\\lib\\site-packages\\sklearn\\metrics\\_classification.py:1565: UndefinedMetricWarning: Precision is ill-defined and being set to 0.0 due to no predicted samples. Use `zero_division` parameter to control this behavior.\n",
      "  _warn_prf(average, modifier, f\"{metric.capitalize()} is\", len(result))\n"
     ]
    },
    {
     "name": "stdout",
     "output_type": "stream",
     "text": [
      "117\n",
      "1/1 [==============================] - 0s 20ms/step\n",
      "(512, 512, 2)\n"
     ]
    },
    {
     "name": "stderr",
     "output_type": "stream",
     "text": [
      "c:\\Users\\ADMIN\\anaconda3\\envs\\tf_gpu\\lib\\site-packages\\sklearn\\metrics\\_classification.py:1565: UndefinedMetricWarning: Precision is ill-defined and being set to 0.0 due to no predicted samples. Use `zero_division` parameter to control this behavior.\n",
      "  _warn_prf(average, modifier, f\"{metric.capitalize()} is\", len(result))\n"
     ]
    },
    {
     "name": "stdout",
     "output_type": "stream",
     "text": [
      "1180\n",
      "1/1 [==============================] - 0s 21ms/step\n",
      "(512, 512, 2)\n"
     ]
    },
    {
     "name": "stderr",
     "output_type": "stream",
     "text": [
      "c:\\Users\\ADMIN\\anaconda3\\envs\\tf_gpu\\lib\\site-packages\\sklearn\\metrics\\_classification.py:1565: UndefinedMetricWarning: Precision is ill-defined and being set to 0.0 due to no predicted samples. Use `zero_division` parameter to control this behavior.\n",
      "  _warn_prf(average, modifier, f\"{metric.capitalize()} is\", len(result))\n"
     ]
    },
    {
     "name": "stdout",
     "output_type": "stream",
     "text": [
      "1181\n",
      "1/1 [==============================] - 0s 20ms/step\n",
      "(512, 512, 2)\n"
     ]
    },
    {
     "name": "stderr",
     "output_type": "stream",
     "text": [
      "c:\\Users\\ADMIN\\anaconda3\\envs\\tf_gpu\\lib\\site-packages\\sklearn\\metrics\\_classification.py:1565: UndefinedMetricWarning: Precision is ill-defined and being set to 0.0 due to no predicted samples. Use `zero_division` parameter to control this behavior.\n",
      "  _warn_prf(average, modifier, f\"{metric.capitalize()} is\", len(result))\n"
     ]
    },
    {
     "name": "stdout",
     "output_type": "stream",
     "text": [
      "1187\n",
      "1/1 [==============================] - 0s 20ms/step\n",
      "(512, 512, 2)\n"
     ]
    },
    {
     "name": "stderr",
     "output_type": "stream",
     "text": [
      "c:\\Users\\ADMIN\\anaconda3\\envs\\tf_gpu\\lib\\site-packages\\sklearn\\metrics\\_classification.py:1565: UndefinedMetricWarning: Precision is ill-defined and being set to 0.0 due to no predicted samples. Use `zero_division` parameter to control this behavior.\n",
      "  _warn_prf(average, modifier, f\"{metric.capitalize()} is\", len(result))\n"
     ]
    },
    {
     "name": "stdout",
     "output_type": "stream",
     "text": [
      "1188\n",
      "1/1 [==============================] - 0s 20ms/step\n",
      "(512, 512, 2)\n"
     ]
    },
    {
     "name": "stderr",
     "output_type": "stream",
     "text": [
      "c:\\Users\\ADMIN\\anaconda3\\envs\\tf_gpu\\lib\\site-packages\\sklearn\\metrics\\_classification.py:1565: UndefinedMetricWarning: Precision is ill-defined and being set to 0.0 due to no predicted samples. Use `zero_division` parameter to control this behavior.\n",
      "  _warn_prf(average, modifier, f\"{metric.capitalize()} is\", len(result))\n"
     ]
    },
    {
     "name": "stdout",
     "output_type": "stream",
     "text": [
      "1198\n",
      "1/1 [==============================] - 0s 20ms/step\n",
      "(512, 512, 2)\n"
     ]
    },
    {
     "name": "stderr",
     "output_type": "stream",
     "text": [
      "c:\\Users\\ADMIN\\anaconda3\\envs\\tf_gpu\\lib\\site-packages\\sklearn\\metrics\\_classification.py:1565: UndefinedMetricWarning: Precision is ill-defined and being set to 0.0 due to no predicted samples. Use `zero_division` parameter to control this behavior.\n",
      "  _warn_prf(average, modifier, f\"{metric.capitalize()} is\", len(result))\n"
     ]
    },
    {
     "name": "stdout",
     "output_type": "stream",
     "text": [
      "119\n",
      "1/1 [==============================] - 0s 21ms/step\n",
      "(512, 512, 2)\n"
     ]
    },
    {
     "name": "stderr",
     "output_type": "stream",
     "text": [
      "c:\\Users\\ADMIN\\anaconda3\\envs\\tf_gpu\\lib\\site-packages\\sklearn\\metrics\\_classification.py:1565: UndefinedMetricWarning: Precision is ill-defined and being set to 0.0 due to no predicted samples. Use `zero_division` parameter to control this behavior.\n",
      "  _warn_prf(average, modifier, f\"{metric.capitalize()} is\", len(result))\n"
     ]
    },
    {
     "name": "stdout",
     "output_type": "stream",
     "text": [
      "120\n",
      "1/1 [==============================] - 0s 19ms/step\n",
      "(512, 512, 2)\n"
     ]
    },
    {
     "name": "stderr",
     "output_type": "stream",
     "text": [
      "c:\\Users\\ADMIN\\anaconda3\\envs\\tf_gpu\\lib\\site-packages\\sklearn\\metrics\\_classification.py:1565: UndefinedMetricWarning: Precision is ill-defined and being set to 0.0 due to no predicted samples. Use `zero_division` parameter to control this behavior.\n",
      "  _warn_prf(average, modifier, f\"{metric.capitalize()} is\", len(result))\n"
     ]
    },
    {
     "name": "stdout",
     "output_type": "stream",
     "text": [
      "1219\n",
      "1/1 [==============================] - 0s 30ms/step\n",
      "(512, 512, 2)\n"
     ]
    },
    {
     "name": "stderr",
     "output_type": "stream",
     "text": [
      "c:\\Users\\ADMIN\\anaconda3\\envs\\tf_gpu\\lib\\site-packages\\sklearn\\metrics\\_classification.py:1565: UndefinedMetricWarning: Precision is ill-defined and being set to 0.0 due to no predicted samples. Use `zero_division` parameter to control this behavior.\n",
      "  _warn_prf(average, modifier, f\"{metric.capitalize()} is\", len(result))\n"
     ]
    },
    {
     "name": "stdout",
     "output_type": "stream",
     "text": [
      "121\n",
      "1/1 [==============================] - 0s 20ms/step\n",
      "(512, 512, 2)\n"
     ]
    },
    {
     "name": "stderr",
     "output_type": "stream",
     "text": [
      "c:\\Users\\ADMIN\\anaconda3\\envs\\tf_gpu\\lib\\site-packages\\sklearn\\metrics\\_classification.py:1565: UndefinedMetricWarning: Precision is ill-defined and being set to 0.0 due to no predicted samples. Use `zero_division` parameter to control this behavior.\n",
      "  _warn_prf(average, modifier, f\"{metric.capitalize()} is\", len(result))\n"
     ]
    },
    {
     "name": "stdout",
     "output_type": "stream",
     "text": [
      "1222\n",
      "1/1 [==============================] - 0s 20ms/step\n",
      "(512, 512, 2)\n"
     ]
    },
    {
     "name": "stderr",
     "output_type": "stream",
     "text": [
      "c:\\Users\\ADMIN\\anaconda3\\envs\\tf_gpu\\lib\\site-packages\\sklearn\\metrics\\_classification.py:1565: UndefinedMetricWarning: Precision is ill-defined and being set to 0.0 due to no predicted samples. Use `zero_division` parameter to control this behavior.\n",
      "  _warn_prf(average, modifier, f\"{metric.capitalize()} is\", len(result))\n"
     ]
    },
    {
     "name": "stdout",
     "output_type": "stream",
     "text": [
      "1232\n",
      "1/1 [==============================] - 0s 30ms/step\n",
      "(512, 512, 2)\n"
     ]
    },
    {
     "name": "stderr",
     "output_type": "stream",
     "text": [
      "c:\\Users\\ADMIN\\anaconda3\\envs\\tf_gpu\\lib\\site-packages\\sklearn\\metrics\\_classification.py:1565: UndefinedMetricWarning: Precision is ill-defined and being set to 0.0 due to no predicted samples. Use `zero_division` parameter to control this behavior.\n",
      "  _warn_prf(average, modifier, f\"{metric.capitalize()} is\", len(result))\n",
      "c:\\Users\\ADMIN\\anaconda3\\envs\\tf_gpu\\lib\\site-packages\\sklearn\\metrics\\_classification.py:1565: UndefinedMetricWarning: Recall is ill-defined and being set to 0.0 due to no true samples. Use `zero_division` parameter to control this behavior.\n",
      "  _warn_prf(average, modifier, f\"{metric.capitalize()} is\", len(result))\n",
      "c:\\Users\\ADMIN\\anaconda3\\envs\\tf_gpu\\lib\\site-packages\\sklearn\\metrics\\_classification.py:1565: UndefinedMetricWarning: F-score is ill-defined and being set to 0.0 due to no true nor predicted samples. Use `zero_division` parameter to control this behavior.\n",
      "  _warn_prf(average, modifier, f\"{metric.capitalize()} is\", len(result))\n"
     ]
    },
    {
     "name": "stdout",
     "output_type": "stream",
     "text": [
      "1237\n",
      "1/1 [==============================] - 0s 20ms/step\n",
      "(512, 512, 2)\n"
     ]
    },
    {
     "name": "stderr",
     "output_type": "stream",
     "text": [
      "c:\\Users\\ADMIN\\anaconda3\\envs\\tf_gpu\\lib\\site-packages\\sklearn\\metrics\\_classification.py:1565: UndefinedMetricWarning: Precision is ill-defined and being set to 0.0 due to no predicted samples. Use `zero_division` parameter to control this behavior.\n",
      "  _warn_prf(average, modifier, f\"{metric.capitalize()} is\", len(result))\n"
     ]
    },
    {
     "name": "stdout",
     "output_type": "stream",
     "text": [
      "1239\n",
      "1/1 [==============================] - 0s 20ms/step\n",
      "(512, 512, 2)\n"
     ]
    },
    {
     "name": "stderr",
     "output_type": "stream",
     "text": [
      "c:\\Users\\ADMIN\\anaconda3\\envs\\tf_gpu\\lib\\site-packages\\sklearn\\metrics\\_classification.py:1565: UndefinedMetricWarning: Precision is ill-defined and being set to 0.0 due to no predicted samples. Use `zero_division` parameter to control this behavior.\n",
      "  _warn_prf(average, modifier, f\"{metric.capitalize()} is\", len(result))\n"
     ]
    },
    {
     "name": "stdout",
     "output_type": "stream",
     "text": [
      "1252\n",
      "1/1 [==============================] - 0s 20ms/step\n",
      "(512, 512, 2)\n"
     ]
    },
    {
     "name": "stderr",
     "output_type": "stream",
     "text": [
      "c:\\Users\\ADMIN\\anaconda3\\envs\\tf_gpu\\lib\\site-packages\\sklearn\\metrics\\_classification.py:1565: UndefinedMetricWarning: Precision is ill-defined and being set to 0.0 due to no predicted samples. Use `zero_division` parameter to control this behavior.\n",
      "  _warn_prf(average, modifier, f\"{metric.capitalize()} is\", len(result))\n"
     ]
    },
    {
     "name": "stdout",
     "output_type": "stream",
     "text": [
      "125\n",
      "1/1 [==============================] - 0s 20ms/step\n",
      "(512, 512, 2)\n"
     ]
    },
    {
     "name": "stderr",
     "output_type": "stream",
     "text": [
      "c:\\Users\\ADMIN\\anaconda3\\envs\\tf_gpu\\lib\\site-packages\\sklearn\\metrics\\_classification.py:1565: UndefinedMetricWarning: Precision is ill-defined and being set to 0.0 due to no predicted samples. Use `zero_division` parameter to control this behavior.\n",
      "  _warn_prf(average, modifier, f\"{metric.capitalize()} is\", len(result))\n"
     ]
    },
    {
     "name": "stdout",
     "output_type": "stream",
     "text": [
      "1262\n",
      "1/1 [==============================] - 0s 20ms/step\n",
      "(512, 512, 2)\n"
     ]
    },
    {
     "name": "stderr",
     "output_type": "stream",
     "text": [
      "c:\\Users\\ADMIN\\anaconda3\\envs\\tf_gpu\\lib\\site-packages\\sklearn\\metrics\\_classification.py:1565: UndefinedMetricWarning: Precision is ill-defined and being set to 0.0 due to no predicted samples. Use `zero_division` parameter to control this behavior.\n",
      "  _warn_prf(average, modifier, f\"{metric.capitalize()} is\", len(result))\n"
     ]
    },
    {
     "name": "stdout",
     "output_type": "stream",
     "text": [
      "129\n",
      "1/1 [==============================] - 0s 20ms/step\n",
      "(512, 512, 2)\n"
     ]
    },
    {
     "name": "stderr",
     "output_type": "stream",
     "text": [
      "c:\\Users\\ADMIN\\anaconda3\\envs\\tf_gpu\\lib\\site-packages\\sklearn\\metrics\\_classification.py:1565: UndefinedMetricWarning: Precision is ill-defined and being set to 0.0 due to no predicted samples. Use `zero_division` parameter to control this behavior.\n",
      "  _warn_prf(average, modifier, f\"{metric.capitalize()} is\", len(result))\n"
     ]
    },
    {
     "name": "stdout",
     "output_type": "stream",
     "text": [
      "133\n",
      "1/1 [==============================] - 0s 20ms/step\n",
      "(512, 512, 2)\n"
     ]
    },
    {
     "name": "stderr",
     "output_type": "stream",
     "text": [
      "c:\\Users\\ADMIN\\anaconda3\\envs\\tf_gpu\\lib\\site-packages\\sklearn\\metrics\\_classification.py:1565: UndefinedMetricWarning: Precision is ill-defined and being set to 0.0 due to no predicted samples. Use `zero_division` parameter to control this behavior.\n",
      "  _warn_prf(average, modifier, f\"{metric.capitalize()} is\", len(result))\n"
     ]
    },
    {
     "name": "stdout",
     "output_type": "stream",
     "text": [
      "139\n",
      "1/1 [==============================] - 0s 20ms/step\n",
      "(512, 512, 2)\n"
     ]
    },
    {
     "name": "stderr",
     "output_type": "stream",
     "text": [
      "c:\\Users\\ADMIN\\anaconda3\\envs\\tf_gpu\\lib\\site-packages\\sklearn\\metrics\\_classification.py:1565: UndefinedMetricWarning: Precision is ill-defined and being set to 0.0 due to no predicted samples. Use `zero_division` parameter to control this behavior.\n",
      "  _warn_prf(average, modifier, f\"{metric.capitalize()} is\", len(result))\n"
     ]
    },
    {
     "name": "stdout",
     "output_type": "stream",
     "text": [
      "143\n",
      "1/1 [==============================] - 0s 20ms/step\n",
      "(512, 512, 2)\n"
     ]
    },
    {
     "name": "stderr",
     "output_type": "stream",
     "text": [
      "c:\\Users\\ADMIN\\anaconda3\\envs\\tf_gpu\\lib\\site-packages\\sklearn\\metrics\\_classification.py:1565: UndefinedMetricWarning: Precision is ill-defined and being set to 0.0 due to no predicted samples. Use `zero_division` parameter to control this behavior.\n",
      "  _warn_prf(average, modifier, f\"{metric.capitalize()} is\", len(result))\n"
     ]
    },
    {
     "name": "stdout",
     "output_type": "stream",
     "text": [
      "151\n",
      "1/1 [==============================] - 0s 26ms/step\n",
      "(512, 512, 2)\n"
     ]
    },
    {
     "name": "stderr",
     "output_type": "stream",
     "text": [
      "c:\\Users\\ADMIN\\anaconda3\\envs\\tf_gpu\\lib\\site-packages\\sklearn\\metrics\\_classification.py:1565: UndefinedMetricWarning: Precision is ill-defined and being set to 0.0 due to no predicted samples. Use `zero_division` parameter to control this behavior.\n",
      "  _warn_prf(average, modifier, f\"{metric.capitalize()} is\", len(result))\n"
     ]
    },
    {
     "name": "stdout",
     "output_type": "stream",
     "text": [
      "154\n",
      "1/1 [==============================] - 0s 20ms/step\n",
      "(512, 512, 2)\n"
     ]
    },
    {
     "name": "stderr",
     "output_type": "stream",
     "text": [
      "c:\\Users\\ADMIN\\anaconda3\\envs\\tf_gpu\\lib\\site-packages\\sklearn\\metrics\\_classification.py:1565: UndefinedMetricWarning: Precision is ill-defined and being set to 0.0 due to no predicted samples. Use `zero_division` parameter to control this behavior.\n",
      "  _warn_prf(average, modifier, f\"{metric.capitalize()} is\", len(result))\n"
     ]
    },
    {
     "name": "stdout",
     "output_type": "stream",
     "text": [
      "15\n",
      "1/1 [==============================] - 0s 20ms/step\n",
      "(512, 512, 2)\n"
     ]
    },
    {
     "name": "stderr",
     "output_type": "stream",
     "text": [
      "c:\\Users\\ADMIN\\anaconda3\\envs\\tf_gpu\\lib\\site-packages\\sklearn\\metrics\\_classification.py:1565: UndefinedMetricWarning: Precision is ill-defined and being set to 0.0 due to no predicted samples. Use `zero_division` parameter to control this behavior.\n",
      "  _warn_prf(average, modifier, f\"{metric.capitalize()} is\", len(result))\n"
     ]
    },
    {
     "name": "stdout",
     "output_type": "stream",
     "text": [
      "164\n",
      "1/1 [==============================] - 0s 20ms/step\n",
      "(512, 512, 2)\n"
     ]
    },
    {
     "name": "stderr",
     "output_type": "stream",
     "text": [
      "c:\\Users\\ADMIN\\anaconda3\\envs\\tf_gpu\\lib\\site-packages\\sklearn\\metrics\\_classification.py:1565: UndefinedMetricWarning: Precision is ill-defined and being set to 0.0 due to no predicted samples. Use `zero_division` parameter to control this behavior.\n",
      "  _warn_prf(average, modifier, f\"{metric.capitalize()} is\", len(result))\n"
     ]
    },
    {
     "name": "stdout",
     "output_type": "stream",
     "text": [
      "180\n",
      "1/1 [==============================] - 0s 30ms/step\n",
      "(512, 512, 2)\n"
     ]
    },
    {
     "name": "stderr",
     "output_type": "stream",
     "text": [
      "c:\\Users\\ADMIN\\anaconda3\\envs\\tf_gpu\\lib\\site-packages\\sklearn\\metrics\\_classification.py:1565: UndefinedMetricWarning: Precision is ill-defined and being set to 0.0 due to no predicted samples. Use `zero_division` parameter to control this behavior.\n",
      "  _warn_prf(average, modifier, f\"{metric.capitalize()} is\", len(result))\n"
     ]
    },
    {
     "name": "stdout",
     "output_type": "stream",
     "text": [
      "181\n",
      "1/1 [==============================] - 0s 28ms/step\n",
      "(512, 512, 2)\n"
     ]
    },
    {
     "name": "stderr",
     "output_type": "stream",
     "text": [
      "c:\\Users\\ADMIN\\anaconda3\\envs\\tf_gpu\\lib\\site-packages\\sklearn\\metrics\\_classification.py:1565: UndefinedMetricWarning: Precision is ill-defined and being set to 0.0 due to no predicted samples. Use `zero_division` parameter to control this behavior.\n",
      "  _warn_prf(average, modifier, f\"{metric.capitalize()} is\", len(result))\n"
     ]
    },
    {
     "name": "stdout",
     "output_type": "stream",
     "text": [
      "184\n",
      "1/1 [==============================] - 0s 20ms/step\n",
      "(512, 512, 2)\n"
     ]
    },
    {
     "name": "stderr",
     "output_type": "stream",
     "text": [
      "c:\\Users\\ADMIN\\anaconda3\\envs\\tf_gpu\\lib\\site-packages\\sklearn\\metrics\\_classification.py:1565: UndefinedMetricWarning: Precision is ill-defined and being set to 0.0 due to no predicted samples. Use `zero_division` parameter to control this behavior.\n",
      "  _warn_prf(average, modifier, f\"{metric.capitalize()} is\", len(result))\n"
     ]
    },
    {
     "name": "stdout",
     "output_type": "stream",
     "text": [
      "187\n",
      "1/1 [==============================] - 0s 20ms/step\n",
      "(512, 512, 2)\n"
     ]
    },
    {
     "name": "stderr",
     "output_type": "stream",
     "text": [
      "c:\\Users\\ADMIN\\anaconda3\\envs\\tf_gpu\\lib\\site-packages\\sklearn\\metrics\\_classification.py:1565: UndefinedMetricWarning: Precision is ill-defined and being set to 0.0 due to no predicted samples. Use `zero_division` parameter to control this behavior.\n",
      "  _warn_prf(average, modifier, f\"{metric.capitalize()} is\", len(result))\n"
     ]
    },
    {
     "name": "stdout",
     "output_type": "stream",
     "text": [
      "188\n",
      "1/1 [==============================] - 0s 20ms/step\n",
      "(512, 512, 2)\n"
     ]
    },
    {
     "name": "stderr",
     "output_type": "stream",
     "text": [
      "c:\\Users\\ADMIN\\anaconda3\\envs\\tf_gpu\\lib\\site-packages\\sklearn\\metrics\\_classification.py:1565: UndefinedMetricWarning: Precision is ill-defined and being set to 0.0 due to no predicted samples. Use `zero_division` parameter to control this behavior.\n",
      "  _warn_prf(average, modifier, f\"{metric.capitalize()} is\", len(result))\n"
     ]
    },
    {
     "name": "stdout",
     "output_type": "stream",
     "text": [
      "189\n",
      "1/1 [==============================] - 0s 20ms/step\n",
      "(512, 512, 2)\n"
     ]
    },
    {
     "name": "stderr",
     "output_type": "stream",
     "text": [
      "c:\\Users\\ADMIN\\anaconda3\\envs\\tf_gpu\\lib\\site-packages\\sklearn\\metrics\\_classification.py:1565: UndefinedMetricWarning: Precision is ill-defined and being set to 0.0 due to no predicted samples. Use `zero_division` parameter to control this behavior.\n",
      "  _warn_prf(average, modifier, f\"{metric.capitalize()} is\", len(result))\n"
     ]
    },
    {
     "name": "stdout",
     "output_type": "stream",
     "text": [
      "193\n",
      "1/1 [==============================] - 0s 22ms/step\n",
      "(512, 512, 2)\n"
     ]
    },
    {
     "name": "stderr",
     "output_type": "stream",
     "text": [
      "c:\\Users\\ADMIN\\anaconda3\\envs\\tf_gpu\\lib\\site-packages\\sklearn\\metrics\\_classification.py:1565: UndefinedMetricWarning: Precision is ill-defined and being set to 0.0 due to no predicted samples. Use `zero_division` parameter to control this behavior.\n",
      "  _warn_prf(average, modifier, f\"{metric.capitalize()} is\", len(result))\n"
     ]
    },
    {
     "name": "stdout",
     "output_type": "stream",
     "text": [
      "195\n",
      "1/1 [==============================] - 0s 18ms/step\n",
      "(512, 512, 2)\n"
     ]
    },
    {
     "name": "stderr",
     "output_type": "stream",
     "text": [
      "c:\\Users\\ADMIN\\anaconda3\\envs\\tf_gpu\\lib\\site-packages\\sklearn\\metrics\\_classification.py:1565: UndefinedMetricWarning: Precision is ill-defined and being set to 0.0 due to no predicted samples. Use `zero_division` parameter to control this behavior.\n",
      "  _warn_prf(average, modifier, f\"{metric.capitalize()} is\", len(result))\n"
     ]
    },
    {
     "name": "stdout",
     "output_type": "stream",
     "text": [
      "197\n",
      "1/1 [==============================] - 0s 20ms/step\n",
      "(512, 512, 2)\n"
     ]
    },
    {
     "name": "stderr",
     "output_type": "stream",
     "text": [
      "c:\\Users\\ADMIN\\anaconda3\\envs\\tf_gpu\\lib\\site-packages\\sklearn\\metrics\\_classification.py:1565: UndefinedMetricWarning: Precision is ill-defined and being set to 0.0 due to no predicted samples. Use `zero_division` parameter to control this behavior.\n",
      "  _warn_prf(average, modifier, f\"{metric.capitalize()} is\", len(result))\n"
     ]
    },
    {
     "name": "stdout",
     "output_type": "stream",
     "text": [
      "201\n",
      "1/1 [==============================] - 0s 20ms/step\n",
      "(512, 512, 2)\n"
     ]
    },
    {
     "name": "stderr",
     "output_type": "stream",
     "text": [
      "c:\\Users\\ADMIN\\anaconda3\\envs\\tf_gpu\\lib\\site-packages\\sklearn\\metrics\\_classification.py:1565: UndefinedMetricWarning: Precision is ill-defined and being set to 0.0 due to no predicted samples. Use `zero_division` parameter to control this behavior.\n",
      "  _warn_prf(average, modifier, f\"{metric.capitalize()} is\", len(result))\n"
     ]
    },
    {
     "name": "stdout",
     "output_type": "stream",
     "text": [
      "203\n",
      "1/1 [==============================] - 0s 20ms/step\n",
      "(512, 512, 2)\n"
     ]
    },
    {
     "name": "stderr",
     "output_type": "stream",
     "text": [
      "c:\\Users\\ADMIN\\anaconda3\\envs\\tf_gpu\\lib\\site-packages\\sklearn\\metrics\\_classification.py:1565: UndefinedMetricWarning: Precision is ill-defined and being set to 0.0 due to no predicted samples. Use `zero_division` parameter to control this behavior.\n",
      "  _warn_prf(average, modifier, f\"{metric.capitalize()} is\", len(result))\n"
     ]
    },
    {
     "name": "stdout",
     "output_type": "stream",
     "text": [
      "204\n",
      "1/1 [==============================] - 0s 20ms/step\n",
      "(512, 512, 2)\n"
     ]
    },
    {
     "name": "stderr",
     "output_type": "stream",
     "text": [
      "c:\\Users\\ADMIN\\anaconda3\\envs\\tf_gpu\\lib\\site-packages\\sklearn\\metrics\\_classification.py:1565: UndefinedMetricWarning: Precision is ill-defined and being set to 0.0 due to no predicted samples. Use `zero_division` parameter to control this behavior.\n",
      "  _warn_prf(average, modifier, f\"{metric.capitalize()} is\", len(result))\n"
     ]
    },
    {
     "name": "stdout",
     "output_type": "stream",
     "text": [
      "205\n",
      "1/1 [==============================] - 0s 20ms/step\n",
      "(512, 512, 2)\n"
     ]
    },
    {
     "name": "stderr",
     "output_type": "stream",
     "text": [
      "c:\\Users\\ADMIN\\anaconda3\\envs\\tf_gpu\\lib\\site-packages\\sklearn\\metrics\\_classification.py:1565: UndefinedMetricWarning: Precision is ill-defined and being set to 0.0 due to no predicted samples. Use `zero_division` parameter to control this behavior.\n",
      "  _warn_prf(average, modifier, f\"{metric.capitalize()} is\", len(result))\n"
     ]
    },
    {
     "name": "stdout",
     "output_type": "stream",
     "text": [
      "20\n",
      "1/1 [==============================] - 0s 20ms/step\n",
      "(512, 512, 2)\n"
     ]
    },
    {
     "name": "stderr",
     "output_type": "stream",
     "text": [
      "c:\\Users\\ADMIN\\anaconda3\\envs\\tf_gpu\\lib\\site-packages\\sklearn\\metrics\\_classification.py:1565: UndefinedMetricWarning: Precision is ill-defined and being set to 0.0 due to no predicted samples. Use `zero_division` parameter to control this behavior.\n",
      "  _warn_prf(average, modifier, f\"{metric.capitalize()} is\", len(result))\n"
     ]
    },
    {
     "name": "stdout",
     "output_type": "stream",
     "text": [
      "211\n",
      "1/1 [==============================] - 0s 20ms/step\n",
      "(512, 512, 2)\n"
     ]
    },
    {
     "name": "stderr",
     "output_type": "stream",
     "text": [
      "c:\\Users\\ADMIN\\anaconda3\\envs\\tf_gpu\\lib\\site-packages\\sklearn\\metrics\\_classification.py:1565: UndefinedMetricWarning: Precision is ill-defined and being set to 0.0 due to no predicted samples. Use `zero_division` parameter to control this behavior.\n",
      "  _warn_prf(average, modifier, f\"{metric.capitalize()} is\", len(result))\n"
     ]
    },
    {
     "name": "stdout",
     "output_type": "stream",
     "text": [
      "214\n",
      "1/1 [==============================] - 0s 20ms/step\n",
      "(512, 512, 2)\n"
     ]
    },
    {
     "name": "stderr",
     "output_type": "stream",
     "text": [
      "c:\\Users\\ADMIN\\anaconda3\\envs\\tf_gpu\\lib\\site-packages\\sklearn\\metrics\\_classification.py:1565: UndefinedMetricWarning: Precision is ill-defined and being set to 0.0 due to no predicted samples. Use `zero_division` parameter to control this behavior.\n",
      "  _warn_prf(average, modifier, f\"{metric.capitalize()} is\", len(result))\n"
     ]
    },
    {
     "name": "stdout",
     "output_type": "stream",
     "text": [
      "216\n",
      "1/1 [==============================] - 0s 20ms/step\n",
      "(512, 512, 2)\n"
     ]
    },
    {
     "name": "stderr",
     "output_type": "stream",
     "text": [
      "c:\\Users\\ADMIN\\anaconda3\\envs\\tf_gpu\\lib\\site-packages\\sklearn\\metrics\\_classification.py:1565: UndefinedMetricWarning: Precision is ill-defined and being set to 0.0 due to no predicted samples. Use `zero_division` parameter to control this behavior.\n",
      "  _warn_prf(average, modifier, f\"{metric.capitalize()} is\", len(result))\n"
     ]
    },
    {
     "name": "stdout",
     "output_type": "stream",
     "text": [
      "217\n",
      "1/1 [==============================] - 0s 31ms/step\n",
      "(512, 512, 2)\n"
     ]
    },
    {
     "name": "stderr",
     "output_type": "stream",
     "text": [
      "c:\\Users\\ADMIN\\anaconda3\\envs\\tf_gpu\\lib\\site-packages\\sklearn\\metrics\\_classification.py:1565: UndefinedMetricWarning: Precision is ill-defined and being set to 0.0 due to no predicted samples. Use `zero_division` parameter to control this behavior.\n",
      "  _warn_prf(average, modifier, f\"{metric.capitalize()} is\", len(result))\n"
     ]
    },
    {
     "name": "stdout",
     "output_type": "stream",
     "text": [
      "21\n",
      "1/1 [==============================] - 0s 20ms/step\n",
      "(512, 512, 2)\n"
     ]
    },
    {
     "name": "stderr",
     "output_type": "stream",
     "text": [
      "c:\\Users\\ADMIN\\anaconda3\\envs\\tf_gpu\\lib\\site-packages\\sklearn\\metrics\\_classification.py:1565: UndefinedMetricWarning: Precision is ill-defined and being set to 0.0 due to no predicted samples. Use `zero_division` parameter to control this behavior.\n",
      "  _warn_prf(average, modifier, f\"{metric.capitalize()} is\", len(result))\n"
     ]
    },
    {
     "name": "stdout",
     "output_type": "stream",
     "text": [
      "221\n",
      "1/1 [==============================] - 0s 20ms/step\n",
      "(512, 512, 2)\n"
     ]
    },
    {
     "name": "stderr",
     "output_type": "stream",
     "text": [
      "c:\\Users\\ADMIN\\anaconda3\\envs\\tf_gpu\\lib\\site-packages\\sklearn\\metrics\\_classification.py:1565: UndefinedMetricWarning: Precision is ill-defined and being set to 0.0 due to no predicted samples. Use `zero_division` parameter to control this behavior.\n",
      "  _warn_prf(average, modifier, f\"{metric.capitalize()} is\", len(result))\n"
     ]
    },
    {
     "name": "stdout",
     "output_type": "stream",
     "text": [
      "222\n",
      "1/1 [==============================] - 0s 20ms/step\n",
      "(512, 512, 2)\n"
     ]
    },
    {
     "name": "stderr",
     "output_type": "stream",
     "text": [
      "c:\\Users\\ADMIN\\anaconda3\\envs\\tf_gpu\\lib\\site-packages\\sklearn\\metrics\\_classification.py:1565: UndefinedMetricWarning: Precision is ill-defined and being set to 0.0 due to no predicted samples. Use `zero_division` parameter to control this behavior.\n",
      "  _warn_prf(average, modifier, f\"{metric.capitalize()} is\", len(result))\n"
     ]
    },
    {
     "name": "stdout",
     "output_type": "stream",
     "text": [
      "236\n",
      "1/1 [==============================] - 0s 20ms/step\n",
      "(512, 512, 2)\n"
     ]
    },
    {
     "name": "stderr",
     "output_type": "stream",
     "text": [
      "c:\\Users\\ADMIN\\anaconda3\\envs\\tf_gpu\\lib\\site-packages\\sklearn\\metrics\\_classification.py:1565: UndefinedMetricWarning: Precision is ill-defined and being set to 0.0 due to no predicted samples. Use `zero_division` parameter to control this behavior.\n",
      "  _warn_prf(average, modifier, f\"{metric.capitalize()} is\", len(result))\n"
     ]
    },
    {
     "name": "stdout",
     "output_type": "stream",
     "text": [
      "242\n",
      "1/1 [==============================] - 0s 20ms/step\n",
      "(512, 512, 2)\n"
     ]
    },
    {
     "name": "stderr",
     "output_type": "stream",
     "text": [
      "c:\\Users\\ADMIN\\anaconda3\\envs\\tf_gpu\\lib\\site-packages\\sklearn\\metrics\\_classification.py:1565: UndefinedMetricWarning: Precision is ill-defined and being set to 0.0 due to no predicted samples. Use `zero_division` parameter to control this behavior.\n",
      "  _warn_prf(average, modifier, f\"{metric.capitalize()} is\", len(result))\n"
     ]
    },
    {
     "name": "stdout",
     "output_type": "stream",
     "text": [
      "243\n",
      "1/1 [==============================] - 0s 22ms/step\n",
      "(512, 512, 2)\n"
     ]
    },
    {
     "name": "stderr",
     "output_type": "stream",
     "text": [
      "c:\\Users\\ADMIN\\anaconda3\\envs\\tf_gpu\\lib\\site-packages\\sklearn\\metrics\\_classification.py:1565: UndefinedMetricWarning: Precision is ill-defined and being set to 0.0 due to no predicted samples. Use `zero_division` parameter to control this behavior.\n",
      "  _warn_prf(average, modifier, f\"{metric.capitalize()} is\", len(result))\n"
     ]
    },
    {
     "name": "stdout",
     "output_type": "stream",
     "text": [
      "248\n",
      "1/1 [==============================] - 0s 20ms/step\n",
      "(512, 512, 2)\n"
     ]
    },
    {
     "name": "stderr",
     "output_type": "stream",
     "text": [
      "c:\\Users\\ADMIN\\anaconda3\\envs\\tf_gpu\\lib\\site-packages\\sklearn\\metrics\\_classification.py:1565: UndefinedMetricWarning: Precision is ill-defined and being set to 0.0 due to no predicted samples. Use `zero_division` parameter to control this behavior.\n",
      "  _warn_prf(average, modifier, f\"{metric.capitalize()} is\", len(result))\n"
     ]
    },
    {
     "name": "stdout",
     "output_type": "stream",
     "text": [
      "251\n",
      "1/1 [==============================] - 0s 20ms/step\n",
      "(512, 512, 2)\n"
     ]
    },
    {
     "name": "stderr",
     "output_type": "stream",
     "text": [
      "c:\\Users\\ADMIN\\anaconda3\\envs\\tf_gpu\\lib\\site-packages\\sklearn\\metrics\\_classification.py:1565: UndefinedMetricWarning: Precision is ill-defined and being set to 0.0 due to no predicted samples. Use `zero_division` parameter to control this behavior.\n",
      "  _warn_prf(average, modifier, f\"{metric.capitalize()} is\", len(result))\n"
     ]
    },
    {
     "name": "stdout",
     "output_type": "stream",
     "text": [
      "254\n",
      "1/1 [==============================] - 0s 18ms/step\n",
      "(512, 512, 2)\n"
     ]
    },
    {
     "name": "stderr",
     "output_type": "stream",
     "text": [
      "c:\\Users\\ADMIN\\anaconda3\\envs\\tf_gpu\\lib\\site-packages\\sklearn\\metrics\\_classification.py:1565: UndefinedMetricWarning: Precision is ill-defined and being set to 0.0 due to no predicted samples. Use `zero_division` parameter to control this behavior.\n",
      "  _warn_prf(average, modifier, f\"{metric.capitalize()} is\", len(result))\n"
     ]
    },
    {
     "name": "stdout",
     "output_type": "stream",
     "text": [
      "259\n",
      "1/1 [==============================] - 0s 20ms/step\n",
      "(512, 512, 2)\n"
     ]
    },
    {
     "name": "stderr",
     "output_type": "stream",
     "text": [
      "c:\\Users\\ADMIN\\anaconda3\\envs\\tf_gpu\\lib\\site-packages\\sklearn\\metrics\\_classification.py:1565: UndefinedMetricWarning: Precision is ill-defined and being set to 0.0 due to no predicted samples. Use `zero_division` parameter to control this behavior.\n",
      "  _warn_prf(average, modifier, f\"{metric.capitalize()} is\", len(result))\n"
     ]
    },
    {
     "name": "stdout",
     "output_type": "stream",
     "text": [
      "263\n",
      "1/1 [==============================] - 0s 20ms/step\n",
      "(512, 512, 2)\n"
     ]
    },
    {
     "name": "stderr",
     "output_type": "stream",
     "text": [
      "c:\\Users\\ADMIN\\anaconda3\\envs\\tf_gpu\\lib\\site-packages\\sklearn\\metrics\\_classification.py:1565: UndefinedMetricWarning: Precision is ill-defined and being set to 0.0 due to no predicted samples. Use `zero_division` parameter to control this behavior.\n",
      "  _warn_prf(average, modifier, f\"{metric.capitalize()} is\", len(result))\n"
     ]
    },
    {
     "name": "stdout",
     "output_type": "stream",
     "text": [
      "271\n",
      "1/1 [==============================] - 0s 20ms/step\n",
      "(512, 512, 2)\n"
     ]
    },
    {
     "name": "stderr",
     "output_type": "stream",
     "text": [
      "c:\\Users\\ADMIN\\anaconda3\\envs\\tf_gpu\\lib\\site-packages\\sklearn\\metrics\\_classification.py:1565: UndefinedMetricWarning: Precision is ill-defined and being set to 0.0 due to no predicted samples. Use `zero_division` parameter to control this behavior.\n",
      "  _warn_prf(average, modifier, f\"{metric.capitalize()} is\", len(result))\n"
     ]
    },
    {
     "name": "stdout",
     "output_type": "stream",
     "text": [
      "273\n",
      "1/1 [==============================] - 0s 20ms/step\n",
      "(512, 512, 2)\n"
     ]
    },
    {
     "name": "stderr",
     "output_type": "stream",
     "text": [
      "c:\\Users\\ADMIN\\anaconda3\\envs\\tf_gpu\\lib\\site-packages\\sklearn\\metrics\\_classification.py:1565: UndefinedMetricWarning: Precision is ill-defined and being set to 0.0 due to no predicted samples. Use `zero_division` parameter to control this behavior.\n",
      "  _warn_prf(average, modifier, f\"{metric.capitalize()} is\", len(result))\n"
     ]
    },
    {
     "name": "stdout",
     "output_type": "stream",
     "text": [
      "274\n",
      "1/1 [==============================] - 0s 20ms/step\n",
      "(512, 512, 2)\n"
     ]
    },
    {
     "name": "stderr",
     "output_type": "stream",
     "text": [
      "c:\\Users\\ADMIN\\anaconda3\\envs\\tf_gpu\\lib\\site-packages\\sklearn\\metrics\\_classification.py:1565: UndefinedMetricWarning: Precision is ill-defined and being set to 0.0 due to no predicted samples. Use `zero_division` parameter to control this behavior.\n",
      "  _warn_prf(average, modifier, f\"{metric.capitalize()} is\", len(result))\n"
     ]
    },
    {
     "name": "stdout",
     "output_type": "stream",
     "text": [
      "278\n",
      "1/1 [==============================] - 0s 20ms/step\n",
      "(512, 512, 2)\n"
     ]
    },
    {
     "name": "stderr",
     "output_type": "stream",
     "text": [
      "c:\\Users\\ADMIN\\anaconda3\\envs\\tf_gpu\\lib\\site-packages\\sklearn\\metrics\\_classification.py:1565: UndefinedMetricWarning: Precision is ill-defined and being set to 0.0 due to no predicted samples. Use `zero_division` parameter to control this behavior.\n",
      "  _warn_prf(average, modifier, f\"{metric.capitalize()} is\", len(result))\n"
     ]
    },
    {
     "name": "stdout",
     "output_type": "stream",
     "text": [
      "279\n",
      "1/1 [==============================] - 0s 20ms/step\n",
      "(512, 512, 2)\n"
     ]
    },
    {
     "name": "stderr",
     "output_type": "stream",
     "text": [
      "c:\\Users\\ADMIN\\anaconda3\\envs\\tf_gpu\\lib\\site-packages\\sklearn\\metrics\\_classification.py:1565: UndefinedMetricWarning: Precision is ill-defined and being set to 0.0 due to no predicted samples. Use `zero_division` parameter to control this behavior.\n",
      "  _warn_prf(average, modifier, f\"{metric.capitalize()} is\", len(result))\n"
     ]
    },
    {
     "name": "stdout",
     "output_type": "stream",
     "text": [
      "283\n",
      "1/1 [==============================] - 0s 20ms/step\n",
      "(512, 512, 2)\n"
     ]
    },
    {
     "name": "stderr",
     "output_type": "stream",
     "text": [
      "c:\\Users\\ADMIN\\anaconda3\\envs\\tf_gpu\\lib\\site-packages\\sklearn\\metrics\\_classification.py:1565: UndefinedMetricWarning: Precision is ill-defined and being set to 0.0 due to no predicted samples. Use `zero_division` parameter to control this behavior.\n",
      "  _warn_prf(average, modifier, f\"{metric.capitalize()} is\", len(result))\n"
     ]
    },
    {
     "name": "stdout",
     "output_type": "stream",
     "text": [
      "285\n",
      "1/1 [==============================] - 0s 20ms/step\n",
      "(512, 512, 2)\n"
     ]
    },
    {
     "name": "stderr",
     "output_type": "stream",
     "text": [
      "c:\\Users\\ADMIN\\anaconda3\\envs\\tf_gpu\\lib\\site-packages\\sklearn\\metrics\\_classification.py:1565: UndefinedMetricWarning: Precision is ill-defined and being set to 0.0 due to no predicted samples. Use `zero_division` parameter to control this behavior.\n",
      "  _warn_prf(average, modifier, f\"{metric.capitalize()} is\", len(result))\n"
     ]
    },
    {
     "name": "stdout",
     "output_type": "stream",
     "text": [
      "294\n",
      "1/1 [==============================] - 0s 10ms/step\n",
      "(512, 512, 2)\n"
     ]
    },
    {
     "name": "stderr",
     "output_type": "stream",
     "text": [
      "c:\\Users\\ADMIN\\anaconda3\\envs\\tf_gpu\\lib\\site-packages\\sklearn\\metrics\\_classification.py:1565: UndefinedMetricWarning: Precision is ill-defined and being set to 0.0 due to no predicted samples. Use `zero_division` parameter to control this behavior.\n",
      "  _warn_prf(average, modifier, f\"{metric.capitalize()} is\", len(result))\n"
     ]
    },
    {
     "name": "stdout",
     "output_type": "stream",
     "text": [
      "29\n",
      "1/1 [==============================] - 0s 20ms/step\n",
      "(512, 512, 2)\n"
     ]
    },
    {
     "name": "stderr",
     "output_type": "stream",
     "text": [
      "c:\\Users\\ADMIN\\anaconda3\\envs\\tf_gpu\\lib\\site-packages\\sklearn\\metrics\\_classification.py:1565: UndefinedMetricWarning: Precision is ill-defined and being set to 0.0 due to no predicted samples. Use `zero_division` parameter to control this behavior.\n",
      "  _warn_prf(average, modifier, f\"{metric.capitalize()} is\", len(result))\n"
     ]
    },
    {
     "name": "stdout",
     "output_type": "stream",
     "text": [
      "302\n",
      "1/1 [==============================] - 0s 20ms/step\n",
      "(512, 512, 2)\n"
     ]
    },
    {
     "name": "stderr",
     "output_type": "stream",
     "text": [
      "c:\\Users\\ADMIN\\anaconda3\\envs\\tf_gpu\\lib\\site-packages\\sklearn\\metrics\\_classification.py:1565: UndefinedMetricWarning: Precision is ill-defined and being set to 0.0 due to no predicted samples. Use `zero_division` parameter to control this behavior.\n",
      "  _warn_prf(average, modifier, f\"{metric.capitalize()} is\", len(result))\n"
     ]
    },
    {
     "name": "stdout",
     "output_type": "stream",
     "text": [
      "303\n",
      "1/1 [==============================] - 0s 20ms/step\n",
      "(512, 512, 2)\n"
     ]
    },
    {
     "name": "stderr",
     "output_type": "stream",
     "text": [
      "c:\\Users\\ADMIN\\anaconda3\\envs\\tf_gpu\\lib\\site-packages\\sklearn\\metrics\\_classification.py:1565: UndefinedMetricWarning: Precision is ill-defined and being set to 0.0 due to no predicted samples. Use `zero_division` parameter to control this behavior.\n",
      "  _warn_prf(average, modifier, f\"{metric.capitalize()} is\", len(result))\n"
     ]
    },
    {
     "name": "stdout",
     "output_type": "stream",
     "text": [
      "305\n",
      "1/1 [==============================] - 0s 20ms/step\n",
      "(512, 512, 2)\n"
     ]
    },
    {
     "name": "stderr",
     "output_type": "stream",
     "text": [
      "c:\\Users\\ADMIN\\anaconda3\\envs\\tf_gpu\\lib\\site-packages\\sklearn\\metrics\\_classification.py:1565: UndefinedMetricWarning: Precision is ill-defined and being set to 0.0 due to no predicted samples. Use `zero_division` parameter to control this behavior.\n",
      "  _warn_prf(average, modifier, f\"{metric.capitalize()} is\", len(result))\n"
     ]
    },
    {
     "name": "stdout",
     "output_type": "stream",
     "text": [
      "306\n",
      "1/1 [==============================] - 0s 21ms/step\n",
      "(512, 512, 2)\n"
     ]
    },
    {
     "name": "stderr",
     "output_type": "stream",
     "text": [
      "c:\\Users\\ADMIN\\anaconda3\\envs\\tf_gpu\\lib\\site-packages\\sklearn\\metrics\\_classification.py:1565: UndefinedMetricWarning: Precision is ill-defined and being set to 0.0 due to no predicted samples. Use `zero_division` parameter to control this behavior.\n",
      "  _warn_prf(average, modifier, f\"{metric.capitalize()} is\", len(result))\n"
     ]
    },
    {
     "name": "stdout",
     "output_type": "stream",
     "text": [
      "309\n",
      "1/1 [==============================] - 0s 20ms/step\n",
      "(512, 512, 2)\n"
     ]
    },
    {
     "name": "stderr",
     "output_type": "stream",
     "text": [
      "c:\\Users\\ADMIN\\anaconda3\\envs\\tf_gpu\\lib\\site-packages\\sklearn\\metrics\\_classification.py:1565: UndefinedMetricWarning: Precision is ill-defined and being set to 0.0 due to no predicted samples. Use `zero_division` parameter to control this behavior.\n",
      "  _warn_prf(average, modifier, f\"{metric.capitalize()} is\", len(result))\n"
     ]
    },
    {
     "name": "stdout",
     "output_type": "stream",
     "text": [
      "313\n",
      "1/1 [==============================] - 0s 20ms/step\n",
      "(512, 512, 2)\n"
     ]
    },
    {
     "name": "stderr",
     "output_type": "stream",
     "text": [
      "c:\\Users\\ADMIN\\anaconda3\\envs\\tf_gpu\\lib\\site-packages\\sklearn\\metrics\\_classification.py:1565: UndefinedMetricWarning: Precision is ill-defined and being set to 0.0 due to no predicted samples. Use `zero_division` parameter to control this behavior.\n",
      "  _warn_prf(average, modifier, f\"{metric.capitalize()} is\", len(result))\n"
     ]
    },
    {
     "name": "stdout",
     "output_type": "stream",
     "text": [
      "320\n",
      "1/1 [==============================] - 0s 30ms/step\n",
      "(512, 512, 2)\n",
      "325\n",
      "1/1 [==============================] - ETA: 0s"
     ]
    },
    {
     "name": "stderr",
     "output_type": "stream",
     "text": [
      "c:\\Users\\ADMIN\\anaconda3\\envs\\tf_gpu\\lib\\site-packages\\sklearn\\metrics\\_classification.py:1565: UndefinedMetricWarning: Precision is ill-defined and being set to 0.0 due to no predicted samples. Use `zero_division` parameter to control this behavior.\n",
      "  _warn_prf(average, modifier, f\"{metric.capitalize()} is\", len(result))\n"
     ]
    },
    {
     "name": "stdout",
     "output_type": "stream",
     "text": [
      "1/1 [==============================] - 0s 20ms/step\n",
      "(512, 512, 2)\n"
     ]
    },
    {
     "name": "stderr",
     "output_type": "stream",
     "text": [
      "c:\\Users\\ADMIN\\anaconda3\\envs\\tf_gpu\\lib\\site-packages\\sklearn\\metrics\\_classification.py:1565: UndefinedMetricWarning: Precision is ill-defined and being set to 0.0 due to no predicted samples. Use `zero_division` parameter to control this behavior.\n",
      "  _warn_prf(average, modifier, f\"{metric.capitalize()} is\", len(result))\n"
     ]
    },
    {
     "name": "stdout",
     "output_type": "stream",
     "text": [
      "327\n",
      "1/1 [==============================] - 0s 20ms/step\n",
      "(512, 512, 2)\n"
     ]
    },
    {
     "name": "stderr",
     "output_type": "stream",
     "text": [
      "c:\\Users\\ADMIN\\anaconda3\\envs\\tf_gpu\\lib\\site-packages\\sklearn\\metrics\\_classification.py:1565: UndefinedMetricWarning: Precision is ill-defined and being set to 0.0 due to no predicted samples. Use `zero_division` parameter to control this behavior.\n",
      "  _warn_prf(average, modifier, f\"{metric.capitalize()} is\", len(result))\n"
     ]
    },
    {
     "name": "stdout",
     "output_type": "stream",
     "text": [
      "329\n",
      "1/1 [==============================] - 0s 20ms/step\n",
      "(512, 512, 2)\n"
     ]
    },
    {
     "name": "stderr",
     "output_type": "stream",
     "text": [
      "c:\\Users\\ADMIN\\anaconda3\\envs\\tf_gpu\\lib\\site-packages\\sklearn\\metrics\\_classification.py:1565: UndefinedMetricWarning: Precision is ill-defined and being set to 0.0 due to no predicted samples. Use `zero_division` parameter to control this behavior.\n",
      "  _warn_prf(average, modifier, f\"{metric.capitalize()} is\", len(result))\n"
     ]
    },
    {
     "name": "stdout",
     "output_type": "stream",
     "text": [
      "334\n",
      "1/1 [==============================] - 0s 20ms/step\n",
      "(512, 512, 2)\n"
     ]
    },
    {
     "name": "stderr",
     "output_type": "stream",
     "text": [
      "c:\\Users\\ADMIN\\anaconda3\\envs\\tf_gpu\\lib\\site-packages\\sklearn\\metrics\\_classification.py:1565: UndefinedMetricWarning: Precision is ill-defined and being set to 0.0 due to no predicted samples. Use `zero_division` parameter to control this behavior.\n",
      "  _warn_prf(average, modifier, f\"{metric.capitalize()} is\", len(result))\n"
     ]
    },
    {
     "name": "stdout",
     "output_type": "stream",
     "text": [
      "335\n",
      "1/1 [==============================] - 0s 20ms/step\n",
      "(512, 512, 2)\n"
     ]
    },
    {
     "name": "stderr",
     "output_type": "stream",
     "text": [
      "c:\\Users\\ADMIN\\anaconda3\\envs\\tf_gpu\\lib\\site-packages\\sklearn\\metrics\\_classification.py:1565: UndefinedMetricWarning: Precision is ill-defined and being set to 0.0 due to no predicted samples. Use `zero_division` parameter to control this behavior.\n",
      "  _warn_prf(average, modifier, f\"{metric.capitalize()} is\", len(result))\n"
     ]
    },
    {
     "name": "stdout",
     "output_type": "stream",
     "text": [
      "340\n",
      "1/1 [==============================] - 0s 20ms/step\n",
      "(512, 512, 2)\n"
     ]
    },
    {
     "name": "stderr",
     "output_type": "stream",
     "text": [
      "c:\\Users\\ADMIN\\anaconda3\\envs\\tf_gpu\\lib\\site-packages\\sklearn\\metrics\\_classification.py:1565: UndefinedMetricWarning: Precision is ill-defined and being set to 0.0 due to no predicted samples. Use `zero_division` parameter to control this behavior.\n",
      "  _warn_prf(average, modifier, f\"{metric.capitalize()} is\", len(result))\n"
     ]
    },
    {
     "name": "stdout",
     "output_type": "stream",
     "text": [
      "346\n",
      "1/1 [==============================] - 0s 20ms/step\n",
      "(512, 512, 2)\n"
     ]
    },
    {
     "name": "stderr",
     "output_type": "stream",
     "text": [
      "c:\\Users\\ADMIN\\anaconda3\\envs\\tf_gpu\\lib\\site-packages\\sklearn\\metrics\\_classification.py:1565: UndefinedMetricWarning: Precision is ill-defined and being set to 0.0 due to no predicted samples. Use `zero_division` parameter to control this behavior.\n",
      "  _warn_prf(average, modifier, f\"{metric.capitalize()} is\", len(result))\n"
     ]
    },
    {
     "name": "stdout",
     "output_type": "stream",
     "text": [
      "348\n",
      "1/1 [==============================] - 0s 20ms/step\n",
      "(512, 512, 2)\n"
     ]
    },
    {
     "name": "stderr",
     "output_type": "stream",
     "text": [
      "c:\\Users\\ADMIN\\anaconda3\\envs\\tf_gpu\\lib\\site-packages\\sklearn\\metrics\\_classification.py:1565: UndefinedMetricWarning: Precision is ill-defined and being set to 0.0 due to no predicted samples. Use `zero_division` parameter to control this behavior.\n",
      "  _warn_prf(average, modifier, f\"{metric.capitalize()} is\", len(result))\n"
     ]
    },
    {
     "name": "stdout",
     "output_type": "stream",
     "text": [
      "353\n",
      "1/1 [==============================] - 0s 20ms/step\n",
      "(512, 512, 2)\n"
     ]
    },
    {
     "name": "stderr",
     "output_type": "stream",
     "text": [
      "c:\\Users\\ADMIN\\anaconda3\\envs\\tf_gpu\\lib\\site-packages\\sklearn\\metrics\\_classification.py:1565: UndefinedMetricWarning: Precision is ill-defined and being set to 0.0 due to no predicted samples. Use `zero_division` parameter to control this behavior.\n",
      "  _warn_prf(average, modifier, f\"{metric.capitalize()} is\", len(result))\n"
     ]
    },
    {
     "name": "stdout",
     "output_type": "stream",
     "text": [
      "358\n",
      "1/1 [==============================] - 0s 20ms/step\n",
      "(512, 512, 2)\n"
     ]
    },
    {
     "name": "stderr",
     "output_type": "stream",
     "text": [
      "c:\\Users\\ADMIN\\anaconda3\\envs\\tf_gpu\\lib\\site-packages\\sklearn\\metrics\\_classification.py:1565: UndefinedMetricWarning: Precision is ill-defined and being set to 0.0 due to no predicted samples. Use `zero_division` parameter to control this behavior.\n",
      "  _warn_prf(average, modifier, f\"{metric.capitalize()} is\", len(result))\n"
     ]
    },
    {
     "name": "stdout",
     "output_type": "stream",
     "text": [
      "362\n",
      "1/1 [==============================] - 0s 20ms/step\n",
      "(512, 512, 2)\n"
     ]
    },
    {
     "name": "stderr",
     "output_type": "stream",
     "text": [
      "c:\\Users\\ADMIN\\anaconda3\\envs\\tf_gpu\\lib\\site-packages\\sklearn\\metrics\\_classification.py:1565: UndefinedMetricWarning: Precision is ill-defined and being set to 0.0 due to no predicted samples. Use `zero_division` parameter to control this behavior.\n",
      "  _warn_prf(average, modifier, f\"{metric.capitalize()} is\", len(result))\n"
     ]
    },
    {
     "name": "stdout",
     "output_type": "stream",
     "text": [
      "368\n",
      "1/1 [==============================] - 0s 20ms/step\n",
      "(512, 512, 2)\n"
     ]
    },
    {
     "name": "stderr",
     "output_type": "stream",
     "text": [
      "c:\\Users\\ADMIN\\anaconda3\\envs\\tf_gpu\\lib\\site-packages\\sklearn\\metrics\\_classification.py:1565: UndefinedMetricWarning: Precision is ill-defined and being set to 0.0 due to no predicted samples. Use `zero_division` parameter to control this behavior.\n",
      "  _warn_prf(average, modifier, f\"{metric.capitalize()} is\", len(result))\n"
     ]
    },
    {
     "name": "stdout",
     "output_type": "stream",
     "text": [
      "372\n",
      "1/1 [==============================] - 0s 20ms/step\n",
      "(512, 512, 2)\n"
     ]
    },
    {
     "name": "stderr",
     "output_type": "stream",
     "text": [
      "c:\\Users\\ADMIN\\anaconda3\\envs\\tf_gpu\\lib\\site-packages\\sklearn\\metrics\\_classification.py:1565: UndefinedMetricWarning: Precision is ill-defined and being set to 0.0 due to no predicted samples. Use `zero_division` parameter to control this behavior.\n",
      "  _warn_prf(average, modifier, f\"{metric.capitalize()} is\", len(result))\n",
      "c:\\Users\\ADMIN\\anaconda3\\envs\\tf_gpu\\lib\\site-packages\\sklearn\\metrics\\_classification.py:1565: UndefinedMetricWarning: Recall is ill-defined and being set to 0.0 due to no true samples. Use `zero_division` parameter to control this behavior.\n",
      "  _warn_prf(average, modifier, f\"{metric.capitalize()} is\", len(result))\n",
      "c:\\Users\\ADMIN\\anaconda3\\envs\\tf_gpu\\lib\\site-packages\\sklearn\\metrics\\_classification.py:1565: UndefinedMetricWarning: F-score is ill-defined and being set to 0.0 due to no true nor predicted samples. Use `zero_division` parameter to control this behavior.\n",
      "  _warn_prf(average, modifier, f\"{metric.capitalize()} is\", len(result))\n"
     ]
    },
    {
     "name": "stdout",
     "output_type": "stream",
     "text": [
      "373\n",
      "1/1 [==============================] - 0s 20ms/step\n",
      "(512, 512, 2)\n"
     ]
    },
    {
     "name": "stderr",
     "output_type": "stream",
     "text": [
      "c:\\Users\\ADMIN\\anaconda3\\envs\\tf_gpu\\lib\\site-packages\\sklearn\\metrics\\_classification.py:1565: UndefinedMetricWarning: Precision is ill-defined and being set to 0.0 due to no predicted samples. Use `zero_division` parameter to control this behavior.\n",
      "  _warn_prf(average, modifier, f\"{metric.capitalize()} is\", len(result))\n"
     ]
    },
    {
     "name": "stdout",
     "output_type": "stream",
     "text": [
      "37\n",
      "1/1 [==============================] - 0s 20ms/step\n",
      "(512, 512, 2)\n"
     ]
    },
    {
     "name": "stderr",
     "output_type": "stream",
     "text": [
      "c:\\Users\\ADMIN\\anaconda3\\envs\\tf_gpu\\lib\\site-packages\\sklearn\\metrics\\_classification.py:1565: UndefinedMetricWarning: Precision is ill-defined and being set to 0.0 due to no predicted samples. Use `zero_division` parameter to control this behavior.\n",
      "  _warn_prf(average, modifier, f\"{metric.capitalize()} is\", len(result))\n"
     ]
    },
    {
     "name": "stdout",
     "output_type": "stream",
     "text": [
      "385\n",
      "1/1 [==============================] - 0s 20ms/step\n",
      "(512, 512, 2)\n"
     ]
    },
    {
     "name": "stderr",
     "output_type": "stream",
     "text": [
      "c:\\Users\\ADMIN\\anaconda3\\envs\\tf_gpu\\lib\\site-packages\\sklearn\\metrics\\_classification.py:1565: UndefinedMetricWarning: Precision is ill-defined and being set to 0.0 due to no predicted samples. Use `zero_division` parameter to control this behavior.\n",
      "  _warn_prf(average, modifier, f\"{metric.capitalize()} is\", len(result))\n"
     ]
    },
    {
     "name": "stdout",
     "output_type": "stream",
     "text": [
      "38\n",
      "1/1 [==============================] - 0s 20ms/step\n",
      "(512, 512, 2)\n"
     ]
    },
    {
     "name": "stderr",
     "output_type": "stream",
     "text": [
      "c:\\Users\\ADMIN\\anaconda3\\envs\\tf_gpu\\lib\\site-packages\\sklearn\\metrics\\_classification.py:1565: UndefinedMetricWarning: Precision is ill-defined and being set to 0.0 due to no predicted samples. Use `zero_division` parameter to control this behavior.\n",
      "  _warn_prf(average, modifier, f\"{metric.capitalize()} is\", len(result))\n"
     ]
    },
    {
     "name": "stdout",
     "output_type": "stream",
     "text": [
      "394\n",
      "1/1 [==============================] - 0s 21ms/step\n",
      "(512, 512, 2)\n"
     ]
    },
    {
     "name": "stderr",
     "output_type": "stream",
     "text": [
      "c:\\Users\\ADMIN\\anaconda3\\envs\\tf_gpu\\lib\\site-packages\\sklearn\\metrics\\_classification.py:1565: UndefinedMetricWarning: Precision is ill-defined and being set to 0.0 due to no predicted samples. Use `zero_division` parameter to control this behavior.\n",
      "  _warn_prf(average, modifier, f\"{metric.capitalize()} is\", len(result))\n"
     ]
    },
    {
     "name": "stdout",
     "output_type": "stream",
     "text": [
      "405\n",
      "1/1 [==============================] - 0s 20ms/step\n",
      "(512, 512, 2)\n"
     ]
    },
    {
     "name": "stderr",
     "output_type": "stream",
     "text": [
      "c:\\Users\\ADMIN\\anaconda3\\envs\\tf_gpu\\lib\\site-packages\\sklearn\\metrics\\_classification.py:1565: UndefinedMetricWarning: Precision is ill-defined and being set to 0.0 due to no predicted samples. Use `zero_division` parameter to control this behavior.\n",
      "  _warn_prf(average, modifier, f\"{metric.capitalize()} is\", len(result))\n"
     ]
    },
    {
     "name": "stdout",
     "output_type": "stream",
     "text": [
      "418\n",
      "1/1 [==============================] - 0s 20ms/step\n",
      "(512, 512, 2)\n"
     ]
    },
    {
     "name": "stderr",
     "output_type": "stream",
     "text": [
      "c:\\Users\\ADMIN\\anaconda3\\envs\\tf_gpu\\lib\\site-packages\\sklearn\\metrics\\_classification.py:1565: UndefinedMetricWarning: Precision is ill-defined and being set to 0.0 due to no predicted samples. Use `zero_division` parameter to control this behavior.\n",
      "  _warn_prf(average, modifier, f\"{metric.capitalize()} is\", len(result))\n",
      "c:\\Users\\ADMIN\\anaconda3\\envs\\tf_gpu\\lib\\site-packages\\sklearn\\metrics\\_classification.py:1565: UndefinedMetricWarning: Recall is ill-defined and being set to 0.0 due to no true samples. Use `zero_division` parameter to control this behavior.\n",
      "  _warn_prf(average, modifier, f\"{metric.capitalize()} is\", len(result))\n",
      "c:\\Users\\ADMIN\\anaconda3\\envs\\tf_gpu\\lib\\site-packages\\sklearn\\metrics\\_classification.py:1565: UndefinedMetricWarning: F-score is ill-defined and being set to 0.0 due to no true nor predicted samples. Use `zero_division` parameter to control this behavior.\n",
      "  _warn_prf(average, modifier, f\"{metric.capitalize()} is\", len(result))\n"
     ]
    },
    {
     "name": "stdout",
     "output_type": "stream",
     "text": [
      "41\n",
      "1/1 [==============================] - 0s 20ms/step\n",
      "(512, 512, 2)\n"
     ]
    },
    {
     "name": "stderr",
     "output_type": "stream",
     "text": [
      "c:\\Users\\ADMIN\\anaconda3\\envs\\tf_gpu\\lib\\site-packages\\sklearn\\metrics\\_classification.py:1565: UndefinedMetricWarning: Precision is ill-defined and being set to 0.0 due to no predicted samples. Use `zero_division` parameter to control this behavior.\n",
      "  _warn_prf(average, modifier, f\"{metric.capitalize()} is\", len(result))\n"
     ]
    },
    {
     "name": "stdout",
     "output_type": "stream",
     "text": [
      "429\n",
      "1/1 [==============================] - 0s 20ms/step\n",
      "(512, 512, 2)\n"
     ]
    },
    {
     "name": "stderr",
     "output_type": "stream",
     "text": [
      "c:\\Users\\ADMIN\\anaconda3\\envs\\tf_gpu\\lib\\site-packages\\sklearn\\metrics\\_classification.py:1565: UndefinedMetricWarning: Precision is ill-defined and being set to 0.0 due to no predicted samples. Use `zero_division` parameter to control this behavior.\n",
      "  _warn_prf(average, modifier, f\"{metric.capitalize()} is\", len(result))\n",
      "c:\\Users\\ADMIN\\anaconda3\\envs\\tf_gpu\\lib\\site-packages\\sklearn\\metrics\\_classification.py:1565: UndefinedMetricWarning: Recall is ill-defined and being set to 0.0 due to no true samples. Use `zero_division` parameter to control this behavior.\n",
      "  _warn_prf(average, modifier, f\"{metric.capitalize()} is\", len(result))\n",
      "c:\\Users\\ADMIN\\anaconda3\\envs\\tf_gpu\\lib\\site-packages\\sklearn\\metrics\\_classification.py:1565: UndefinedMetricWarning: F-score is ill-defined and being set to 0.0 due to no true nor predicted samples. Use `zero_division` parameter to control this behavior.\n",
      "  _warn_prf(average, modifier, f\"{metric.capitalize()} is\", len(result))\n"
     ]
    },
    {
     "name": "stdout",
     "output_type": "stream",
     "text": [
      "43\n",
      "1/1 [==============================] - 0s 20ms/step\n",
      "(512, 512, 2)\n"
     ]
    },
    {
     "name": "stderr",
     "output_type": "stream",
     "text": [
      "c:\\Users\\ADMIN\\anaconda3\\envs\\tf_gpu\\lib\\site-packages\\sklearn\\metrics\\_classification.py:1565: UndefinedMetricWarning: Precision is ill-defined and being set to 0.0 due to no predicted samples. Use `zero_division` parameter to control this behavior.\n",
      "  _warn_prf(average, modifier, f\"{metric.capitalize()} is\", len(result))\n"
     ]
    },
    {
     "name": "stdout",
     "output_type": "stream",
     "text": [
      "440\n",
      "1/1 [==============================] - 0s 20ms/step\n",
      "(512, 512, 2)\n"
     ]
    },
    {
     "name": "stderr",
     "output_type": "stream",
     "text": [
      "c:\\Users\\ADMIN\\anaconda3\\envs\\tf_gpu\\lib\\site-packages\\sklearn\\metrics\\_classification.py:1565: UndefinedMetricWarning: Precision is ill-defined and being set to 0.0 due to no predicted samples. Use `zero_division` parameter to control this behavior.\n",
      "  _warn_prf(average, modifier, f\"{metric.capitalize()} is\", len(result))\n"
     ]
    },
    {
     "name": "stdout",
     "output_type": "stream",
     "text": [
      "441\n",
      "1/1 [==============================] - 0s 20ms/step\n",
      "(512, 512, 2)\n"
     ]
    },
    {
     "name": "stderr",
     "output_type": "stream",
     "text": [
      "c:\\Users\\ADMIN\\anaconda3\\envs\\tf_gpu\\lib\\site-packages\\sklearn\\metrics\\_classification.py:1565: UndefinedMetricWarning: Precision is ill-defined and being set to 0.0 due to no predicted samples. Use `zero_division` parameter to control this behavior.\n",
      "  _warn_prf(average, modifier, f\"{metric.capitalize()} is\", len(result))\n"
     ]
    },
    {
     "name": "stdout",
     "output_type": "stream",
     "text": [
      "443\n",
      "1/1 [==============================] - 0s 20ms/step\n",
      "(512, 512, 2)\n"
     ]
    },
    {
     "name": "stderr",
     "output_type": "stream",
     "text": [
      "c:\\Users\\ADMIN\\anaconda3\\envs\\tf_gpu\\lib\\site-packages\\sklearn\\metrics\\_classification.py:1565: UndefinedMetricWarning: Precision is ill-defined and being set to 0.0 due to no predicted samples. Use `zero_division` parameter to control this behavior.\n",
      "  _warn_prf(average, modifier, f\"{metric.capitalize()} is\", len(result))\n"
     ]
    },
    {
     "name": "stdout",
     "output_type": "stream",
     "text": [
      "447\n",
      "1/1 [==============================] - 0s 21ms/step\n",
      "(512, 512, 2)\n"
     ]
    },
    {
     "name": "stderr",
     "output_type": "stream",
     "text": [
      "c:\\Users\\ADMIN\\anaconda3\\envs\\tf_gpu\\lib\\site-packages\\sklearn\\metrics\\_classification.py:1565: UndefinedMetricWarning: Precision is ill-defined and being set to 0.0 due to no predicted samples. Use `zero_division` parameter to control this behavior.\n",
      "  _warn_prf(average, modifier, f\"{metric.capitalize()} is\", len(result))\n"
     ]
    },
    {
     "name": "stdout",
     "output_type": "stream",
     "text": [
      "44\n",
      "1/1 [==============================] - 0s 20ms/step\n",
      "(512, 512, 2)\n"
     ]
    },
    {
     "name": "stderr",
     "output_type": "stream",
     "text": [
      "c:\\Users\\ADMIN\\anaconda3\\envs\\tf_gpu\\lib\\site-packages\\sklearn\\metrics\\_classification.py:1565: UndefinedMetricWarning: Precision is ill-defined and being set to 0.0 due to no predicted samples. Use `zero_division` parameter to control this behavior.\n",
      "  _warn_prf(average, modifier, f\"{metric.capitalize()} is\", len(result))\n"
     ]
    },
    {
     "name": "stdout",
     "output_type": "stream",
     "text": [
      "450\n",
      "1/1 [==============================] - 0s 20ms/step\n",
      "(512, 512, 2)\n"
     ]
    },
    {
     "name": "stderr",
     "output_type": "stream",
     "text": [
      "c:\\Users\\ADMIN\\anaconda3\\envs\\tf_gpu\\lib\\site-packages\\sklearn\\metrics\\_classification.py:1565: UndefinedMetricWarning: Precision is ill-defined and being set to 0.0 due to no predicted samples. Use `zero_division` parameter to control this behavior.\n",
      "  _warn_prf(average, modifier, f\"{metric.capitalize()} is\", len(result))\n"
     ]
    },
    {
     "name": "stdout",
     "output_type": "stream",
     "text": [
      "455\n",
      "1/1 [==============================] - 0s 20ms/step\n",
      "(512, 512, 2)\n"
     ]
    },
    {
     "name": "stderr",
     "output_type": "stream",
     "text": [
      "c:\\Users\\ADMIN\\anaconda3\\envs\\tf_gpu\\lib\\site-packages\\sklearn\\metrics\\_classification.py:1565: UndefinedMetricWarning: Precision is ill-defined and being set to 0.0 due to no predicted samples. Use `zero_division` parameter to control this behavior.\n",
      "  _warn_prf(average, modifier, f\"{metric.capitalize()} is\", len(result))\n"
     ]
    },
    {
     "name": "stdout",
     "output_type": "stream",
     "text": [
      "460\n",
      "1/1 [==============================] - 0s 20ms/step\n",
      "(512, 512, 2)\n"
     ]
    },
    {
     "name": "stderr",
     "output_type": "stream",
     "text": [
      "c:\\Users\\ADMIN\\anaconda3\\envs\\tf_gpu\\lib\\site-packages\\sklearn\\metrics\\_classification.py:1565: UndefinedMetricWarning: Precision is ill-defined and being set to 0.0 due to no predicted samples. Use `zero_division` parameter to control this behavior.\n",
      "  _warn_prf(average, modifier, f\"{metric.capitalize()} is\", len(result))\n"
     ]
    },
    {
     "name": "stdout",
     "output_type": "stream",
     "text": [
      "464\n",
      "1/1 [==============================] - 0s 20ms/step\n",
      "(512, 512, 2)\n"
     ]
    },
    {
     "name": "stderr",
     "output_type": "stream",
     "text": [
      "c:\\Users\\ADMIN\\anaconda3\\envs\\tf_gpu\\lib\\site-packages\\sklearn\\metrics\\_classification.py:1565: UndefinedMetricWarning: Precision is ill-defined and being set to 0.0 due to no predicted samples. Use `zero_division` parameter to control this behavior.\n",
      "  _warn_prf(average, modifier, f\"{metric.capitalize()} is\", len(result))\n"
     ]
    },
    {
     "name": "stdout",
     "output_type": "stream",
     "text": [
      "466\n",
      "1/1 [==============================] - 0s 20ms/step\n",
      "(512, 512, 2)\n"
     ]
    },
    {
     "name": "stderr",
     "output_type": "stream",
     "text": [
      "c:\\Users\\ADMIN\\anaconda3\\envs\\tf_gpu\\lib\\site-packages\\sklearn\\metrics\\_classification.py:1565: UndefinedMetricWarning: Precision is ill-defined and being set to 0.0 due to no predicted samples. Use `zero_division` parameter to control this behavior.\n",
      "  _warn_prf(average, modifier, f\"{metric.capitalize()} is\", len(result))\n"
     ]
    },
    {
     "name": "stdout",
     "output_type": "stream",
     "text": [
      "472\n",
      "1/1 [==============================] - 0s 20ms/step\n",
      "(512, 512, 2)\n"
     ]
    },
    {
     "name": "stderr",
     "output_type": "stream",
     "text": [
      "c:\\Users\\ADMIN\\anaconda3\\envs\\tf_gpu\\lib\\site-packages\\sklearn\\metrics\\_classification.py:1565: UndefinedMetricWarning: Precision is ill-defined and being set to 0.0 due to no predicted samples. Use `zero_division` parameter to control this behavior.\n",
      "  _warn_prf(average, modifier, f\"{metric.capitalize()} is\", len(result))\n"
     ]
    },
    {
     "name": "stdout",
     "output_type": "stream",
     "text": [
      "481\n",
      "1/1 [==============================] - 0s 20ms/step\n",
      "(512, 512, 2)\n"
     ]
    },
    {
     "name": "stderr",
     "output_type": "stream",
     "text": [
      "c:\\Users\\ADMIN\\anaconda3\\envs\\tf_gpu\\lib\\site-packages\\sklearn\\metrics\\_classification.py:1565: UndefinedMetricWarning: Precision is ill-defined and being set to 0.0 due to no predicted samples. Use `zero_division` parameter to control this behavior.\n",
      "  _warn_prf(average, modifier, f\"{metric.capitalize()} is\", len(result))\n"
     ]
    },
    {
     "name": "stdout",
     "output_type": "stream",
     "text": [
      "489\n",
      "1/1 [==============================] - 0s 20ms/step\n",
      "(512, 512, 2)\n"
     ]
    },
    {
     "name": "stderr",
     "output_type": "stream",
     "text": [
      "c:\\Users\\ADMIN\\anaconda3\\envs\\tf_gpu\\lib\\site-packages\\sklearn\\metrics\\_classification.py:1565: UndefinedMetricWarning: Precision is ill-defined and being set to 0.0 due to no predicted samples. Use `zero_division` parameter to control this behavior.\n",
      "  _warn_prf(average, modifier, f\"{metric.capitalize()} is\", len(result))\n"
     ]
    },
    {
     "name": "stdout",
     "output_type": "stream",
     "text": [
      "48\n",
      "1/1 [==============================] - 0s 20ms/step\n",
      "(512, 512, 2)\n"
     ]
    },
    {
     "name": "stderr",
     "output_type": "stream",
     "text": [
      "c:\\Users\\ADMIN\\anaconda3\\envs\\tf_gpu\\lib\\site-packages\\sklearn\\metrics\\_classification.py:1565: UndefinedMetricWarning: Precision is ill-defined and being set to 0.0 due to no predicted samples. Use `zero_division` parameter to control this behavior.\n",
      "  _warn_prf(average, modifier, f\"{metric.capitalize()} is\", len(result))\n"
     ]
    },
    {
     "name": "stdout",
     "output_type": "stream",
     "text": [
      "500\n",
      "1/1 [==============================] - 0s 20ms/step\n",
      "(512, 512, 2)\n"
     ]
    },
    {
     "name": "stderr",
     "output_type": "stream",
     "text": [
      "c:\\Users\\ADMIN\\anaconda3\\envs\\tf_gpu\\lib\\site-packages\\sklearn\\metrics\\_classification.py:1565: UndefinedMetricWarning: Precision is ill-defined and being set to 0.0 due to no predicted samples. Use `zero_division` parameter to control this behavior.\n",
      "  _warn_prf(average, modifier, f\"{metric.capitalize()} is\", len(result))\n"
     ]
    },
    {
     "name": "stdout",
     "output_type": "stream",
     "text": [
      "517\n",
      "1/1 [==============================] - 0s 20ms/step\n",
      "(512, 512, 2)\n"
     ]
    },
    {
     "name": "stderr",
     "output_type": "stream",
     "text": [
      "c:\\Users\\ADMIN\\anaconda3\\envs\\tf_gpu\\lib\\site-packages\\sklearn\\metrics\\_classification.py:1565: UndefinedMetricWarning: Precision is ill-defined and being set to 0.0 due to no predicted samples. Use `zero_division` parameter to control this behavior.\n",
      "  _warn_prf(average, modifier, f\"{metric.capitalize()} is\", len(result))\n"
     ]
    },
    {
     "name": "stdout",
     "output_type": "stream",
     "text": [
      "520\n",
      "1/1 [==============================] - 0s 18ms/step\n",
      "(512, 512, 2)\n"
     ]
    },
    {
     "name": "stderr",
     "output_type": "stream",
     "text": [
      "c:\\Users\\ADMIN\\anaconda3\\envs\\tf_gpu\\lib\\site-packages\\sklearn\\metrics\\_classification.py:1565: UndefinedMetricWarning: Precision is ill-defined and being set to 0.0 due to no predicted samples. Use `zero_division` parameter to control this behavior.\n",
      "  _warn_prf(average, modifier, f\"{metric.capitalize()} is\", len(result))\n"
     ]
    },
    {
     "name": "stdout",
     "output_type": "stream",
     "text": [
      "525\n",
      "1/1 [==============================] - 0s 20ms/step\n",
      "(512, 512, 2)\n"
     ]
    },
    {
     "name": "stderr",
     "output_type": "stream",
     "text": [
      "c:\\Users\\ADMIN\\anaconda3\\envs\\tf_gpu\\lib\\site-packages\\sklearn\\metrics\\_classification.py:1565: UndefinedMetricWarning: Precision is ill-defined and being set to 0.0 due to no predicted samples. Use `zero_division` parameter to control this behavior.\n",
      "  _warn_prf(average, modifier, f\"{metric.capitalize()} is\", len(result))\n"
     ]
    },
    {
     "name": "stdout",
     "output_type": "stream",
     "text": [
      "532\n",
      "1/1 [==============================] - 0s 30ms/step\n",
      "(512, 512, 2)\n"
     ]
    },
    {
     "name": "stderr",
     "output_type": "stream",
     "text": [
      "c:\\Users\\ADMIN\\anaconda3\\envs\\tf_gpu\\lib\\site-packages\\sklearn\\metrics\\_classification.py:1565: UndefinedMetricWarning: Precision is ill-defined and being set to 0.0 due to no predicted samples. Use `zero_division` parameter to control this behavior.\n",
      "  _warn_prf(average, modifier, f\"{metric.capitalize()} is\", len(result))\n"
     ]
    },
    {
     "name": "stdout",
     "output_type": "stream",
     "text": [
      "533\n",
      "1/1 [==============================] - 0s 20ms/step\n",
      "(512, 512, 2)\n"
     ]
    },
    {
     "name": "stderr",
     "output_type": "stream",
     "text": [
      "c:\\Users\\ADMIN\\anaconda3\\envs\\tf_gpu\\lib\\site-packages\\sklearn\\metrics\\_classification.py:1565: UndefinedMetricWarning: Precision is ill-defined and being set to 0.0 due to no predicted samples. Use `zero_division` parameter to control this behavior.\n",
      "  _warn_prf(average, modifier, f\"{metric.capitalize()} is\", len(result))\n"
     ]
    },
    {
     "name": "stdout",
     "output_type": "stream",
     "text": [
      "536\n",
      "1/1 [==============================] - 0s 20ms/step\n",
      "(512, 512, 2)\n",
      "547\n",
      "1/1 [==============================] - ETA: 0s"
     ]
    },
    {
     "name": "stderr",
     "output_type": "stream",
     "text": [
      "c:\\Users\\ADMIN\\anaconda3\\envs\\tf_gpu\\lib\\site-packages\\sklearn\\metrics\\_classification.py:1565: UndefinedMetricWarning: Precision is ill-defined and being set to 0.0 due to no predicted samples. Use `zero_division` parameter to control this behavior.\n",
      "  _warn_prf(average, modifier, f\"{metric.capitalize()} is\", len(result))\n"
     ]
    },
    {
     "name": "stdout",
     "output_type": "stream",
     "text": [
      "1/1 [==============================] - 0s 21ms/step\n",
      "(512, 512, 2)\n"
     ]
    },
    {
     "name": "stderr",
     "output_type": "stream",
     "text": [
      "c:\\Users\\ADMIN\\anaconda3\\envs\\tf_gpu\\lib\\site-packages\\sklearn\\metrics\\_classification.py:1565: UndefinedMetricWarning: Precision is ill-defined and being set to 0.0 due to no predicted samples. Use `zero_division` parameter to control this behavior.\n",
      "  _warn_prf(average, modifier, f\"{metric.capitalize()} is\", len(result))\n"
     ]
    },
    {
     "name": "stdout",
     "output_type": "stream",
     "text": [
      "551\n",
      "1/1 [==============================] - 0s 20ms/step\n",
      "(512, 512, 2)\n"
     ]
    },
    {
     "name": "stderr",
     "output_type": "stream",
     "text": [
      "c:\\Users\\ADMIN\\anaconda3\\envs\\tf_gpu\\lib\\site-packages\\sklearn\\metrics\\_classification.py:1565: UndefinedMetricWarning: Precision is ill-defined and being set to 0.0 due to no predicted samples. Use `zero_division` parameter to control this behavior.\n",
      "  _warn_prf(average, modifier, f\"{metric.capitalize()} is\", len(result))\n"
     ]
    },
    {
     "name": "stdout",
     "output_type": "stream",
     "text": [
      "557\n",
      "1/1 [==============================] - 0s 20ms/step\n",
      "(512, 512, 2)\n"
     ]
    },
    {
     "name": "stderr",
     "output_type": "stream",
     "text": [
      "c:\\Users\\ADMIN\\anaconda3\\envs\\tf_gpu\\lib\\site-packages\\sklearn\\metrics\\_classification.py:1565: UndefinedMetricWarning: Precision is ill-defined and being set to 0.0 due to no predicted samples. Use `zero_division` parameter to control this behavior.\n",
      "  _warn_prf(average, modifier, f\"{metric.capitalize()} is\", len(result))\n"
     ]
    },
    {
     "name": "stdout",
     "output_type": "stream",
     "text": [
      "560\n",
      "1/1 [==============================] - 0s 20ms/step\n",
      "(512, 512, 2)\n"
     ]
    },
    {
     "name": "stderr",
     "output_type": "stream",
     "text": [
      "c:\\Users\\ADMIN\\anaconda3\\envs\\tf_gpu\\lib\\site-packages\\sklearn\\metrics\\_classification.py:1565: UndefinedMetricWarning: Precision is ill-defined and being set to 0.0 due to no predicted samples. Use `zero_division` parameter to control this behavior.\n",
      "  _warn_prf(average, modifier, f\"{metric.capitalize()} is\", len(result))\n"
     ]
    },
    {
     "name": "stdout",
     "output_type": "stream",
     "text": [
      "561\n",
      "1/1 [==============================] - 0s 20ms/step\n",
      "(512, 512, 2)\n"
     ]
    },
    {
     "name": "stderr",
     "output_type": "stream",
     "text": [
      "c:\\Users\\ADMIN\\anaconda3\\envs\\tf_gpu\\lib\\site-packages\\sklearn\\metrics\\_classification.py:1565: UndefinedMetricWarning: Precision is ill-defined and being set to 0.0 due to no predicted samples. Use `zero_division` parameter to control this behavior.\n",
      "  _warn_prf(average, modifier, f\"{metric.capitalize()} is\", len(result))\n",
      "c:\\Users\\ADMIN\\anaconda3\\envs\\tf_gpu\\lib\\site-packages\\sklearn\\metrics\\_classification.py:1565: UndefinedMetricWarning: Recall is ill-defined and being set to 0.0 due to no true samples. Use `zero_division` parameter to control this behavior.\n",
      "  _warn_prf(average, modifier, f\"{metric.capitalize()} is\", len(result))\n",
      "c:\\Users\\ADMIN\\anaconda3\\envs\\tf_gpu\\lib\\site-packages\\sklearn\\metrics\\_classification.py:1565: UndefinedMetricWarning: F-score is ill-defined and being set to 0.0 due to no true nor predicted samples. Use `zero_division` parameter to control this behavior.\n",
      "  _warn_prf(average, modifier, f\"{metric.capitalize()} is\", len(result))\n"
     ]
    },
    {
     "name": "stdout",
     "output_type": "stream",
     "text": [
      "583\n",
      "1/1 [==============================] - 0s 20ms/step\n",
      "(512, 512, 2)\n"
     ]
    },
    {
     "name": "stderr",
     "output_type": "stream",
     "text": [
      "c:\\Users\\ADMIN\\anaconda3\\envs\\tf_gpu\\lib\\site-packages\\sklearn\\metrics\\_classification.py:1565: UndefinedMetricWarning: Precision is ill-defined and being set to 0.0 due to no predicted samples. Use `zero_division` parameter to control this behavior.\n",
      "  _warn_prf(average, modifier, f\"{metric.capitalize()} is\", len(result))\n"
     ]
    },
    {
     "name": "stdout",
     "output_type": "stream",
     "text": [
      "584\n",
      "1/1 [==============================] - 0s 18ms/step\n",
      "(512, 512, 2)\n"
     ]
    },
    {
     "name": "stderr",
     "output_type": "stream",
     "text": [
      "c:\\Users\\ADMIN\\anaconda3\\envs\\tf_gpu\\lib\\site-packages\\sklearn\\metrics\\_classification.py:1565: UndefinedMetricWarning: Precision is ill-defined and being set to 0.0 due to no predicted samples. Use `zero_division` parameter to control this behavior.\n",
      "  _warn_prf(average, modifier, f\"{metric.capitalize()} is\", len(result))\n"
     ]
    },
    {
     "name": "stdout",
     "output_type": "stream",
     "text": [
      "591\n",
      "1/1 [==============================] - 0s 20ms/step\n",
      "(512, 512, 2)\n"
     ]
    },
    {
     "name": "stderr",
     "output_type": "stream",
     "text": [
      "c:\\Users\\ADMIN\\anaconda3\\envs\\tf_gpu\\lib\\site-packages\\sklearn\\metrics\\_classification.py:1565: UndefinedMetricWarning: Precision is ill-defined and being set to 0.0 due to no predicted samples. Use `zero_division` parameter to control this behavior.\n",
      "  _warn_prf(average, modifier, f\"{metric.capitalize()} is\", len(result))\n"
     ]
    },
    {
     "name": "stdout",
     "output_type": "stream",
     "text": [
      "595\n",
      "1/1 [==============================] - 0s 20ms/step\n",
      "(512, 512, 2)\n"
     ]
    },
    {
     "name": "stderr",
     "output_type": "stream",
     "text": [
      "c:\\Users\\ADMIN\\anaconda3\\envs\\tf_gpu\\lib\\site-packages\\sklearn\\metrics\\_classification.py:1565: UndefinedMetricWarning: Precision is ill-defined and being set to 0.0 due to no predicted samples. Use `zero_division` parameter to control this behavior.\n",
      "  _warn_prf(average, modifier, f\"{metric.capitalize()} is\", len(result))\n"
     ]
    },
    {
     "name": "stdout",
     "output_type": "stream",
     "text": [
      "596\n",
      "1/1 [==============================] - 0s 20ms/step\n",
      "(512, 512, 2)\n"
     ]
    },
    {
     "name": "stderr",
     "output_type": "stream",
     "text": [
      "c:\\Users\\ADMIN\\anaconda3\\envs\\tf_gpu\\lib\\site-packages\\sklearn\\metrics\\_classification.py:1565: UndefinedMetricWarning: Precision is ill-defined and being set to 0.0 due to no predicted samples. Use `zero_division` parameter to control this behavior.\n",
      "  _warn_prf(average, modifier, f\"{metric.capitalize()} is\", len(result))\n"
     ]
    },
    {
     "name": "stdout",
     "output_type": "stream",
     "text": [
      "599\n",
      "1/1 [==============================] - 0s 20ms/step\n",
      "(512, 512, 2)\n"
     ]
    },
    {
     "name": "stderr",
     "output_type": "stream",
     "text": [
      "c:\\Users\\ADMIN\\anaconda3\\envs\\tf_gpu\\lib\\site-packages\\sklearn\\metrics\\_classification.py:1565: UndefinedMetricWarning: Precision is ill-defined and being set to 0.0 due to no predicted samples. Use `zero_division` parameter to control this behavior.\n",
      "  _warn_prf(average, modifier, f\"{metric.capitalize()} is\", len(result))\n"
     ]
    },
    {
     "name": "stdout",
     "output_type": "stream",
     "text": [
      "603\n",
      "1/1 [==============================] - 0s 20ms/step\n",
      "(512, 512, 2)\n"
     ]
    },
    {
     "name": "stderr",
     "output_type": "stream",
     "text": [
      "c:\\Users\\ADMIN\\anaconda3\\envs\\tf_gpu\\lib\\site-packages\\sklearn\\metrics\\_classification.py:1565: UndefinedMetricWarning: Precision is ill-defined and being set to 0.0 due to no predicted samples. Use `zero_division` parameter to control this behavior.\n",
      "  _warn_prf(average, modifier, f\"{metric.capitalize()} is\", len(result))\n"
     ]
    },
    {
     "name": "stdout",
     "output_type": "stream",
     "text": [
      "604\n",
      "1/1 [==============================] - 0s 20ms/step\n",
      "(512, 512, 2)\n"
     ]
    },
    {
     "name": "stderr",
     "output_type": "stream",
     "text": [
      "c:\\Users\\ADMIN\\anaconda3\\envs\\tf_gpu\\lib\\site-packages\\sklearn\\metrics\\_classification.py:1565: UndefinedMetricWarning: Precision is ill-defined and being set to 0.0 due to no predicted samples. Use `zero_division` parameter to control this behavior.\n",
      "  _warn_prf(average, modifier, f\"{metric.capitalize()} is\", len(result))\n"
     ]
    },
    {
     "name": "stdout",
     "output_type": "stream",
     "text": [
      "612\n",
      "1/1 [==============================] - 0s 20ms/step\n",
      "(512, 512, 2)\n"
     ]
    },
    {
     "name": "stderr",
     "output_type": "stream",
     "text": [
      "c:\\Users\\ADMIN\\anaconda3\\envs\\tf_gpu\\lib\\site-packages\\sklearn\\metrics\\_classification.py:1565: UndefinedMetricWarning: Precision is ill-defined and being set to 0.0 due to no predicted samples. Use `zero_division` parameter to control this behavior.\n",
      "  _warn_prf(average, modifier, f\"{metric.capitalize()} is\", len(result))\n"
     ]
    },
    {
     "name": "stdout",
     "output_type": "stream",
     "text": [
      "614\n",
      "1/1 [==============================] - 0s 20ms/step\n",
      "(512, 512, 2)\n"
     ]
    },
    {
     "name": "stderr",
     "output_type": "stream",
     "text": [
      "c:\\Users\\ADMIN\\anaconda3\\envs\\tf_gpu\\lib\\site-packages\\sklearn\\metrics\\_classification.py:1565: UndefinedMetricWarning: Precision is ill-defined and being set to 0.0 due to no predicted samples. Use `zero_division` parameter to control this behavior.\n",
      "  _warn_prf(average, modifier, f\"{metric.capitalize()} is\", len(result))\n"
     ]
    },
    {
     "name": "stdout",
     "output_type": "stream",
     "text": [
      "616\n",
      "1/1 [==============================] - 0s 20ms/step\n",
      "(512, 512, 2)\n"
     ]
    },
    {
     "name": "stderr",
     "output_type": "stream",
     "text": [
      "c:\\Users\\ADMIN\\anaconda3\\envs\\tf_gpu\\lib\\site-packages\\sklearn\\metrics\\_classification.py:1565: UndefinedMetricWarning: Precision is ill-defined and being set to 0.0 due to no predicted samples. Use `zero_division` parameter to control this behavior.\n",
      "  _warn_prf(average, modifier, f\"{metric.capitalize()} is\", len(result))\n"
     ]
    },
    {
     "name": "stdout",
     "output_type": "stream",
     "text": [
      "617\n",
      "1/1 [==============================] - 0s 20ms/step\n",
      "(512, 512, 2)\n"
     ]
    },
    {
     "name": "stderr",
     "output_type": "stream",
     "text": [
      "c:\\Users\\ADMIN\\anaconda3\\envs\\tf_gpu\\lib\\site-packages\\sklearn\\metrics\\_classification.py:1565: UndefinedMetricWarning: Precision is ill-defined and being set to 0.0 due to no predicted samples. Use `zero_division` parameter to control this behavior.\n",
      "  _warn_prf(average, modifier, f\"{metric.capitalize()} is\", len(result))\n"
     ]
    },
    {
     "name": "stdout",
     "output_type": "stream",
     "text": [
      "61\n",
      "1/1 [==============================] - 0s 20ms/step\n",
      "(512, 512, 2)\n"
     ]
    },
    {
     "name": "stderr",
     "output_type": "stream",
     "text": [
      "c:\\Users\\ADMIN\\anaconda3\\envs\\tf_gpu\\lib\\site-packages\\sklearn\\metrics\\_classification.py:1565: UndefinedMetricWarning: Precision is ill-defined and being set to 0.0 due to no predicted samples. Use `zero_division` parameter to control this behavior.\n",
      "  _warn_prf(average, modifier, f\"{metric.capitalize()} is\", len(result))\n"
     ]
    },
    {
     "name": "stdout",
     "output_type": "stream",
     "text": [
      "629\n",
      "1/1 [==============================] - 0s 25ms/step\n",
      "(512, 512, 2)\n"
     ]
    },
    {
     "name": "stderr",
     "output_type": "stream",
     "text": [
      "c:\\Users\\ADMIN\\anaconda3\\envs\\tf_gpu\\lib\\site-packages\\sklearn\\metrics\\_classification.py:1565: UndefinedMetricWarning: Precision is ill-defined and being set to 0.0 due to no predicted samples. Use `zero_division` parameter to control this behavior.\n",
      "  _warn_prf(average, modifier, f\"{metric.capitalize()} is\", len(result))\n"
     ]
    },
    {
     "name": "stdout",
     "output_type": "stream",
     "text": [
      "644\n",
      "1/1 [==============================] - 0s 20ms/step\n",
      "(512, 512, 2)\n"
     ]
    },
    {
     "name": "stderr",
     "output_type": "stream",
     "text": [
      "c:\\Users\\ADMIN\\anaconda3\\envs\\tf_gpu\\lib\\site-packages\\sklearn\\metrics\\_classification.py:1565: UndefinedMetricWarning: Precision is ill-defined and being set to 0.0 due to no predicted samples. Use `zero_division` parameter to control this behavior.\n",
      "  _warn_prf(average, modifier, f\"{metric.capitalize()} is\", len(result))\n"
     ]
    },
    {
     "name": "stdout",
     "output_type": "stream",
     "text": [
      "646\n",
      "1/1 [==============================] - 0s 20ms/step\n",
      "(512, 512, 2)\n"
     ]
    },
    {
     "name": "stderr",
     "output_type": "stream",
     "text": [
      "c:\\Users\\ADMIN\\anaconda3\\envs\\tf_gpu\\lib\\site-packages\\sklearn\\metrics\\_classification.py:1565: UndefinedMetricWarning: Precision is ill-defined and being set to 0.0 due to no predicted samples. Use `zero_division` parameter to control this behavior.\n",
      "  _warn_prf(average, modifier, f\"{metric.capitalize()} is\", len(result))\n"
     ]
    },
    {
     "name": "stdout",
     "output_type": "stream",
     "text": [
      "648\n",
      "1/1 [==============================] - 0s 20ms/step\n",
      "(512, 512, 2)\n",
      "64\n",
      "1/1 [==============================] - ETA: 0s"
     ]
    },
    {
     "name": "stderr",
     "output_type": "stream",
     "text": [
      "c:\\Users\\ADMIN\\anaconda3\\envs\\tf_gpu\\lib\\site-packages\\sklearn\\metrics\\_classification.py:1565: UndefinedMetricWarning: Precision is ill-defined and being set to 0.0 due to no predicted samples. Use `zero_division` parameter to control this behavior.\n",
      "  _warn_prf(average, modifier, f\"{metric.capitalize()} is\", len(result))\n"
     ]
    },
    {
     "name": "stdout",
     "output_type": "stream",
     "text": [
      "1/1 [==============================] - 0s 20ms/step\n",
      "(512, 512, 2)\n"
     ]
    },
    {
     "name": "stderr",
     "output_type": "stream",
     "text": [
      "c:\\Users\\ADMIN\\anaconda3\\envs\\tf_gpu\\lib\\site-packages\\sklearn\\metrics\\_classification.py:1565: UndefinedMetricWarning: Precision is ill-defined and being set to 0.0 due to no predicted samples. Use `zero_division` parameter to control this behavior.\n",
      "  _warn_prf(average, modifier, f\"{metric.capitalize()} is\", len(result))\n"
     ]
    },
    {
     "name": "stdout",
     "output_type": "stream",
     "text": [
      "653\n",
      "1/1 [==============================] - 0s 20ms/step\n",
      "(512, 512, 2)\n"
     ]
    },
    {
     "name": "stderr",
     "output_type": "stream",
     "text": [
      "c:\\Users\\ADMIN\\anaconda3\\envs\\tf_gpu\\lib\\site-packages\\sklearn\\metrics\\_classification.py:1565: UndefinedMetricWarning: Precision is ill-defined and being set to 0.0 due to no predicted samples. Use `zero_division` parameter to control this behavior.\n",
      "  _warn_prf(average, modifier, f\"{metric.capitalize()} is\", len(result))\n"
     ]
    },
    {
     "name": "stdout",
     "output_type": "stream",
     "text": [
      "655\n",
      "1/1 [==============================] - 0s 20ms/step\n",
      "(512, 512, 2)\n"
     ]
    },
    {
     "name": "stderr",
     "output_type": "stream",
     "text": [
      "c:\\Users\\ADMIN\\anaconda3\\envs\\tf_gpu\\lib\\site-packages\\sklearn\\metrics\\_classification.py:1565: UndefinedMetricWarning: Precision is ill-defined and being set to 0.0 due to no predicted samples. Use `zero_division` parameter to control this behavior.\n",
      "  _warn_prf(average, modifier, f\"{metric.capitalize()} is\", len(result))\n"
     ]
    },
    {
     "name": "stdout",
     "output_type": "stream",
     "text": [
      "657\n",
      "1/1 [==============================] - 0s 22ms/step\n",
      "(512, 512, 2)\n"
     ]
    },
    {
     "name": "stderr",
     "output_type": "stream",
     "text": [
      "c:\\Users\\ADMIN\\anaconda3\\envs\\tf_gpu\\lib\\site-packages\\sklearn\\metrics\\_classification.py:1565: UndefinedMetricWarning: Precision is ill-defined and being set to 0.0 due to no predicted samples. Use `zero_division` parameter to control this behavior.\n",
      "  _warn_prf(average, modifier, f\"{metric.capitalize()} is\", len(result))\n"
     ]
    },
    {
     "name": "stdout",
     "output_type": "stream",
     "text": [
      "666\n",
      "1/1 [==============================] - 0s 30ms/step\n",
      "(512, 512, 2)\n"
     ]
    },
    {
     "name": "stderr",
     "output_type": "stream",
     "text": [
      "c:\\Users\\ADMIN\\anaconda3\\envs\\tf_gpu\\lib\\site-packages\\sklearn\\metrics\\_classification.py:1565: UndefinedMetricWarning: Precision is ill-defined and being set to 0.0 due to no predicted samples. Use `zero_division` parameter to control this behavior.\n",
      "  _warn_prf(average, modifier, f\"{metric.capitalize()} is\", len(result))\n"
     ]
    },
    {
     "name": "stdout",
     "output_type": "stream",
     "text": [
      "66\n",
      "1/1 [==============================] - 0s 20ms/step\n",
      "(512, 512, 2)\n"
     ]
    },
    {
     "name": "stderr",
     "output_type": "stream",
     "text": [
      "c:\\Users\\ADMIN\\anaconda3\\envs\\tf_gpu\\lib\\site-packages\\sklearn\\metrics\\_classification.py:1565: UndefinedMetricWarning: Precision is ill-defined and being set to 0.0 due to no predicted samples. Use `zero_division` parameter to control this behavior.\n",
      "  _warn_prf(average, modifier, f\"{metric.capitalize()} is\", len(result))\n",
      "c:\\Users\\ADMIN\\anaconda3\\envs\\tf_gpu\\lib\\site-packages\\sklearn\\metrics\\_classification.py:1565: UndefinedMetricWarning: Recall is ill-defined and being set to 0.0 due to no true samples. Use `zero_division` parameter to control this behavior.\n",
      "  _warn_prf(average, modifier, f\"{metric.capitalize()} is\", len(result))\n",
      "c:\\Users\\ADMIN\\anaconda3\\envs\\tf_gpu\\lib\\site-packages\\sklearn\\metrics\\_classification.py:1565: UndefinedMetricWarning: F-score is ill-defined and being set to 0.0 due to no true nor predicted samples. Use `zero_division` parameter to control this behavior.\n",
      "  _warn_prf(average, modifier, f\"{metric.capitalize()} is\", len(result))\n"
     ]
    },
    {
     "name": "stdout",
     "output_type": "stream",
     "text": [
      "671\n",
      "1/1 [==============================] - 0s 20ms/step\n",
      "(512, 512, 2)\n"
     ]
    },
    {
     "name": "stderr",
     "output_type": "stream",
     "text": [
      "c:\\Users\\ADMIN\\anaconda3\\envs\\tf_gpu\\lib\\site-packages\\sklearn\\metrics\\_classification.py:1565: UndefinedMetricWarning: Precision is ill-defined and being set to 0.0 due to no predicted samples. Use `zero_division` parameter to control this behavior.\n",
      "  _warn_prf(average, modifier, f\"{metric.capitalize()} is\", len(result))\n"
     ]
    },
    {
     "name": "stdout",
     "output_type": "stream",
     "text": [
      "672\n",
      "1/1 [==============================] - 0s 20ms/step\n",
      "(512, 512, 2)\n"
     ]
    },
    {
     "name": "stderr",
     "output_type": "stream",
     "text": [
      "c:\\Users\\ADMIN\\anaconda3\\envs\\tf_gpu\\lib\\site-packages\\sklearn\\metrics\\_classification.py:1565: UndefinedMetricWarning: Precision is ill-defined and being set to 0.0 due to no predicted samples. Use `zero_division` parameter to control this behavior.\n",
      "  _warn_prf(average, modifier, f\"{metric.capitalize()} is\", len(result))\n"
     ]
    },
    {
     "name": "stdout",
     "output_type": "stream",
     "text": [
      "675\n",
      "1/1 [==============================] - 0s 20ms/step\n",
      "(512, 512, 2)\n"
     ]
    },
    {
     "name": "stderr",
     "output_type": "stream",
     "text": [
      "c:\\Users\\ADMIN\\anaconda3\\envs\\tf_gpu\\lib\\site-packages\\sklearn\\metrics\\_classification.py:1565: UndefinedMetricWarning: Precision is ill-defined and being set to 0.0 due to no predicted samples. Use `zero_division` parameter to control this behavior.\n",
      "  _warn_prf(average, modifier, f\"{metric.capitalize()} is\", len(result))\n"
     ]
    },
    {
     "name": "stdout",
     "output_type": "stream",
     "text": [
      "679\n",
      "1/1 [==============================] - 0s 30ms/step\n",
      "(512, 512, 2)\n"
     ]
    },
    {
     "name": "stderr",
     "output_type": "stream",
     "text": [
      "c:\\Users\\ADMIN\\anaconda3\\envs\\tf_gpu\\lib\\site-packages\\sklearn\\metrics\\_classification.py:1565: UndefinedMetricWarning: Precision is ill-defined and being set to 0.0 due to no predicted samples. Use `zero_division` parameter to control this behavior.\n",
      "  _warn_prf(average, modifier, f\"{metric.capitalize()} is\", len(result))\n",
      "c:\\Users\\ADMIN\\anaconda3\\envs\\tf_gpu\\lib\\site-packages\\sklearn\\metrics\\_classification.py:1565: UndefinedMetricWarning: Recall is ill-defined and being set to 0.0 due to no true samples. Use `zero_division` parameter to control this behavior.\n",
      "  _warn_prf(average, modifier, f\"{metric.capitalize()} is\", len(result))\n",
      "c:\\Users\\ADMIN\\anaconda3\\envs\\tf_gpu\\lib\\site-packages\\sklearn\\metrics\\_classification.py:1565: UndefinedMetricWarning: F-score is ill-defined and being set to 0.0 due to no true nor predicted samples. Use `zero_division` parameter to control this behavior.\n",
      "  _warn_prf(average, modifier, f\"{metric.capitalize()} is\", len(result))\n"
     ]
    },
    {
     "name": "stdout",
     "output_type": "stream",
     "text": [
      "688\n",
      "1/1 [==============================] - 0s 20ms/step\n",
      "(512, 512, 2)\n"
     ]
    },
    {
     "name": "stderr",
     "output_type": "stream",
     "text": [
      "c:\\Users\\ADMIN\\anaconda3\\envs\\tf_gpu\\lib\\site-packages\\sklearn\\metrics\\_classification.py:1565: UndefinedMetricWarning: Precision is ill-defined and being set to 0.0 due to no predicted samples. Use `zero_division` parameter to control this behavior.\n",
      "  _warn_prf(average, modifier, f\"{metric.capitalize()} is\", len(result))\n",
      "c:\\Users\\ADMIN\\anaconda3\\envs\\tf_gpu\\lib\\site-packages\\sklearn\\metrics\\_classification.py:1565: UndefinedMetricWarning: Recall is ill-defined and being set to 0.0 due to no true samples. Use `zero_division` parameter to control this behavior.\n",
      "  _warn_prf(average, modifier, f\"{metric.capitalize()} is\", len(result))\n",
      "c:\\Users\\ADMIN\\anaconda3\\envs\\tf_gpu\\lib\\site-packages\\sklearn\\metrics\\_classification.py:1565: UndefinedMetricWarning: F-score is ill-defined and being set to 0.0 due to no true nor predicted samples. Use `zero_division` parameter to control this behavior.\n",
      "  _warn_prf(average, modifier, f\"{metric.capitalize()} is\", len(result))\n"
     ]
    },
    {
     "name": "stdout",
     "output_type": "stream",
     "text": [
      "693\n",
      "1/1 [==============================] - 0s 20ms/step\n",
      "(512, 512, 2)\n"
     ]
    },
    {
     "name": "stderr",
     "output_type": "stream",
     "text": [
      "c:\\Users\\ADMIN\\anaconda3\\envs\\tf_gpu\\lib\\site-packages\\sklearn\\metrics\\_classification.py:1565: UndefinedMetricWarning: Precision is ill-defined and being set to 0.0 due to no predicted samples. Use `zero_division` parameter to control this behavior.\n",
      "  _warn_prf(average, modifier, f\"{metric.capitalize()} is\", len(result))\n"
     ]
    },
    {
     "name": "stdout",
     "output_type": "stream",
     "text": [
      "694\n",
      "1/1 [==============================] - 0s 20ms/step\n",
      "(512, 512, 2)\n"
     ]
    },
    {
     "name": "stderr",
     "output_type": "stream",
     "text": [
      "c:\\Users\\ADMIN\\anaconda3\\envs\\tf_gpu\\lib\\site-packages\\sklearn\\metrics\\_classification.py:1565: UndefinedMetricWarning: Precision is ill-defined and being set to 0.0 due to no predicted samples. Use `zero_division` parameter to control this behavior.\n",
      "  _warn_prf(average, modifier, f\"{metric.capitalize()} is\", len(result))\n"
     ]
    },
    {
     "name": "stdout",
     "output_type": "stream",
     "text": [
      "695\n",
      "1/1 [==============================] - 0s 20ms/step\n",
      "(512, 512, 2)\n"
     ]
    },
    {
     "name": "stderr",
     "output_type": "stream",
     "text": [
      "c:\\Users\\ADMIN\\anaconda3\\envs\\tf_gpu\\lib\\site-packages\\sklearn\\metrics\\_classification.py:1565: UndefinedMetricWarning: Precision is ill-defined and being set to 0.0 due to no predicted samples. Use `zero_division` parameter to control this behavior.\n",
      "  _warn_prf(average, modifier, f\"{metric.capitalize()} is\", len(result))\n"
     ]
    },
    {
     "name": "stdout",
     "output_type": "stream",
     "text": [
      "697\n",
      "1/1 [==============================] - 0s 20ms/step\n",
      "(512, 512, 2)\n"
     ]
    },
    {
     "name": "stderr",
     "output_type": "stream",
     "text": [
      "c:\\Users\\ADMIN\\anaconda3\\envs\\tf_gpu\\lib\\site-packages\\sklearn\\metrics\\_classification.py:1565: UndefinedMetricWarning: Precision is ill-defined and being set to 0.0 due to no predicted samples. Use `zero_division` parameter to control this behavior.\n",
      "  _warn_prf(average, modifier, f\"{metric.capitalize()} is\", len(result))\n"
     ]
    },
    {
     "name": "stdout",
     "output_type": "stream",
     "text": [
      "712\n",
      "1/1 [==============================] - 0s 20ms/step\n",
      "(512, 512, 2)\n"
     ]
    },
    {
     "name": "stderr",
     "output_type": "stream",
     "text": [
      "c:\\Users\\ADMIN\\anaconda3\\envs\\tf_gpu\\lib\\site-packages\\sklearn\\metrics\\_classification.py:1565: UndefinedMetricWarning: Precision is ill-defined and being set to 0.0 due to no predicted samples. Use `zero_division` parameter to control this behavior.\n",
      "  _warn_prf(average, modifier, f\"{metric.capitalize()} is\", len(result))\n"
     ]
    },
    {
     "name": "stdout",
     "output_type": "stream",
     "text": [
      "71\n",
      "1/1 [==============================] - 0s 20ms/step\n",
      "(512, 512, 2)\n"
     ]
    },
    {
     "name": "stderr",
     "output_type": "stream",
     "text": [
      "c:\\Users\\ADMIN\\anaconda3\\envs\\tf_gpu\\lib\\site-packages\\sklearn\\metrics\\_classification.py:1565: UndefinedMetricWarning: Precision is ill-defined and being set to 0.0 due to no predicted samples. Use `zero_division` parameter to control this behavior.\n",
      "  _warn_prf(average, modifier, f\"{metric.capitalize()} is\", len(result))\n"
     ]
    },
    {
     "name": "stdout",
     "output_type": "stream",
     "text": [
      "720\n",
      "1/1 [==============================] - 0s 20ms/step\n",
      "(512, 512, 2)\n"
     ]
    },
    {
     "name": "stderr",
     "output_type": "stream",
     "text": [
      "c:\\Users\\ADMIN\\anaconda3\\envs\\tf_gpu\\lib\\site-packages\\sklearn\\metrics\\_classification.py:1565: UndefinedMetricWarning: Precision is ill-defined and being set to 0.0 due to no predicted samples. Use `zero_division` parameter to control this behavior.\n",
      "  _warn_prf(average, modifier, f\"{metric.capitalize()} is\", len(result))\n"
     ]
    },
    {
     "name": "stdout",
     "output_type": "stream",
     "text": [
      "721\n",
      "1/1 [==============================] - 0s 25ms/step\n",
      "(512, 512, 2)\n"
     ]
    },
    {
     "name": "stderr",
     "output_type": "stream",
     "text": [
      "c:\\Users\\ADMIN\\anaconda3\\envs\\tf_gpu\\lib\\site-packages\\sklearn\\metrics\\_classification.py:1565: UndefinedMetricWarning: Precision is ill-defined and being set to 0.0 due to no predicted samples. Use `zero_division` parameter to control this behavior.\n",
      "  _warn_prf(average, modifier, f\"{metric.capitalize()} is\", len(result))\n"
     ]
    },
    {
     "name": "stdout",
     "output_type": "stream",
     "text": [
      "72\n",
      "1/1 [==============================] - 0s 20ms/step\n",
      "(512, 512, 2)\n"
     ]
    },
    {
     "name": "stderr",
     "output_type": "stream",
     "text": [
      "c:\\Users\\ADMIN\\anaconda3\\envs\\tf_gpu\\lib\\site-packages\\sklearn\\metrics\\_classification.py:1565: UndefinedMetricWarning: Precision is ill-defined and being set to 0.0 due to no predicted samples. Use `zero_division` parameter to control this behavior.\n",
      "  _warn_prf(average, modifier, f\"{metric.capitalize()} is\", len(result))\n"
     ]
    },
    {
     "name": "stdout",
     "output_type": "stream",
     "text": [
      "733\n",
      "1/1 [==============================] - 0s 20ms/step\n",
      "(512, 512, 2)\n",
      "73\n",
      "1/1 [==============================] - ETA: 0s"
     ]
    },
    {
     "name": "stderr",
     "output_type": "stream",
     "text": [
      "c:\\Users\\ADMIN\\anaconda3\\envs\\tf_gpu\\lib\\site-packages\\sklearn\\metrics\\_classification.py:1565: UndefinedMetricWarning: Precision is ill-defined and being set to 0.0 due to no predicted samples. Use `zero_division` parameter to control this behavior.\n",
      "  _warn_prf(average, modifier, f\"{metric.capitalize()} is\", len(result))\n"
     ]
    },
    {
     "name": "stdout",
     "output_type": "stream",
     "text": [
      "1/1 [==============================] - 0s 20ms/step\n",
      "(512, 512, 2)\n"
     ]
    },
    {
     "name": "stderr",
     "output_type": "stream",
     "text": [
      "c:\\Users\\ADMIN\\anaconda3\\envs\\tf_gpu\\lib\\site-packages\\sklearn\\metrics\\_classification.py:1565: UndefinedMetricWarning: Precision is ill-defined and being set to 0.0 due to no predicted samples. Use `zero_division` parameter to control this behavior.\n",
      "  _warn_prf(average, modifier, f\"{metric.capitalize()} is\", len(result))\n",
      "c:\\Users\\ADMIN\\anaconda3\\envs\\tf_gpu\\lib\\site-packages\\sklearn\\metrics\\_classification.py:1565: UndefinedMetricWarning: Recall is ill-defined and being set to 0.0 due to no true samples. Use `zero_division` parameter to control this behavior.\n",
      "  _warn_prf(average, modifier, f\"{metric.capitalize()} is\", len(result))\n",
      "c:\\Users\\ADMIN\\anaconda3\\envs\\tf_gpu\\lib\\site-packages\\sklearn\\metrics\\_classification.py:1565: UndefinedMetricWarning: F-score is ill-defined and being set to 0.0 due to no true nor predicted samples. Use `zero_division` parameter to control this behavior.\n",
      "  _warn_prf(average, modifier, f\"{metric.capitalize()} is\", len(result))\n"
     ]
    },
    {
     "name": "stdout",
     "output_type": "stream",
     "text": [
      "740\n",
      "1/1 [==============================] - 0s 20ms/step\n",
      "(512, 512, 2)\n"
     ]
    },
    {
     "name": "stderr",
     "output_type": "stream",
     "text": [
      "c:\\Users\\ADMIN\\anaconda3\\envs\\tf_gpu\\lib\\site-packages\\sklearn\\metrics\\_classification.py:1565: UndefinedMetricWarning: Precision is ill-defined and being set to 0.0 due to no predicted samples. Use `zero_division` parameter to control this behavior.\n",
      "  _warn_prf(average, modifier, f\"{metric.capitalize()} is\", len(result))\n"
     ]
    },
    {
     "name": "stdout",
     "output_type": "stream",
     "text": [
      "746\n",
      "1/1 [==============================] - 0s 20ms/step\n",
      "(512, 512, 2)\n"
     ]
    },
    {
     "name": "stderr",
     "output_type": "stream",
     "text": [
      "c:\\Users\\ADMIN\\anaconda3\\envs\\tf_gpu\\lib\\site-packages\\sklearn\\metrics\\_classification.py:1565: UndefinedMetricWarning: Precision is ill-defined and being set to 0.0 due to no predicted samples. Use `zero_division` parameter to control this behavior.\n",
      "  _warn_prf(average, modifier, f\"{metric.capitalize()} is\", len(result))\n"
     ]
    },
    {
     "name": "stdout",
     "output_type": "stream",
     "text": [
      "754\n",
      "1/1 [==============================] - 0s 12ms/step\n",
      "(512, 512, 2)\n"
     ]
    },
    {
     "name": "stderr",
     "output_type": "stream",
     "text": [
      "c:\\Users\\ADMIN\\anaconda3\\envs\\tf_gpu\\lib\\site-packages\\sklearn\\metrics\\_classification.py:1565: UndefinedMetricWarning: Precision is ill-defined and being set to 0.0 due to no predicted samples. Use `zero_division` parameter to control this behavior.\n",
      "  _warn_prf(average, modifier, f\"{metric.capitalize()} is\", len(result))\n"
     ]
    },
    {
     "name": "stdout",
     "output_type": "stream",
     "text": [
      "763\n",
      "1/1 [==============================] - 0s 30ms/step\n",
      "(512, 512, 2)\n"
     ]
    },
    {
     "name": "stderr",
     "output_type": "stream",
     "text": [
      "c:\\Users\\ADMIN\\anaconda3\\envs\\tf_gpu\\lib\\site-packages\\sklearn\\metrics\\_classification.py:1565: UndefinedMetricWarning: Precision is ill-defined and being set to 0.0 due to no predicted samples. Use `zero_division` parameter to control this behavior.\n",
      "  _warn_prf(average, modifier, f\"{metric.capitalize()} is\", len(result))\n"
     ]
    },
    {
     "name": "stdout",
     "output_type": "stream",
     "text": [
      "767\n",
      "1/1 [==============================] - 0s 20ms/step\n",
      "(512, 512, 2)\n"
     ]
    },
    {
     "name": "stderr",
     "output_type": "stream",
     "text": [
      "c:\\Users\\ADMIN\\anaconda3\\envs\\tf_gpu\\lib\\site-packages\\sklearn\\metrics\\_classification.py:1565: UndefinedMetricWarning: Precision is ill-defined and being set to 0.0 due to no predicted samples. Use `zero_division` parameter to control this behavior.\n",
      "  _warn_prf(average, modifier, f\"{metric.capitalize()} is\", len(result))\n"
     ]
    },
    {
     "name": "stdout",
     "output_type": "stream",
     "text": [
      "770\n",
      "1/1 [==============================] - 0s 20ms/step\n",
      "(512, 512, 2)\n"
     ]
    },
    {
     "name": "stderr",
     "output_type": "stream",
     "text": [
      "c:\\Users\\ADMIN\\anaconda3\\envs\\tf_gpu\\lib\\site-packages\\sklearn\\metrics\\_classification.py:1565: UndefinedMetricWarning: Precision is ill-defined and being set to 0.0 due to no predicted samples. Use `zero_division` parameter to control this behavior.\n",
      "  _warn_prf(average, modifier, f\"{metric.capitalize()} is\", len(result))\n"
     ]
    },
    {
     "name": "stdout",
     "output_type": "stream",
     "text": [
      "771\n",
      "1/1 [==============================] - 0s 20ms/step\n",
      "(512, 512, 2)\n"
     ]
    },
    {
     "name": "stderr",
     "output_type": "stream",
     "text": [
      "c:\\Users\\ADMIN\\anaconda3\\envs\\tf_gpu\\lib\\site-packages\\sklearn\\metrics\\_classification.py:1565: UndefinedMetricWarning: Precision is ill-defined and being set to 0.0 due to no predicted samples. Use `zero_division` parameter to control this behavior.\n",
      "  _warn_prf(average, modifier, f\"{metric.capitalize()} is\", len(result))\n"
     ]
    },
    {
     "name": "stdout",
     "output_type": "stream",
     "text": [
      "783\n",
      "1/1 [==============================] - 0s 20ms/step\n",
      "(512, 512, 2)\n"
     ]
    },
    {
     "name": "stderr",
     "output_type": "stream",
     "text": [
      "c:\\Users\\ADMIN\\anaconda3\\envs\\tf_gpu\\lib\\site-packages\\sklearn\\metrics\\_classification.py:1565: UndefinedMetricWarning: Precision is ill-defined and being set to 0.0 due to no predicted samples. Use `zero_division` parameter to control this behavior.\n",
      "  _warn_prf(average, modifier, f\"{metric.capitalize()} is\", len(result))\n"
     ]
    },
    {
     "name": "stdout",
     "output_type": "stream",
     "text": [
      "78\n",
      "1/1 [==============================] - 0s 19ms/step\n",
      "(512, 512, 2)\n"
     ]
    },
    {
     "name": "stderr",
     "output_type": "stream",
     "text": [
      "c:\\Users\\ADMIN\\anaconda3\\envs\\tf_gpu\\lib\\site-packages\\sklearn\\metrics\\_classification.py:1565: UndefinedMetricWarning: Precision is ill-defined and being set to 0.0 due to no predicted samples. Use `zero_division` parameter to control this behavior.\n",
      "  _warn_prf(average, modifier, f\"{metric.capitalize()} is\", len(result))\n"
     ]
    },
    {
     "name": "stdout",
     "output_type": "stream",
     "text": [
      "790\n",
      "1/1 [==============================] - 0s 20ms/step\n",
      "(512, 512, 2)\n"
     ]
    },
    {
     "name": "stderr",
     "output_type": "stream",
     "text": [
      "c:\\Users\\ADMIN\\anaconda3\\envs\\tf_gpu\\lib\\site-packages\\sklearn\\metrics\\_classification.py:1565: UndefinedMetricWarning: Precision is ill-defined and being set to 0.0 due to no predicted samples. Use `zero_division` parameter to control this behavior.\n",
      "  _warn_prf(average, modifier, f\"{metric.capitalize()} is\", len(result))\n"
     ]
    },
    {
     "name": "stdout",
     "output_type": "stream",
     "text": [
      "793\n",
      "1/1 [==============================] - 0s 20ms/step\n",
      "(512, 512, 2)\n"
     ]
    },
    {
     "name": "stderr",
     "output_type": "stream",
     "text": [
      "c:\\Users\\ADMIN\\anaconda3\\envs\\tf_gpu\\lib\\site-packages\\sklearn\\metrics\\_classification.py:1565: UndefinedMetricWarning: Precision is ill-defined and being set to 0.0 due to no predicted samples. Use `zero_division` parameter to control this behavior.\n",
      "  _warn_prf(average, modifier, f\"{metric.capitalize()} is\", len(result))\n"
     ]
    },
    {
     "name": "stdout",
     "output_type": "stream",
     "text": [
      "798\n",
      "1/1 [==============================] - 0s 20ms/step\n",
      "(512, 512, 2)\n"
     ]
    },
    {
     "name": "stderr",
     "output_type": "stream",
     "text": [
      "c:\\Users\\ADMIN\\anaconda3\\envs\\tf_gpu\\lib\\site-packages\\sklearn\\metrics\\_classification.py:1565: UndefinedMetricWarning: Precision is ill-defined and being set to 0.0 due to no predicted samples. Use `zero_division` parameter to control this behavior.\n",
      "  _warn_prf(average, modifier, f\"{metric.capitalize()} is\", len(result))\n"
     ]
    },
    {
     "name": "stdout",
     "output_type": "stream",
     "text": [
      "807\n",
      "1/1 [==============================] - 0s 20ms/step\n",
      "(512, 512, 2)\n"
     ]
    },
    {
     "name": "stderr",
     "output_type": "stream",
     "text": [
      "c:\\Users\\ADMIN\\anaconda3\\envs\\tf_gpu\\lib\\site-packages\\sklearn\\metrics\\_classification.py:1565: UndefinedMetricWarning: Precision is ill-defined and being set to 0.0 due to no predicted samples. Use `zero_division` parameter to control this behavior.\n",
      "  _warn_prf(average, modifier, f\"{metric.capitalize()} is\", len(result))\n"
     ]
    },
    {
     "name": "stdout",
     "output_type": "stream",
     "text": [
      "808\n",
      "1/1 [==============================] - 0s 20ms/step\n",
      "(512, 512, 2)\n",
      "80\n",
      "1/1 [==============================] - ETA: 0s"
     ]
    },
    {
     "name": "stderr",
     "output_type": "stream",
     "text": [
      "c:\\Users\\ADMIN\\anaconda3\\envs\\tf_gpu\\lib\\site-packages\\sklearn\\metrics\\_classification.py:1565: UndefinedMetricWarning: Precision is ill-defined and being set to 0.0 due to no predicted samples. Use `zero_division` parameter to control this behavior.\n",
      "  _warn_prf(average, modifier, f\"{metric.capitalize()} is\", len(result))\n"
     ]
    },
    {
     "name": "stdout",
     "output_type": "stream",
     "text": [
      "1/1 [==============================] - 0s 20ms/step\n",
      "(512, 512, 2)\n"
     ]
    },
    {
     "name": "stderr",
     "output_type": "stream",
     "text": [
      "c:\\Users\\ADMIN\\anaconda3\\envs\\tf_gpu\\lib\\site-packages\\sklearn\\metrics\\_classification.py:1565: UndefinedMetricWarning: Precision is ill-defined and being set to 0.0 due to no predicted samples. Use `zero_division` parameter to control this behavior.\n",
      "  _warn_prf(average, modifier, f\"{metric.capitalize()} is\", len(result))\n",
      "c:\\Users\\ADMIN\\anaconda3\\envs\\tf_gpu\\lib\\site-packages\\sklearn\\metrics\\_classification.py:1565: UndefinedMetricWarning: Recall is ill-defined and being set to 0.0 due to no true samples. Use `zero_division` parameter to control this behavior.\n",
      "  _warn_prf(average, modifier, f\"{metric.capitalize()} is\", len(result))\n",
      "c:\\Users\\ADMIN\\anaconda3\\envs\\tf_gpu\\lib\\site-packages\\sklearn\\metrics\\_classification.py:1565: UndefinedMetricWarning: F-score is ill-defined and being set to 0.0 due to no true nor predicted samples. Use `zero_division` parameter to control this behavior.\n",
      "  _warn_prf(average, modifier, f\"{metric.capitalize()} is\", len(result))\n"
     ]
    },
    {
     "name": "stdout",
     "output_type": "stream",
     "text": [
      "810\n",
      "1/1 [==============================] - 0s 20ms/step\n",
      "(512, 512, 2)\n"
     ]
    },
    {
     "name": "stderr",
     "output_type": "stream",
     "text": [
      "c:\\Users\\ADMIN\\anaconda3\\envs\\tf_gpu\\lib\\site-packages\\sklearn\\metrics\\_classification.py:1565: UndefinedMetricWarning: Precision is ill-defined and being set to 0.0 due to no predicted samples. Use `zero_division` parameter to control this behavior.\n",
      "  _warn_prf(average, modifier, f\"{metric.capitalize()} is\", len(result))\n",
      "c:\\Users\\ADMIN\\anaconda3\\envs\\tf_gpu\\lib\\site-packages\\sklearn\\metrics\\_classification.py:1565: UndefinedMetricWarning: Recall is ill-defined and being set to 0.0 due to no true samples. Use `zero_division` parameter to control this behavior.\n",
      "  _warn_prf(average, modifier, f\"{metric.capitalize()} is\", len(result))\n",
      "c:\\Users\\ADMIN\\anaconda3\\envs\\tf_gpu\\lib\\site-packages\\sklearn\\metrics\\_classification.py:1565: UndefinedMetricWarning: F-score is ill-defined and being set to 0.0 due to no true nor predicted samples. Use `zero_division` parameter to control this behavior.\n",
      "  _warn_prf(average, modifier, f\"{metric.capitalize()} is\", len(result))\n"
     ]
    },
    {
     "name": "stdout",
     "output_type": "stream",
     "text": [
      "814\n",
      "1/1 [==============================] - 0s 20ms/step\n",
      "(512, 512, 2)\n"
     ]
    },
    {
     "name": "stderr",
     "output_type": "stream",
     "text": [
      "c:\\Users\\ADMIN\\anaconda3\\envs\\tf_gpu\\lib\\site-packages\\sklearn\\metrics\\_classification.py:1565: UndefinedMetricWarning: Precision is ill-defined and being set to 0.0 due to no predicted samples. Use `zero_division` parameter to control this behavior.\n",
      "  _warn_prf(average, modifier, f\"{metric.capitalize()} is\", len(result))\n"
     ]
    },
    {
     "name": "stdout",
     "output_type": "stream",
     "text": [
      "837\n",
      "1/1 [==============================] - 0s 20ms/step\n",
      "(512, 512, 2)\n"
     ]
    },
    {
     "name": "stderr",
     "output_type": "stream",
     "text": [
      "c:\\Users\\ADMIN\\anaconda3\\envs\\tf_gpu\\lib\\site-packages\\sklearn\\metrics\\_classification.py:1565: UndefinedMetricWarning: Precision is ill-defined and being set to 0.0 due to no predicted samples. Use `zero_division` parameter to control this behavior.\n",
      "  _warn_prf(average, modifier, f\"{metric.capitalize()} is\", len(result))\n"
     ]
    },
    {
     "name": "stdout",
     "output_type": "stream",
     "text": [
      "838\n",
      "1/1 [==============================] - 0s 20ms/step\n",
      "(512, 512, 2)\n"
     ]
    },
    {
     "name": "stderr",
     "output_type": "stream",
     "text": [
      "c:\\Users\\ADMIN\\anaconda3\\envs\\tf_gpu\\lib\\site-packages\\sklearn\\metrics\\_classification.py:1565: UndefinedMetricWarning: Precision is ill-defined and being set to 0.0 due to no predicted samples. Use `zero_division` parameter to control this behavior.\n",
      "  _warn_prf(average, modifier, f\"{metric.capitalize()} is\", len(result))\n"
     ]
    },
    {
     "name": "stdout",
     "output_type": "stream",
     "text": [
      "846\n",
      "1/1 [==============================] - 0s 20ms/step\n",
      "(512, 512, 2)\n"
     ]
    },
    {
     "name": "stderr",
     "output_type": "stream",
     "text": [
      "c:\\Users\\ADMIN\\anaconda3\\envs\\tf_gpu\\lib\\site-packages\\sklearn\\metrics\\_classification.py:1565: UndefinedMetricWarning: Precision is ill-defined and being set to 0.0 due to no predicted samples. Use `zero_division` parameter to control this behavior.\n",
      "  _warn_prf(average, modifier, f\"{metric.capitalize()} is\", len(result))\n"
     ]
    },
    {
     "name": "stdout",
     "output_type": "stream",
     "text": [
      "847\n",
      "1/1 [==============================] - 0s 20ms/step\n",
      "(512, 512, 2)\n"
     ]
    },
    {
     "name": "stderr",
     "output_type": "stream",
     "text": [
      "c:\\Users\\ADMIN\\anaconda3\\envs\\tf_gpu\\lib\\site-packages\\sklearn\\metrics\\_classification.py:1565: UndefinedMetricWarning: Precision is ill-defined and being set to 0.0 due to no predicted samples. Use `zero_division` parameter to control this behavior.\n",
      "  _warn_prf(average, modifier, f\"{metric.capitalize()} is\", len(result))\n"
     ]
    },
    {
     "name": "stdout",
     "output_type": "stream",
     "text": [
      "848\n",
      "1/1 [==============================] - 0s 20ms/step\n",
      "(512, 512, 2)\n"
     ]
    },
    {
     "name": "stderr",
     "output_type": "stream",
     "text": [
      "c:\\Users\\ADMIN\\anaconda3\\envs\\tf_gpu\\lib\\site-packages\\sklearn\\metrics\\_classification.py:1565: UndefinedMetricWarning: Precision is ill-defined and being set to 0.0 due to no predicted samples. Use `zero_division` parameter to control this behavior.\n",
      "  _warn_prf(average, modifier, f\"{metric.capitalize()} is\", len(result))\n"
     ]
    },
    {
     "name": "stdout",
     "output_type": "stream",
     "text": [
      "851\n",
      "1/1 [==============================] - 0s 20ms/step\n",
      "(512, 512, 2)\n"
     ]
    },
    {
     "name": "stderr",
     "output_type": "stream",
     "text": [
      "c:\\Users\\ADMIN\\anaconda3\\envs\\tf_gpu\\lib\\site-packages\\sklearn\\metrics\\_classification.py:1565: UndefinedMetricWarning: Precision is ill-defined and being set to 0.0 due to no predicted samples. Use `zero_division` parameter to control this behavior.\n",
      "  _warn_prf(average, modifier, f\"{metric.capitalize()} is\", len(result))\n"
     ]
    },
    {
     "name": "stdout",
     "output_type": "stream",
     "text": [
      "860\n",
      "1/1 [==============================] - 0s 20ms/step\n",
      "(512, 512, 2)\n"
     ]
    },
    {
     "name": "stderr",
     "output_type": "stream",
     "text": [
      "c:\\Users\\ADMIN\\anaconda3\\envs\\tf_gpu\\lib\\site-packages\\sklearn\\metrics\\_classification.py:1565: UndefinedMetricWarning: Precision is ill-defined and being set to 0.0 due to no predicted samples. Use `zero_division` parameter to control this behavior.\n",
      "  _warn_prf(average, modifier, f\"{metric.capitalize()} is\", len(result))\n"
     ]
    },
    {
     "name": "stdout",
     "output_type": "stream",
     "text": [
      "864\n",
      "1/1 [==============================] - 0s 20ms/step\n",
      "(512, 512, 2)\n"
     ]
    },
    {
     "name": "stderr",
     "output_type": "stream",
     "text": [
      "c:\\Users\\ADMIN\\anaconda3\\envs\\tf_gpu\\lib\\site-packages\\sklearn\\metrics\\_classification.py:1565: UndefinedMetricWarning: Precision is ill-defined and being set to 0.0 due to no predicted samples. Use `zero_division` parameter to control this behavior.\n",
      "  _warn_prf(average, modifier, f\"{metric.capitalize()} is\", len(result))\n"
     ]
    },
    {
     "name": "stdout",
     "output_type": "stream",
     "text": [
      "865\n",
      "1/1 [==============================] - 0s 20ms/step\n",
      "(512, 512, 2)\n"
     ]
    },
    {
     "name": "stderr",
     "output_type": "stream",
     "text": [
      "c:\\Users\\ADMIN\\anaconda3\\envs\\tf_gpu\\lib\\site-packages\\sklearn\\metrics\\_classification.py:1565: UndefinedMetricWarning: Precision is ill-defined and being set to 0.0 due to no predicted samples. Use `zero_division` parameter to control this behavior.\n",
      "  _warn_prf(average, modifier, f\"{metric.capitalize()} is\", len(result))\n"
     ]
    },
    {
     "name": "stdout",
     "output_type": "stream",
     "text": [
      "875\n",
      "1/1 [==============================] - 0s 20ms/step\n",
      "(512, 512, 2)\n"
     ]
    },
    {
     "name": "stderr",
     "output_type": "stream",
     "text": [
      "c:\\Users\\ADMIN\\anaconda3\\envs\\tf_gpu\\lib\\site-packages\\sklearn\\metrics\\_classification.py:1565: UndefinedMetricWarning: Precision is ill-defined and being set to 0.0 due to no predicted samples. Use `zero_division` parameter to control this behavior.\n",
      "  _warn_prf(average, modifier, f\"{metric.capitalize()} is\", len(result))\n"
     ]
    },
    {
     "name": "stdout",
     "output_type": "stream",
     "text": [
      "879\n",
      "1/1 [==============================] - 0s 20ms/step\n",
      "(512, 512, 2)\n"
     ]
    },
    {
     "name": "stderr",
     "output_type": "stream",
     "text": [
      "c:\\Users\\ADMIN\\anaconda3\\envs\\tf_gpu\\lib\\site-packages\\sklearn\\metrics\\_classification.py:1565: UndefinedMetricWarning: Precision is ill-defined and being set to 0.0 due to no predicted samples. Use `zero_division` parameter to control this behavior.\n",
      "  _warn_prf(average, modifier, f\"{metric.capitalize()} is\", len(result))\n"
     ]
    },
    {
     "name": "stdout",
     "output_type": "stream",
     "text": [
      "883\n",
      "1/1 [==============================] - 0s 20ms/step\n",
      "(512, 512, 2)\n"
     ]
    },
    {
     "name": "stderr",
     "output_type": "stream",
     "text": [
      "c:\\Users\\ADMIN\\anaconda3\\envs\\tf_gpu\\lib\\site-packages\\sklearn\\metrics\\_classification.py:1565: UndefinedMetricWarning: Precision is ill-defined and being set to 0.0 due to no predicted samples. Use `zero_division` parameter to control this behavior.\n",
      "  _warn_prf(average, modifier, f\"{metric.capitalize()} is\", len(result))\n"
     ]
    },
    {
     "name": "stdout",
     "output_type": "stream",
     "text": [
      "88\n",
      "1/1 [==============================] - 0s 20ms/step\n",
      "(512, 512, 2)\n"
     ]
    },
    {
     "name": "stderr",
     "output_type": "stream",
     "text": [
      "c:\\Users\\ADMIN\\anaconda3\\envs\\tf_gpu\\lib\\site-packages\\sklearn\\metrics\\_classification.py:1565: UndefinedMetricWarning: Precision is ill-defined and being set to 0.0 due to no predicted samples. Use `zero_division` parameter to control this behavior.\n",
      "  _warn_prf(average, modifier, f\"{metric.capitalize()} is\", len(result))\n",
      "c:\\Users\\ADMIN\\anaconda3\\envs\\tf_gpu\\lib\\site-packages\\sklearn\\metrics\\_classification.py:1565: UndefinedMetricWarning: Recall is ill-defined and being set to 0.0 due to no true samples. Use `zero_division` parameter to control this behavior.\n",
      "  _warn_prf(average, modifier, f\"{metric.capitalize()} is\", len(result))\n",
      "c:\\Users\\ADMIN\\anaconda3\\envs\\tf_gpu\\lib\\site-packages\\sklearn\\metrics\\_classification.py:1565: UndefinedMetricWarning: F-score is ill-defined and being set to 0.0 due to no true nor predicted samples. Use `zero_division` parameter to control this behavior.\n",
      "  _warn_prf(average, modifier, f\"{metric.capitalize()} is\", len(result))\n"
     ]
    },
    {
     "name": "stdout",
     "output_type": "stream",
     "text": [
      "890\n",
      "1/1 [==============================] - 0s 20ms/step\n",
      "(512, 512, 2)\n"
     ]
    },
    {
     "name": "stderr",
     "output_type": "stream",
     "text": [
      "c:\\Users\\ADMIN\\anaconda3\\envs\\tf_gpu\\lib\\site-packages\\sklearn\\metrics\\_classification.py:1565: UndefinedMetricWarning: Precision is ill-defined and being set to 0.0 due to no predicted samples. Use `zero_division` parameter to control this behavior.\n",
      "  _warn_prf(average, modifier, f\"{metric.capitalize()} is\", len(result))\n"
     ]
    },
    {
     "name": "stdout",
     "output_type": "stream",
     "text": [
      "893\n",
      "1/1 [==============================] - 0s 20ms/step\n",
      "(512, 512, 2)\n"
     ]
    },
    {
     "name": "stderr",
     "output_type": "stream",
     "text": [
      "c:\\Users\\ADMIN\\anaconda3\\envs\\tf_gpu\\lib\\site-packages\\sklearn\\metrics\\_classification.py:1565: UndefinedMetricWarning: Precision is ill-defined and being set to 0.0 due to no predicted samples. Use `zero_division` parameter to control this behavior.\n",
      "  _warn_prf(average, modifier, f\"{metric.capitalize()} is\", len(result))\n"
     ]
    },
    {
     "name": "stdout",
     "output_type": "stream",
     "text": [
      "8\n",
      "1/1 [==============================] - 0s 20ms/step\n",
      "(512, 512, 2)\n"
     ]
    },
    {
     "name": "stderr",
     "output_type": "stream",
     "text": [
      "c:\\Users\\ADMIN\\anaconda3\\envs\\tf_gpu\\lib\\site-packages\\sklearn\\metrics\\_classification.py:1565: UndefinedMetricWarning: Precision is ill-defined and being set to 0.0 due to no predicted samples. Use `zero_division` parameter to control this behavior.\n",
      "  _warn_prf(average, modifier, f\"{metric.capitalize()} is\", len(result))\n"
     ]
    },
    {
     "name": "stdout",
     "output_type": "stream",
     "text": [
      "900\n",
      "1/1 [==============================] - 0s 20ms/step\n",
      "(512, 512, 2)\n"
     ]
    },
    {
     "name": "stderr",
     "output_type": "stream",
     "text": [
      "c:\\Users\\ADMIN\\anaconda3\\envs\\tf_gpu\\lib\\site-packages\\sklearn\\metrics\\_classification.py:1565: UndefinedMetricWarning: Precision is ill-defined and being set to 0.0 due to no predicted samples. Use `zero_division` parameter to control this behavior.\n",
      "  _warn_prf(average, modifier, f\"{metric.capitalize()} is\", len(result))\n"
     ]
    },
    {
     "name": "stdout",
     "output_type": "stream",
     "text": [
      "911\n",
      "1/1 [==============================] - 0s 28ms/step\n",
      "(512, 512, 2)\n"
     ]
    },
    {
     "name": "stderr",
     "output_type": "stream",
     "text": [
      "c:\\Users\\ADMIN\\anaconda3\\envs\\tf_gpu\\lib\\site-packages\\sklearn\\metrics\\_classification.py:1565: UndefinedMetricWarning: Precision is ill-defined and being set to 0.0 due to no predicted samples. Use `zero_division` parameter to control this behavior.\n",
      "  _warn_prf(average, modifier, f\"{metric.capitalize()} is\", len(result))\n"
     ]
    },
    {
     "name": "stdout",
     "output_type": "stream",
     "text": [
      "914\n",
      "1/1 [==============================] - 0s 20ms/step\n",
      "(512, 512, 2)\n"
     ]
    },
    {
     "name": "stderr",
     "output_type": "stream",
     "text": [
      "c:\\Users\\ADMIN\\anaconda3\\envs\\tf_gpu\\lib\\site-packages\\sklearn\\metrics\\_classification.py:1565: UndefinedMetricWarning: Precision is ill-defined and being set to 0.0 due to no predicted samples. Use `zero_division` parameter to control this behavior.\n",
      "  _warn_prf(average, modifier, f\"{metric.capitalize()} is\", len(result))\n"
     ]
    },
    {
     "name": "stdout",
     "output_type": "stream",
     "text": [
      "918\n",
      "1/1 [==============================] - 0s 20ms/step\n",
      "(512, 512, 2)\n",
      "91\n",
      "1/1 [==============================] - ETA: 0s"
     ]
    },
    {
     "name": "stderr",
     "output_type": "stream",
     "text": [
      "c:\\Users\\ADMIN\\anaconda3\\envs\\tf_gpu\\lib\\site-packages\\sklearn\\metrics\\_classification.py:1565: UndefinedMetricWarning: Precision is ill-defined and being set to 0.0 due to no predicted samples. Use `zero_division` parameter to control this behavior.\n",
      "  _warn_prf(average, modifier, f\"{metric.capitalize()} is\", len(result))\n"
     ]
    },
    {
     "name": "stdout",
     "output_type": "stream",
     "text": [
      "1/1 [==============================] - 0s 20ms/step\n",
      "(512, 512, 2)\n"
     ]
    },
    {
     "name": "stderr",
     "output_type": "stream",
     "text": [
      "c:\\Users\\ADMIN\\anaconda3\\envs\\tf_gpu\\lib\\site-packages\\sklearn\\metrics\\_classification.py:1565: UndefinedMetricWarning: Precision is ill-defined and being set to 0.0 due to no predicted samples. Use `zero_division` parameter to control this behavior.\n",
      "  _warn_prf(average, modifier, f\"{metric.capitalize()} is\", len(result))\n",
      "c:\\Users\\ADMIN\\anaconda3\\envs\\tf_gpu\\lib\\site-packages\\sklearn\\metrics\\_classification.py:1565: UndefinedMetricWarning: Recall is ill-defined and being set to 0.0 due to no true samples. Use `zero_division` parameter to control this behavior.\n",
      "  _warn_prf(average, modifier, f\"{metric.capitalize()} is\", len(result))\n",
      "c:\\Users\\ADMIN\\anaconda3\\envs\\tf_gpu\\lib\\site-packages\\sklearn\\metrics\\_classification.py:1565: UndefinedMetricWarning: F-score is ill-defined and being set to 0.0 due to no true nor predicted samples. Use `zero_division` parameter to control this behavior.\n",
      "  _warn_prf(average, modifier, f\"{metric.capitalize()} is\", len(result))\n"
     ]
    },
    {
     "name": "stdout",
     "output_type": "stream",
     "text": [
      "925\n",
      "1/1 [==============================] - 0s 20ms/step\n",
      "(512, 512, 2)\n"
     ]
    },
    {
     "name": "stderr",
     "output_type": "stream",
     "text": [
      "c:\\Users\\ADMIN\\anaconda3\\envs\\tf_gpu\\lib\\site-packages\\sklearn\\metrics\\_classification.py:1565: UndefinedMetricWarning: Precision is ill-defined and being set to 0.0 due to no predicted samples. Use `zero_division` parameter to control this behavior.\n",
      "  _warn_prf(average, modifier, f\"{metric.capitalize()} is\", len(result))\n"
     ]
    },
    {
     "name": "stdout",
     "output_type": "stream",
     "text": [
      "928\n",
      "1/1 [==============================] - 0s 20ms/step\n",
      "(512, 512, 2)\n"
     ]
    },
    {
     "name": "stderr",
     "output_type": "stream",
     "text": [
      "c:\\Users\\ADMIN\\anaconda3\\envs\\tf_gpu\\lib\\site-packages\\sklearn\\metrics\\_classification.py:1565: UndefinedMetricWarning: Precision is ill-defined and being set to 0.0 due to no predicted samples. Use `zero_division` parameter to control this behavior.\n",
      "  _warn_prf(average, modifier, f\"{metric.capitalize()} is\", len(result))\n"
     ]
    },
    {
     "name": "stdout",
     "output_type": "stream",
     "text": [
      "930\n",
      "1/1 [==============================] - 0s 20ms/step\n",
      "(512, 512, 2)\n"
     ]
    },
    {
     "name": "stderr",
     "output_type": "stream",
     "text": [
      "c:\\Users\\ADMIN\\anaconda3\\envs\\tf_gpu\\lib\\site-packages\\sklearn\\metrics\\_classification.py:1565: UndefinedMetricWarning: Precision is ill-defined and being set to 0.0 due to no predicted samples. Use `zero_division` parameter to control this behavior.\n",
      "  _warn_prf(average, modifier, f\"{metric.capitalize()} is\", len(result))\n"
     ]
    },
    {
     "name": "stdout",
     "output_type": "stream",
     "text": [
      "931\n",
      "1/1 [==============================] - 0s 20ms/step\n",
      "(512, 512, 2)\n"
     ]
    },
    {
     "name": "stderr",
     "output_type": "stream",
     "text": [
      "c:\\Users\\ADMIN\\anaconda3\\envs\\tf_gpu\\lib\\site-packages\\sklearn\\metrics\\_classification.py:1565: UndefinedMetricWarning: Precision is ill-defined and being set to 0.0 due to no predicted samples. Use `zero_division` parameter to control this behavior.\n",
      "  _warn_prf(average, modifier, f\"{metric.capitalize()} is\", len(result))\n"
     ]
    },
    {
     "name": "stdout",
     "output_type": "stream",
     "text": [
      "938\n",
      "1/1 [==============================] - 0s 30ms/step\n",
      "(512, 512, 2)\n",
      "93\n",
      "1/1 [==============================] - ETA: 0s"
     ]
    },
    {
     "name": "stderr",
     "output_type": "stream",
     "text": [
      "c:\\Users\\ADMIN\\anaconda3\\envs\\tf_gpu\\lib\\site-packages\\sklearn\\metrics\\_classification.py:1565: UndefinedMetricWarning: Precision is ill-defined and being set to 0.0 due to no predicted samples. Use `zero_division` parameter to control this behavior.\n",
      "  _warn_prf(average, modifier, f\"{metric.capitalize()} is\", len(result))\n"
     ]
    },
    {
     "name": "stdout",
     "output_type": "stream",
     "text": [
      "1/1 [==============================] - 0s 30ms/step\n",
      "(512, 512, 2)\n"
     ]
    },
    {
     "name": "stderr",
     "output_type": "stream",
     "text": [
      "c:\\Users\\ADMIN\\anaconda3\\envs\\tf_gpu\\lib\\site-packages\\sklearn\\metrics\\_classification.py:1565: UndefinedMetricWarning: Precision is ill-defined and being set to 0.0 due to no predicted samples. Use `zero_division` parameter to control this behavior.\n",
      "  _warn_prf(average, modifier, f\"{metric.capitalize()} is\", len(result))\n",
      "c:\\Users\\ADMIN\\anaconda3\\envs\\tf_gpu\\lib\\site-packages\\sklearn\\metrics\\_classification.py:1565: UndefinedMetricWarning: Recall is ill-defined and being set to 0.0 due to no true samples. Use `zero_division` parameter to control this behavior.\n",
      "  _warn_prf(average, modifier, f\"{metric.capitalize()} is\", len(result))\n",
      "c:\\Users\\ADMIN\\anaconda3\\envs\\tf_gpu\\lib\\site-packages\\sklearn\\metrics\\_classification.py:1565: UndefinedMetricWarning: F-score is ill-defined and being set to 0.0 due to no true nor predicted samples. Use `zero_division` parameter to control this behavior.\n",
      "  _warn_prf(average, modifier, f\"{metric.capitalize()} is\", len(result))\n"
     ]
    },
    {
     "name": "stdout",
     "output_type": "stream",
     "text": [
      "941\n",
      "1/1 [==============================] - 0s 20ms/step\n",
      "(512, 512, 2)\n"
     ]
    },
    {
     "name": "stderr",
     "output_type": "stream",
     "text": [
      "c:\\Users\\ADMIN\\anaconda3\\envs\\tf_gpu\\lib\\site-packages\\sklearn\\metrics\\_classification.py:1565: UndefinedMetricWarning: Precision is ill-defined and being set to 0.0 due to no predicted samples. Use `zero_division` parameter to control this behavior.\n",
      "  _warn_prf(average, modifier, f\"{metric.capitalize()} is\", len(result))\n"
     ]
    },
    {
     "name": "stdout",
     "output_type": "stream",
     "text": [
      "948\n",
      "1/1 [==============================] - 0s 20ms/step\n",
      "(512, 512, 2)\n"
     ]
    },
    {
     "name": "stderr",
     "output_type": "stream",
     "text": [
      "c:\\Users\\ADMIN\\anaconda3\\envs\\tf_gpu\\lib\\site-packages\\sklearn\\metrics\\_classification.py:1565: UndefinedMetricWarning: Precision is ill-defined and being set to 0.0 due to no predicted samples. Use `zero_division` parameter to control this behavior.\n",
      "  _warn_prf(average, modifier, f\"{metric.capitalize()} is\", len(result))\n",
      "c:\\Users\\ADMIN\\anaconda3\\envs\\tf_gpu\\lib\\site-packages\\sklearn\\metrics\\_classification.py:1565: UndefinedMetricWarning: Recall is ill-defined and being set to 0.0 due to no true samples. Use `zero_division` parameter to control this behavior.\n",
      "  _warn_prf(average, modifier, f\"{metric.capitalize()} is\", len(result))\n",
      "c:\\Users\\ADMIN\\anaconda3\\envs\\tf_gpu\\lib\\site-packages\\sklearn\\metrics\\_classification.py:1565: UndefinedMetricWarning: F-score is ill-defined and being set to 0.0 due to no true nor predicted samples. Use `zero_division` parameter to control this behavior.\n",
      "  _warn_prf(average, modifier, f\"{metric.capitalize()} is\", len(result))\n"
     ]
    },
    {
     "name": "stdout",
     "output_type": "stream",
     "text": [
      "950\n",
      "1/1 [==============================] - 0s 30ms/step\n",
      "(512, 512, 2)\n"
     ]
    },
    {
     "name": "stderr",
     "output_type": "stream",
     "text": [
      "c:\\Users\\ADMIN\\anaconda3\\envs\\tf_gpu\\lib\\site-packages\\sklearn\\metrics\\_classification.py:1565: UndefinedMetricWarning: Precision is ill-defined and being set to 0.0 due to no predicted samples. Use `zero_division` parameter to control this behavior.\n",
      "  _warn_prf(average, modifier, f\"{metric.capitalize()} is\", len(result))\n",
      "c:\\Users\\ADMIN\\anaconda3\\envs\\tf_gpu\\lib\\site-packages\\sklearn\\metrics\\_classification.py:1565: UndefinedMetricWarning: Recall is ill-defined and being set to 0.0 due to no true samples. Use `zero_division` parameter to control this behavior.\n",
      "  _warn_prf(average, modifier, f\"{metric.capitalize()} is\", len(result))\n",
      "c:\\Users\\ADMIN\\anaconda3\\envs\\tf_gpu\\lib\\site-packages\\sklearn\\metrics\\_classification.py:1565: UndefinedMetricWarning: F-score is ill-defined and being set to 0.0 due to no true nor predicted samples. Use `zero_division` parameter to control this behavior.\n",
      "  _warn_prf(average, modifier, f\"{metric.capitalize()} is\", len(result))\n"
     ]
    },
    {
     "name": "stdout",
     "output_type": "stream",
     "text": [
      "955\n",
      "1/1 [==============================] - 0s 20ms/step\n",
      "(512, 512, 2)\n"
     ]
    },
    {
     "name": "stderr",
     "output_type": "stream",
     "text": [
      "c:\\Users\\ADMIN\\anaconda3\\envs\\tf_gpu\\lib\\site-packages\\sklearn\\metrics\\_classification.py:1565: UndefinedMetricWarning: Precision is ill-defined and being set to 0.0 due to no predicted samples. Use `zero_division` parameter to control this behavior.\n",
      "  _warn_prf(average, modifier, f\"{metric.capitalize()} is\", len(result))\n",
      "c:\\Users\\ADMIN\\anaconda3\\envs\\tf_gpu\\lib\\site-packages\\sklearn\\metrics\\_classification.py:1565: UndefinedMetricWarning: Recall is ill-defined and being set to 0.0 due to no true samples. Use `zero_division` parameter to control this behavior.\n",
      "  _warn_prf(average, modifier, f\"{metric.capitalize()} is\", len(result))\n",
      "c:\\Users\\ADMIN\\anaconda3\\envs\\tf_gpu\\lib\\site-packages\\sklearn\\metrics\\_classification.py:1565: UndefinedMetricWarning: F-score is ill-defined and being set to 0.0 due to no true nor predicted samples. Use `zero_division` parameter to control this behavior.\n",
      "  _warn_prf(average, modifier, f\"{metric.capitalize()} is\", len(result))\n"
     ]
    },
    {
     "name": "stdout",
     "output_type": "stream",
     "text": [
      "957\n",
      "1/1 [==============================] - 0s 20ms/step\n",
      "(512, 512, 2)\n"
     ]
    },
    {
     "name": "stderr",
     "output_type": "stream",
     "text": [
      "c:\\Users\\ADMIN\\anaconda3\\envs\\tf_gpu\\lib\\site-packages\\sklearn\\metrics\\_classification.py:1565: UndefinedMetricWarning: Precision is ill-defined and being set to 0.0 due to no predicted samples. Use `zero_division` parameter to control this behavior.\n",
      "  _warn_prf(average, modifier, f\"{metric.capitalize()} is\", len(result))\n"
     ]
    },
    {
     "name": "stdout",
     "output_type": "stream",
     "text": [
      "95\n",
      "1/1 [==============================] - 0s 20ms/step\n",
      "(512, 512, 2)\n"
     ]
    },
    {
     "name": "stderr",
     "output_type": "stream",
     "text": [
      "c:\\Users\\ADMIN\\anaconda3\\envs\\tf_gpu\\lib\\site-packages\\sklearn\\metrics\\_classification.py:1565: UndefinedMetricWarning: Precision is ill-defined and being set to 0.0 due to no predicted samples. Use `zero_division` parameter to control this behavior.\n",
      "  _warn_prf(average, modifier, f\"{metric.capitalize()} is\", len(result))\n",
      "c:\\Users\\ADMIN\\anaconda3\\envs\\tf_gpu\\lib\\site-packages\\sklearn\\metrics\\_classification.py:1565: UndefinedMetricWarning: Recall is ill-defined and being set to 0.0 due to no true samples. Use `zero_division` parameter to control this behavior.\n",
      "  _warn_prf(average, modifier, f\"{metric.capitalize()} is\", len(result))\n",
      "c:\\Users\\ADMIN\\anaconda3\\envs\\tf_gpu\\lib\\site-packages\\sklearn\\metrics\\_classification.py:1565: UndefinedMetricWarning: F-score is ill-defined and being set to 0.0 due to no true nor predicted samples. Use `zero_division` parameter to control this behavior.\n",
      "  _warn_prf(average, modifier, f\"{metric.capitalize()} is\", len(result))\n"
     ]
    },
    {
     "name": "stdout",
     "output_type": "stream",
     "text": [
      "960\n",
      "1/1 [==============================] - 0s 20ms/step\n",
      "(512, 512, 2)\n"
     ]
    },
    {
     "name": "stderr",
     "output_type": "stream",
     "text": [
      "c:\\Users\\ADMIN\\anaconda3\\envs\\tf_gpu\\lib\\site-packages\\sklearn\\metrics\\_classification.py:1565: UndefinedMetricWarning: Precision is ill-defined and being set to 0.0 due to no predicted samples. Use `zero_division` parameter to control this behavior.\n",
      "  _warn_prf(average, modifier, f\"{metric.capitalize()} is\", len(result))\n"
     ]
    },
    {
     "name": "stdout",
     "output_type": "stream",
     "text": [
      "974\n",
      "1/1 [==============================] - 0s 30ms/step\n",
      "(512, 512, 2)\n"
     ]
    },
    {
     "name": "stderr",
     "output_type": "stream",
     "text": [
      "c:\\Users\\ADMIN\\anaconda3\\envs\\tf_gpu\\lib\\site-packages\\sklearn\\metrics\\_classification.py:1565: UndefinedMetricWarning: Precision is ill-defined and being set to 0.0 due to no predicted samples. Use `zero_division` parameter to control this behavior.\n",
      "  _warn_prf(average, modifier, f\"{metric.capitalize()} is\", len(result))\n"
     ]
    },
    {
     "name": "stdout",
     "output_type": "stream",
     "text": [
      "983\n",
      "1/1 [==============================] - 0s 21ms/step\n",
      "(512, 512, 2)\n"
     ]
    },
    {
     "name": "stderr",
     "output_type": "stream",
     "text": [
      "c:\\Users\\ADMIN\\anaconda3\\envs\\tf_gpu\\lib\\site-packages\\sklearn\\metrics\\_classification.py:1565: UndefinedMetricWarning: Precision is ill-defined and being set to 0.0 due to no predicted samples. Use `zero_division` parameter to control this behavior.\n",
      "  _warn_prf(average, modifier, f\"{metric.capitalize()} is\", len(result))\n"
     ]
    },
    {
     "name": "stdout",
     "output_type": "stream",
     "text": [
      "986\n",
      "1/1 [==============================] - 0s 20ms/step\n",
      "(512, 512, 2)\n"
     ]
    },
    {
     "name": "stderr",
     "output_type": "stream",
     "text": [
      "c:\\Users\\ADMIN\\anaconda3\\envs\\tf_gpu\\lib\\site-packages\\sklearn\\metrics\\_classification.py:1565: UndefinedMetricWarning: Precision is ill-defined and being set to 0.0 due to no predicted samples. Use `zero_division` parameter to control this behavior.\n",
      "  _warn_prf(average, modifier, f\"{metric.capitalize()} is\", len(result))\n"
     ]
    },
    {
     "name": "stdout",
     "output_type": "stream",
     "text": [
      "9\n",
      "1/1 [==============================] - 0s 20ms/step\n",
      "(512, 512, 2)\n",
      "Mean Dice Coefficient: 0.08636627829703292\n",
      "Mean IoU: 0.08636627829703292\n",
      "Mean Precision: 0.0\n",
      "Mean Recall: 0.0\n",
      "Mean F1 Score: 0.0\n"
     ]
    },
    {
     "name": "stderr",
     "output_type": "stream",
     "text": [
      "c:\\Users\\ADMIN\\anaconda3\\envs\\tf_gpu\\lib\\site-packages\\sklearn\\metrics\\_classification.py:1565: UndefinedMetricWarning: Precision is ill-defined and being set to 0.0 due to no predicted samples. Use `zero_division` parameter to control this behavior.\n",
      "  _warn_prf(average, modifier, f\"{metric.capitalize()} is\", len(result))\n"
     ]
    },
    {
     "data": {
      "text/plain": [
       "(0.08636627829703292, 0.08636627829703292, 0.0, 0.0, 0.0)"
      ]
     },
     "execution_count": 14,
     "metadata": {},
     "output_type": "execute_result"
    }
   ],
   "source": [
    "# model_name = 'UNet_dense_GEE_20_epoch_22_with_diff_kernels'\n",
    "model = tf.keras.models.load_model(model_name, compile=False)\n",
    "model.compile()\n",
    "predict1(model,mask_dir,input_dir,output_dir,BACKBONE)"
   ]
  }
 ],
 "metadata": {
  "kernelspec": {
   "display_name": "tf_gpu",
   "language": "python",
   "name": "python3"
  },
  "language_info": {
   "codemirror_mode": {
    "name": "ipython",
    "version": 3
   },
   "file_extension": ".py",
   "mimetype": "text/x-python",
   "name": "python",
   "nbconvert_exporter": "python",
   "pygments_lexer": "ipython3",
   "version": "3.10.16"
  }
 },
 "nbformat": 4,
 "nbformat_minor": 2
}
