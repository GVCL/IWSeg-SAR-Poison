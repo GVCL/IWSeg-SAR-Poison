{
 "cells": [
  {
   "cell_type": "code",
   "execution_count": 5,
   "metadata": {},
   "outputs": [
    {
     "name": "stdout",
     "output_type": "stream",
     "text": [
      "Copied 631 files to ./GEE_Masks/GEE_resized/train_gee\n",
      "Copied 632 files to ./GEE_Masks/GEE_resized/test_gee\n"
     ]
    }
   ],
   "source": [
    "import os\n",
    "import shutil\n",
    "import random\n",
    "\n",
    "# Define the source directory and the destination directories\n",
    "source_dir = './GEE_Masks/GEE_resized/'\n",
    "dest_dir_1 = './GEE_Masks/GEE_resized/train_gee'\n",
    "dest_dir_2 = './GEE_Masks/GEE_resized/test_gee'\n",
    "\n",
    "# Create destination directories if they don't exist\n",
    "os.makedirs(dest_dir_1, exist_ok=True)\n",
    "os.makedirs(dest_dir_2, exist_ok=True)\n",
    "\n",
    "# Get a list of all the image files\n",
    "all_files = [f for f in os.listdir(source_dir) if f.startswith('NDWI_Mask_') and f.endswith('_resized.tif')]\n",
    "\n",
    "# Shuffle the list to ensure randomness\n",
    "random.shuffle(all_files)\n",
    "\n",
    "# Split the files into two sets\n",
    "split_index = len(all_files) // 2\n",
    "set_1 = all_files[:split_index]\n",
    "set_2 = all_files[split_index:]\n",
    "\n",
    "# Copy files to the first destination directory\n",
    "for file_name in set_1:\n",
    "    shutil.copy(os.path.join(source_dir, file_name), os.path.join(dest_dir_1, file_name))\n",
    "\n",
    "# Copy files to the second destination directory\n",
    "for file_name in set_2:\n",
    "    shutil.copy(os.path.join(source_dir, file_name), os.path.join(dest_dir_2, file_name))\n",
    "\n",
    "print(f'Copied {len(set_1)} files to {dest_dir_1}')\n",
    "print(f'Copied {len(set_2)} files to {dest_dir_2}')\n"
   ]
  },
  {
   "cell_type": "code",
   "execution_count": null,
   "metadata": {},
   "outputs": [],
   "source": []
  }
 ],
 "metadata": {
  "kernelspec": {
   "display_name": "Python 3",
   "language": "python",
   "name": "python3"
  },
  "language_info": {
   "codemirror_mode": {
    "name": "ipython",
    "version": 3
   },
   "file_extension": ".py",
   "mimetype": "text/x-python",
   "name": "python",
   "nbconvert_exporter": "python",
   "pygments_lexer": "ipython3",
   "version": "3.11.7"
  }
 },
 "nbformat": 4,
 "nbformat_minor": 2
}
