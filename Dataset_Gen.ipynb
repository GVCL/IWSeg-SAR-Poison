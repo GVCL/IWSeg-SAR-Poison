{
 "cells": [
  {
   "cell_type": "code",
   "execution_count": 9,
   "metadata": {},
   "outputs": [
    {
     "name": "stdout",
     "output_type": "stream",
     "text": [
      "Copied 1010 files to ./GEE_Masks/GEE_resized/train_gee\n",
      "Copied 253 files to ./GEE_Masks/GEE_resized/test_gee\n",
      "Copied 1010 files to ./GEE_Masks/GEE_resized/combined_gee\n"
     ]
    }
   ],
   "source": [
    "import os\n",
    "import shutil\n",
    "import random\n",
    "\n",
    "# Define the source directory and the destination directories\n",
    "source_dir = './GEE_Masks/GEE_resized/'\n",
    "train_dir = './GEE_Masks/GEE_resized/train_gee'\n",
    "combined_dir = './GEE_Masks/GEE_resized/combined_gee'\n",
    "test_dir = './GEE_Masks/GEE_resized/test_gee'\n",
    "\n",
    "# Create destination directories if they don't exist\n",
    "os.makedirs(train_dir, exist_ok=True)\n",
    "os.makedirs(combined_dir, exist_ok=True)\n",
    "os.makedirs(test_dir, exist_ok=True)\n",
    "\n",
    "# Get a list of all the image files\n",
    "all_files = [f for f in os.listdir(source_dir) if f.startswith('NDWI_Mask_') and f.endswith('_resized.tif')]\n",
    "\n",
    "# Shuffle the list to ensure randomness\n",
    "random.shuffle(all_files)\n",
    "\n",
    "# Calculate the split index for 80:20 split\n",
    "train_split_index = int(len(all_files) * 0.8)\n",
    "\n",
    "# Split the files into two sets\n",
    "train_files = all_files[:train_split_index]  # 80% for training\n",
    "test_files = all_files[train_split_index:]  # 20% for testing\n",
    "\n",
    "# Copy files to the training directory and combined directory\n",
    "for file_name in train_files:\n",
    "    shutil.copy(os.path.join(source_dir, file_name), os.path.join(train_dir, file_name))\n",
    "    shutil.copy(os.path.join(source_dir, file_name), os.path.join(combined_dir, file_name))\n",
    "\n",
    "# Copy files to the testing directory\n",
    "for file_name in test_files:\n",
    "    shutil.copy(os.path.join(source_dir, file_name), os.path.join(test_dir, file_name))\n",
    "\n",
    "print(f'Copied {len(train_files)} files to {train_dir}')\n",
    "print(f'Copied {len(test_files)} files to {test_dir}')\n",
    "print(f'Copied {len(train_files)} files to {combined_dir}')\n"
   ]
  },
  {
   "cell_type": "code",
   "execution_count": 8,
   "metadata": {},
   "outputs": [
    {
     "name": "stdout",
     "output_type": "stream",
     "text": [
      "Split train set into 294 files per part\n",
      "Split validation set into 42 files per part\n",
      "Copied 253 files to ./GEE_Masks/GEE_resized/test_gee\n",
      "Copied 336 files to ./GEE_Masks/GEE_resized/combined_erosion\n",
      "Copied 336 files to ./GEE_Masks/GEE_resized/combined_dilation\n"
     ]
    }
   ],
   "source": [
    "# import os\n",
    "# import shutil\n",
    "\n",
    "# def split_into_three_equal_parts(file_list):\n",
    "#     part_size = len(file_list) // 3\n",
    "#     return (file_list[:part_size], \n",
    "#             file_list[part_size:part_size*2], \n",
    "#             file_list[part_size*2:])\n",
    "\n",
    "# # Split the train and validation files into three equal parts\n",
    "# train_part_1, train_part_2, train_part_3 = split_into_three_equal_parts(train_files)\n",
    "# validation_part_1, validation_part_2, validation_part_3 = split_into_three_equal_parts(validation_files)\n",
    "\n",
    "# # Define new directories for the three parts of training and validation sets\n",
    "# train_part_dirs = ['./GEE_Masks/GEE_resized/train_gee_erosion', './GEE_Masks/GEE_resized/train_gee_dilation', './GEE_Masks/GEE_resized/train_gee_normal']\n",
    "# validation_part_dirs = ['./GEE_Masks/GEE_resized/validation_gee_erosion', './GEE_Masks/GEE_resized/validation_gee_dilation', './GEE_Masks/GEE_resized/validation_gee_normal']\n",
    "\n",
    "# # Define directories for combined erosion and dilation\n",
    "# combined_erosion_dir = './GEE_Masks/GEE_resized/combined_erosion'\n",
    "# combined_dilation_dir = './GEE_Masks/GEE_resized/combined_dilation'\n",
    "\n",
    "# # Create these directories if they don't exist\n",
    "# for directory in train_part_dirs + validation_part_dirs + [combined_erosion_dir, combined_dilation_dir]:\n",
    "#     os.makedirs(directory, exist_ok=True)\n",
    "\n",
    "# # Copy train files to their respective parts\n",
    "# for file_list, part_dir in zip([train_part_1, train_part_2, train_part_3], train_part_dirs):\n",
    "#     for file_name in file_list:\n",
    "#         shutil.copy(os.path.join(source_dir, file_name), os.path.join(part_dir, file_name))\n",
    "\n",
    "# # Copy validation files to their respective parts\n",
    "# for file_list, part_dir in zip([validation_part_1, validation_part_2, validation_part_3], validation_part_dirs):\n",
    "#     for file_name in file_list:\n",
    "#         shutil.copy(os.path.join(source_dir, file_name), os.path.join(part_dir, file_name))\n",
    "\n",
    "# # Copy train and validation erosion files to combined erosion directory\n",
    "# for file_name in train_part_1 + validation_part_1:\n",
    "#     shutil.copy(os.path.join(source_dir, file_name), os.path.join(combined_erosion_dir, file_name))\n",
    "\n",
    "# # Copy train and validation dilation files to combined dilation directory\n",
    "# for file_name in train_part_2 + validation_part_2:\n",
    "#     shutil.copy(os.path.join(source_dir, file_name), os.path.join(combined_dilation_dir, file_name))\n",
    "\n",
    "# # Copy files to the testing directory\n",
    "# for file_name in test_files:\n",
    "#     shutil.copy(os.path.join(source_dir, file_name), os.path.join(test_dir, file_name))\n",
    "\n",
    "# print(f'Split train set into {len(train_part_1)} files per part')\n",
    "# print(f'Split validation set into {len(validation_part_1)} files per part')\n",
    "# print(f'Copied {len(test_files)} files to {test_dir}')\n",
    "# print(f'Copied {len(train_part_1 + validation_part_1)} files to {combined_erosion_dir}')\n",
    "# print(f'Copied {len(train_part_2 + validation_part_2)} files to {combined_dilation_dir}')\n"
   ]
  },
  {
   "cell_type": "code",
   "execution_count": null,
   "metadata": {},
   "outputs": [],
   "source": []
  }
 ],
 "metadata": {
  "kernelspec": {
   "display_name": "Python 3",
   "language": "python",
   "name": "python3"
  },
  "language_info": {
   "codemirror_mode": {
    "name": "ipython",
    "version": 3
   },
   "file_extension": ".py",
   "mimetype": "text/x-python",
   "name": "python",
   "nbconvert_exporter": "python",
   "pygments_lexer": "ipython3",
   "version": "3.11.7"
  }
 },
 "nbformat": 4,
 "nbformat_minor": 2
}
