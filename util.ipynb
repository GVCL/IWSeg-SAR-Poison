{
 "cells": [
  {
   "cell_type": "code",
   "execution_count": 1,
   "metadata": {},
   "outputs": [
    {
     "name": "stdout",
     "output_type": "stream",
     "text": [
      "Separation complete.\n"
     ]
    }
   ],
   "source": [
    "import os\n",
    "import shutil\n",
    "\n",
    "# Define paths\n",
    "original_images_dir = \"./data_new\"\n",
    "train_masks_dir = \"./GEE_Masks/GEE_resized/train_gee/train_0_gee_with_diff_kernels\"\n",
    "test_masks_dir = \"./GEE_Masks/GEE_resized/test_gee\"\n",
    "train_images_dir = \"./data_new/train\"\n",
    "test_images_dir = \"./data_new/test\"\n",
    "\n",
    "# Ensure output directories exist\n",
    "os.makedirs(train_images_dir, exist_ok=True)\n",
    "os.makedirs(test_images_dir, exist_ok=True)\n",
    "\n",
    "# Extract numbers from mask filenames\n",
    "def extract_numbers_from_masks(mask_dir):\n",
    "    return {f.split(\"_\")[2] for f in os.listdir(mask_dir) if f.endswith(\".tif\")}\n",
    "\n",
    "train_numbers = extract_numbers_from_masks(train_masks_dir)\n",
    "test_numbers = extract_numbers_from_masks(test_masks_dir)\n",
    "\n",
    "# Move matching images\n",
    "for filename in os.listdir(original_images_dir):\n",
    "    if filename.endswith(\".tif\"):\n",
    "        number = filename.split(\".\")[0]  # Extract number\n",
    "        src_path = os.path.join(original_images_dir, filename)\n",
    "        \n",
    "        if number in train_numbers:\n",
    "            shutil.copy(src_path, os.path.join(train_images_dir, filename))\n",
    "        elif number in test_numbers:\n",
    "            shutil.copy(src_path, os.path.join(test_images_dir, filename))\n",
    "\n",
    "print(\"Separation complete.\")"
   ]
  }
 ],
 "metadata": {
  "kernelspec": {
   "display_name": "base",
   "language": "python",
   "name": "python3"
  },
  "language_info": {
   "codemirror_mode": {
    "name": "ipython",
    "version": 3
   },
   "file_extension": ".py",
   "mimetype": "text/x-python",
   "name": "python",
   "nbconvert_exporter": "python",
   "pygments_lexer": "ipython3",
   "version": "3.12.3"
  }
 },
 "nbformat": 4,
 "nbformat_minor": 2
}
