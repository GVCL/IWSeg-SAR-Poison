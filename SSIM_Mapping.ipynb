{
 "cells": [
  {
   "cell_type": "code",
   "execution_count": 51,
   "metadata": {},
   "outputs": [],
   "source": [
    "import cv2\n",
    "from skimage import data, img_as_float\n",
    "from skimage.metrics import structural_similarity as ssim\n",
    "import glob\n",
    "import os\n",
    "import re\n",
    "import pandas as pd\n",
    "import numpy as np"
   ]
  },
  {
   "cell_type": "code",
   "execution_count": 52,
   "metadata": {},
   "outputs": [],
   "source": [
    "def extract_number(filename):\n",
    "    # Extract the first number found in the filename\n",
    "    match = re.search(r'NDWI_Mask_(\\d+)_', filename)\n",
    "    if match:\n",
    "        return int(match.group(1))\n",
    "    return None\n",
    "\n",
    "def extract_number_from_path(path):\n",
    "    match = re.search(r'train_(\\d+)_', path)\n",
    "    return match.group(1) if match else None"
   ]
  },
  {
   "cell_type": "code",
   "execution_count": 53,
   "metadata": {},
   "outputs": [],
   "source": [
    "def ssim_compare(img1_path, img2_path) :\n",
    "    img1 = cv2.imread(img1_path, 0)\n",
    "    img2 = cv2.imread(img2_path, 0)\n",
    "    \n",
    "    ssim_score, dif = ssim(img1, img2, full=True)\n",
    "    return ssim_score"
   ]
  },
  {
   "cell_type": "code",
   "execution_count": 54,
   "metadata": {},
   "outputs": [],
   "source": [
    "def checkAssertion(src_tif_files, target_tif_files):\n",
    "\n",
    "    # Step 1: Assert that the two lists have the same size\n",
    "    assert len(src_tif_files) == len(target_tif_files), \"The two lists do not have the same size!\"\n",
    "\n",
    "    # Step 2: Compare the numbers at corresponding indices\n",
    "    for i in range(len(src_tif_files)):\n",
    "        num1 = extract_number(src_tif_files[i])\n",
    "        num2 = extract_number(target_tif_files[i])\n",
    "        \n",
    "        assert num1 == num2, f\"Number mismatch at index {i}: {num1} != {num2}\"\n",
    "    \n",
    "    return True\n",
    "    "
   ]
  },
  {
   "cell_type": "code",
   "execution_count": 55,
   "metadata": {},
   "outputs": [
    {
     "name": "stdout",
     "output_type": "stream",
     "text": [
      "['./GEE_Masks/GEE_resized/train_gee\\\\train_12_gee_with_diff_kernels', './GEE_Masks/GEE_resized/train_gee\\\\train_15_gee_with_diff_kernels', './GEE_Masks/GEE_resized/train_gee\\\\train_17_gee_with_diff_kernels', './GEE_Masks/GEE_resized/train_gee\\\\train_20_gee_with_diff_kernels', './GEE_Masks/GEE_resized/train_gee\\\\train_25_gee_with_diff_kernels', './GEE_Masks/GEE_resized/train_gee\\\\train_2_gee_with_diff_kernels', './GEE_Masks/GEE_resized/train_gee\\\\train_30_gee_with_diff_kernels']\n"
     ]
    }
   ],
   "source": [
    "parent_dir = './GEE_Masks/GEE_resized/train_gee'\n",
    "dirs = [os.path.join(parent_dir, d) for d in os.listdir(parent_dir) if os.path.isdir(os.path.join(parent_dir, d))]\n",
    "print(dirs)\n",
    "\n",
    "source_dir = './GEE_Masks/GEE_resized/train_gee'\n",
    "src_tif_files = sorted(glob.glob(os.path.join(source_dir, '*_resized.tif')))"
   ]
  },
  {
   "cell_type": "code",
   "execution_count": 56,
   "metadata": {},
   "outputs": [
    {
     "name": "stdout",
     "output_type": "stream",
     "text": [
      "Done 12%\n",
      "Done 15%\n",
      "Done 17%\n",
      "Done 20%\n",
      "Done 25%\n",
      "Done 2%\n",
      "Done 30%\n"
     ]
    }
   ],
   "source": [
    "numbers = []\n",
    "for i in range(len(src_tif_files)):\n",
    "    numbers.append(extract_number(src_tif_files[i]))\n",
    "\n",
    "dictionary = {\n",
    "    \"Image_Index\":numbers\n",
    "}\n",
    "\n",
    "for target_dir in dirs:\n",
    "\n",
    "    target_tif_files = sorted(glob.glob(os.path.join(target_dir, '*_resized_corrupt.tif')))\n",
    "    checkAssertion(src_tif_files, target_tif_files)\n",
    "    corruption = extract_number_from_path(target_dir)\n",
    "\n",
    "    key = f\"SSIM_{corruption}\"\n",
    "\n",
    "    ssims = []\n",
    "    for i in range(len(src_tif_files)):\n",
    "        ssims.append(ssim_compare(src_tif_files[i], target_tif_files[i]))\n",
    "\n",
    "    dictionary[key] = ssims\n",
    "    print(f\"Done {corruption}%\")"
   ]
  },
  {
   "cell_type": "code",
   "execution_count": 59,
   "metadata": {},
   "outputs": [],
   "source": [
    "df = pd.DataFrame(dictionary)\n",
    "\n",
    "ssim_cols = [col for col in df.columns if col.startswith('SSIM_')]\n",
    "\n",
    "# Sort SSIM columns by the numeric part\n",
    "sorted_ssim_cols = sorted(ssim_cols, key=lambda x: int(x.split('_')[1]))\n",
    "\n",
    "# Reorder the DataFrame columns: keep Image_Index and add sorted SSIM columns\n",
    "df = df[['Image_Index'] + sorted_ssim_cols]\n",
    "\n",
    "df.to_csv(\"./SSIM_Analysis/Demo.csv\", index=False)"
   ]
  },
  {
   "cell_type": "code",
   "execution_count": 47,
   "metadata": {},
   "outputs": [],
   "source": []
  }
 ],
 "metadata": {
  "kernelspec": {
   "display_name": "Python 3",
   "language": "python",
   "name": "python3"
  },
  "language_info": {
   "codemirror_mode": {
    "name": "ipython",
    "version": 3
   },
   "file_extension": ".py",
   "mimetype": "text/x-python",
   "name": "python",
   "nbconvert_exporter": "python",
   "pygments_lexer": "ipython3",
   "version": "3.9.13"
  }
 },
 "nbformat": 4,
 "nbformat_minor": 2
}
